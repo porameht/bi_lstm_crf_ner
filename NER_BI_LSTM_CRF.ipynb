{
  "cells": [
    {
      "cell_type": "markdown",
      "metadata": {
        "id": "view-in-github",
        "colab_type": "text"
      },
      "source": [
        "<a href=\"https://colab.research.google.com/github/porameht/bi_lstm_crf_ner/blob/main/NER_BI_LSTM_CRF.ipynb\" target=\"_parent\"><img src=\"https://colab.research.google.com/assets/colab-badge.svg\" alt=\"Open In Colab\"/></a>"
      ]
    },
    {
      "cell_type": "code",
      "execution_count": null,
      "metadata": {
        "colab": {
          "base_uri": "https://localhost:8080/"
        },
        "id": "npUdswbjaM_M",
        "outputId": "c1c2b6ff-def8-40c8-aeee-77cb0a2a78f2"
      },
      "outputs": [
        {
          "output_type": "stream",
          "name": "stdout",
          "text": [
            "Requirement already satisfied: pythainlp in /usr/local/lib/python3.10/dist-packages (5.0.4)\n",
            "Requirement already satisfied: nltk in /usr/local/lib/python3.10/dist-packages (3.8.1)\n",
            "Requirement already satisfied: tqdm in /usr/local/lib/python3.10/dist-packages (4.66.5)\n",
            "Requirement already satisfied: dill in /usr/local/lib/python3.10/dist-packages (0.3.8)\n",
            "Requirement already satisfied: scikit-learn in /usr/local/lib/python3.10/dist-packages (1.3.2)\n",
            "Requirement already satisfied: gensim in /usr/local/lib/python3.10/dist-packages (4.3.3)\n",
            "Requirement already satisfied: h5py in /usr/local/lib/python3.10/dist-packages (3.11.0)\n",
            "Requirement already satisfied: numpy in /usr/local/lib/python3.10/dist-packages (1.24.3)\n",
            "Requirement already satisfied: tensorflow in /usr/local/lib/python3.10/dist-packages (2.13.0)\n",
            "Requirement already satisfied: requests>=2.22.0 in /usr/local/lib/python3.10/dist-packages (from pythainlp) (2.32.3)\n",
            "Requirement already satisfied: click in /usr/local/lib/python3.10/dist-packages (from nltk) (8.1.7)\n",
            "Requirement already satisfied: joblib in /usr/local/lib/python3.10/dist-packages (from nltk) (1.4.2)\n",
            "Requirement already satisfied: regex>=2021.8.3 in /usr/local/lib/python3.10/dist-packages (from nltk) (2024.5.15)\n",
            "Requirement already satisfied: scipy>=1.5.0 in /usr/local/lib/python3.10/dist-packages (from scikit-learn) (1.13.1)\n",
            "Requirement already satisfied: threadpoolctl>=2.0.0 in /usr/local/lib/python3.10/dist-packages (from scikit-learn) (3.5.0)\n",
            "Requirement already satisfied: smart-open>=1.8.1 in /usr/local/lib/python3.10/dist-packages (from gensim) (7.0.4)\n",
            "Requirement already satisfied: absl-py>=1.0.0 in /usr/local/lib/python3.10/dist-packages (from tensorflow) (1.4.0)\n",
            "Requirement already satisfied: astunparse>=1.6.0 in /usr/local/lib/python3.10/dist-packages (from tensorflow) (1.6.3)\n",
            "Requirement already satisfied: flatbuffers>=23.1.21 in /usr/local/lib/python3.10/dist-packages (from tensorflow) (24.3.25)\n",
            "Requirement already satisfied: gast<=0.4.0,>=0.2.1 in /usr/local/lib/python3.10/dist-packages (from tensorflow) (0.4.0)\n",
            "Requirement already satisfied: google-pasta>=0.1.1 in /usr/local/lib/python3.10/dist-packages (from tensorflow) (0.2.0)\n",
            "Requirement already satisfied: grpcio<2.0,>=1.24.3 in /usr/local/lib/python3.10/dist-packages (from tensorflow) (1.64.1)\n",
            "Requirement already satisfied: keras<2.14,>=2.13.1 in /usr/local/lib/python3.10/dist-packages (from tensorflow) (2.13.1)\n",
            "Requirement already satisfied: libclang>=13.0.0 in /usr/local/lib/python3.10/dist-packages (from tensorflow) (18.1.1)\n",
            "Requirement already satisfied: opt-einsum>=2.3.2 in /usr/local/lib/python3.10/dist-packages (from tensorflow) (3.3.0)\n",
            "Requirement already satisfied: packaging in /usr/local/lib/python3.10/dist-packages (from tensorflow) (24.1)\n",
            "Requirement already satisfied: protobuf!=4.21.0,!=4.21.1,!=4.21.2,!=4.21.3,!=4.21.4,!=4.21.5,<5.0.0dev,>=3.20.3 in /usr/local/lib/python3.10/dist-packages (from tensorflow) (3.20.3)\n",
            "Requirement already satisfied: setuptools in /usr/local/lib/python3.10/dist-packages (from tensorflow) (71.0.4)\n",
            "Requirement already satisfied: six>=1.12.0 in /usr/local/lib/python3.10/dist-packages (from tensorflow) (1.16.0)\n",
            "Requirement already satisfied: tensorboard<2.14,>=2.13 in /usr/local/lib/python3.10/dist-packages (from tensorflow) (2.13.0)\n",
            "Requirement already satisfied: tensorflow-estimator<2.14,>=2.13.0 in /usr/local/lib/python3.10/dist-packages (from tensorflow) (2.13.0)\n",
            "Requirement already satisfied: termcolor>=1.1.0 in /usr/local/lib/python3.10/dist-packages (from tensorflow) (2.4.0)\n",
            "Requirement already satisfied: typing-extensions<4.6.0,>=3.6.6 in /usr/local/lib/python3.10/dist-packages (from tensorflow) (4.5.0)\n",
            "Requirement already satisfied: wrapt>=1.11.0 in /usr/local/lib/python3.10/dist-packages (from tensorflow) (1.16.0)\n",
            "Requirement already satisfied: tensorflow-io-gcs-filesystem>=0.23.1 in /usr/local/lib/python3.10/dist-packages (from tensorflow) (0.37.1)\n",
            "Requirement already satisfied: wheel<1.0,>=0.23.0 in /usr/local/lib/python3.10/dist-packages (from astunparse>=1.6.0->tensorflow) (0.44.0)\n",
            "Requirement already satisfied: charset-normalizer<4,>=2 in /usr/local/lib/python3.10/dist-packages (from requests>=2.22.0->pythainlp) (3.3.2)\n",
            "Requirement already satisfied: idna<4,>=2.5 in /usr/local/lib/python3.10/dist-packages (from requests>=2.22.0->pythainlp) (3.8)\n",
            "Requirement already satisfied: urllib3<3,>=1.21.1 in /usr/local/lib/python3.10/dist-packages (from requests>=2.22.0->pythainlp) (2.0.7)\n",
            "Requirement already satisfied: certifi>=2017.4.17 in /usr/local/lib/python3.10/dist-packages (from requests>=2.22.0->pythainlp) (2024.8.30)\n",
            "Requirement already satisfied: google-auth<3,>=1.6.3 in /usr/local/lib/python3.10/dist-packages (from tensorboard<2.14,>=2.13->tensorflow) (2.27.0)\n",
            "Requirement already satisfied: google-auth-oauthlib<1.1,>=0.5 in /usr/local/lib/python3.10/dist-packages (from tensorboard<2.14,>=2.13->tensorflow) (1.0.0)\n",
            "Requirement already satisfied: markdown>=2.6.8 in /usr/local/lib/python3.10/dist-packages (from tensorboard<2.14,>=2.13->tensorflow) (3.7)\n",
            "Requirement already satisfied: tensorboard-data-server<0.8.0,>=0.7.0 in /usr/local/lib/python3.10/dist-packages (from tensorboard<2.14,>=2.13->tensorflow) (0.7.2)\n",
            "Requirement already satisfied: werkzeug>=1.0.1 in /usr/local/lib/python3.10/dist-packages (from tensorboard<2.14,>=2.13->tensorflow) (3.0.4)\n",
            "Requirement already satisfied: cachetools<6.0,>=2.0.0 in /usr/local/lib/python3.10/dist-packages (from google-auth<3,>=1.6.3->tensorboard<2.14,>=2.13->tensorflow) (5.5.0)\n",
            "Requirement already satisfied: pyasn1-modules>=0.2.1 in /usr/local/lib/python3.10/dist-packages (from google-auth<3,>=1.6.3->tensorboard<2.14,>=2.13->tensorflow) (0.4.0)\n",
            "Requirement already satisfied: rsa<5,>=3.1.4 in /usr/local/lib/python3.10/dist-packages (from google-auth<3,>=1.6.3->tensorboard<2.14,>=2.13->tensorflow) (4.9)\n",
            "Requirement already satisfied: requests-oauthlib>=0.7.0 in /usr/local/lib/python3.10/dist-packages (from google-auth-oauthlib<1.1,>=0.5->tensorboard<2.14,>=2.13->tensorflow) (1.3.1)\n",
            "Requirement already satisfied: MarkupSafe>=2.1.1 in /usr/local/lib/python3.10/dist-packages (from werkzeug>=1.0.1->tensorboard<2.14,>=2.13->tensorflow) (2.1.5)\n",
            "Requirement already satisfied: pyasn1<0.7.0,>=0.4.6 in /usr/local/lib/python3.10/dist-packages (from pyasn1-modules>=0.2.1->google-auth<3,>=1.6.3->tensorboard<2.14,>=2.13->tensorflow) (0.6.0)\n",
            "Requirement already satisfied: oauthlib>=3.0.0 in /usr/local/lib/python3.10/dist-packages (from requests-oauthlib>=0.7.0->google-auth-oauthlib<1.1,>=0.5->tensorboard<2.14,>=2.13->tensorflow) (3.2.2)\n",
            "Requirement already satisfied: tensorflow==2.13.0 in /usr/local/lib/python3.10/dist-packages (2.13.0)\n",
            "Requirement already satisfied: tensorflow-addons==0.21.0 in /usr/local/lib/python3.10/dist-packages (0.21.0)\n",
            "Requirement already satisfied: absl-py>=1.0.0 in /usr/local/lib/python3.10/dist-packages (from tensorflow==2.13.0) (1.4.0)\n",
            "Requirement already satisfied: astunparse>=1.6.0 in /usr/local/lib/python3.10/dist-packages (from tensorflow==2.13.0) (1.6.3)\n",
            "Requirement already satisfied: flatbuffers>=23.1.21 in /usr/local/lib/python3.10/dist-packages (from tensorflow==2.13.0) (24.3.25)\n",
            "Requirement already satisfied: gast<=0.4.0,>=0.2.1 in /usr/local/lib/python3.10/dist-packages (from tensorflow==2.13.0) (0.4.0)\n",
            "Requirement already satisfied: google-pasta>=0.1.1 in /usr/local/lib/python3.10/dist-packages (from tensorflow==2.13.0) (0.2.0)\n",
            "Requirement already satisfied: grpcio<2.0,>=1.24.3 in /usr/local/lib/python3.10/dist-packages (from tensorflow==2.13.0) (1.64.1)\n",
            "Requirement already satisfied: h5py>=2.9.0 in /usr/local/lib/python3.10/dist-packages (from tensorflow==2.13.0) (3.11.0)\n",
            "Requirement already satisfied: keras<2.14,>=2.13.1 in /usr/local/lib/python3.10/dist-packages (from tensorflow==2.13.0) (2.13.1)\n",
            "Requirement already satisfied: libclang>=13.0.0 in /usr/local/lib/python3.10/dist-packages (from tensorflow==2.13.0) (18.1.1)\n",
            "Requirement already satisfied: numpy<=1.24.3,>=1.22 in /usr/local/lib/python3.10/dist-packages (from tensorflow==2.13.0) (1.24.3)\n",
            "Requirement already satisfied: opt-einsum>=2.3.2 in /usr/local/lib/python3.10/dist-packages (from tensorflow==2.13.0) (3.3.0)\n",
            "Requirement already satisfied: packaging in /usr/local/lib/python3.10/dist-packages (from tensorflow==2.13.0) (24.1)\n",
            "Requirement already satisfied: protobuf!=4.21.0,!=4.21.1,!=4.21.2,!=4.21.3,!=4.21.4,!=4.21.5,<5.0.0dev,>=3.20.3 in /usr/local/lib/python3.10/dist-packages (from tensorflow==2.13.0) (3.20.3)\n",
            "Requirement already satisfied: setuptools in /usr/local/lib/python3.10/dist-packages (from tensorflow==2.13.0) (71.0.4)\n",
            "Requirement already satisfied: six>=1.12.0 in /usr/local/lib/python3.10/dist-packages (from tensorflow==2.13.0) (1.16.0)\n",
            "Requirement already satisfied: tensorboard<2.14,>=2.13 in /usr/local/lib/python3.10/dist-packages (from tensorflow==2.13.0) (2.13.0)\n",
            "Requirement already satisfied: tensorflow-estimator<2.14,>=2.13.0 in /usr/local/lib/python3.10/dist-packages (from tensorflow==2.13.0) (2.13.0)\n",
            "Requirement already satisfied: termcolor>=1.1.0 in /usr/local/lib/python3.10/dist-packages (from tensorflow==2.13.0) (2.4.0)\n",
            "Requirement already satisfied: typing-extensions<4.6.0,>=3.6.6 in /usr/local/lib/python3.10/dist-packages (from tensorflow==2.13.0) (4.5.0)\n",
            "Requirement already satisfied: wrapt>=1.11.0 in /usr/local/lib/python3.10/dist-packages (from tensorflow==2.13.0) (1.16.0)\n",
            "Requirement already satisfied: tensorflow-io-gcs-filesystem>=0.23.1 in /usr/local/lib/python3.10/dist-packages (from tensorflow==2.13.0) (0.37.1)\n",
            "Requirement already satisfied: typeguard<3.0.0,>=2.7 in /usr/local/lib/python3.10/dist-packages (from tensorflow-addons==0.21.0) (2.13.3)\n",
            "Requirement already satisfied: wheel<1.0,>=0.23.0 in /usr/local/lib/python3.10/dist-packages (from astunparse>=1.6.0->tensorflow==2.13.0) (0.44.0)\n",
            "Requirement already satisfied: google-auth<3,>=1.6.3 in /usr/local/lib/python3.10/dist-packages (from tensorboard<2.14,>=2.13->tensorflow==2.13.0) (2.27.0)\n",
            "Requirement already satisfied: google-auth-oauthlib<1.1,>=0.5 in /usr/local/lib/python3.10/dist-packages (from tensorboard<2.14,>=2.13->tensorflow==2.13.0) (1.0.0)\n",
            "Requirement already satisfied: markdown>=2.6.8 in /usr/local/lib/python3.10/dist-packages (from tensorboard<2.14,>=2.13->tensorflow==2.13.0) (3.7)\n",
            "Requirement already satisfied: requests<3,>=2.21.0 in /usr/local/lib/python3.10/dist-packages (from tensorboard<2.14,>=2.13->tensorflow==2.13.0) (2.32.3)\n",
            "Requirement already satisfied: tensorboard-data-server<0.8.0,>=0.7.0 in /usr/local/lib/python3.10/dist-packages (from tensorboard<2.14,>=2.13->tensorflow==2.13.0) (0.7.2)\n",
            "Requirement already satisfied: werkzeug>=1.0.1 in /usr/local/lib/python3.10/dist-packages (from tensorboard<2.14,>=2.13->tensorflow==2.13.0) (3.0.4)\n",
            "Requirement already satisfied: cachetools<6.0,>=2.0.0 in /usr/local/lib/python3.10/dist-packages (from google-auth<3,>=1.6.3->tensorboard<2.14,>=2.13->tensorflow==2.13.0) (5.5.0)\n",
            "Requirement already satisfied: pyasn1-modules>=0.2.1 in /usr/local/lib/python3.10/dist-packages (from google-auth<3,>=1.6.3->tensorboard<2.14,>=2.13->tensorflow==2.13.0) (0.4.0)\n",
            "Requirement already satisfied: rsa<5,>=3.1.4 in /usr/local/lib/python3.10/dist-packages (from google-auth<3,>=1.6.3->tensorboard<2.14,>=2.13->tensorflow==2.13.0) (4.9)\n",
            "Requirement already satisfied: requests-oauthlib>=0.7.0 in /usr/local/lib/python3.10/dist-packages (from google-auth-oauthlib<1.1,>=0.5->tensorboard<2.14,>=2.13->tensorflow==2.13.0) (1.3.1)\n",
            "Requirement already satisfied: charset-normalizer<4,>=2 in /usr/local/lib/python3.10/dist-packages (from requests<3,>=2.21.0->tensorboard<2.14,>=2.13->tensorflow==2.13.0) (3.3.2)\n",
            "Requirement already satisfied: idna<4,>=2.5 in /usr/local/lib/python3.10/dist-packages (from requests<3,>=2.21.0->tensorboard<2.14,>=2.13->tensorflow==2.13.0) (3.8)\n",
            "Requirement already satisfied: urllib3<3,>=1.21.1 in /usr/local/lib/python3.10/dist-packages (from requests<3,>=2.21.0->tensorboard<2.14,>=2.13->tensorflow==2.13.0) (2.0.7)\n",
            "Requirement already satisfied: certifi>=2017.4.17 in /usr/local/lib/python3.10/dist-packages (from requests<3,>=2.21.0->tensorboard<2.14,>=2.13->tensorflow==2.13.0) (2024.8.30)\n",
            "Requirement already satisfied: MarkupSafe>=2.1.1 in /usr/local/lib/python3.10/dist-packages (from werkzeug>=1.0.1->tensorboard<2.14,>=2.13->tensorflow==2.13.0) (2.1.5)\n",
            "Requirement already satisfied: pyasn1<0.7.0,>=0.4.6 in /usr/local/lib/python3.10/dist-packages (from pyasn1-modules>=0.2.1->google-auth<3,>=1.6.3->tensorboard<2.14,>=2.13->tensorflow==2.13.0) (0.6.0)\n",
            "Requirement already satisfied: oauthlib>=3.0.0 in /usr/local/lib/python3.10/dist-packages (from requests-oauthlib>=0.7.0->google-auth-oauthlib<1.1,>=0.5->tensorboard<2.14,>=2.13->tensorflow==2.13.0) (3.2.2)\n"
          ]
        }
      ],
      "source": [
        "!pip install pythainlp nltk tqdm dill scikit-learn gensim h5py numpy tensorflow\n",
        "!pip install tensorflow==2.13.0 tensorflow-addons==0.21.0\n",
        "# !pip install --upgrade tensorflow==2.17.0 tensorflow-addons==0.23.0 typeguard>=4.0.1 inflect==7.3.1"
      ]
    },
    {
      "cell_type": "code",
      "execution_count": null,
      "metadata": {
        "id": "h2XlBcj4aVFD"
      },
      "outputs": [],
      "source": [
        "import pickle\n",
        "\n",
        "import json\n",
        "\n",
        "import numpy as np\n",
        "import dill\n",
        "import re\n",
        "from sklearn.model_selection import train_test_split\n",
        "from gensim.models import KeyedVectors\n",
        "from tqdm import tqdm\n",
        "from sklearn.preprocessing import LabelBinarizer\n",
        "from itertools import chain\n",
        "from sklearn.metrics import classification_report"
      ]
    },
    {
      "cell_type": "code",
      "execution_count": null,
      "metadata": {
        "id": "73cQMrxTcMh1"
      },
      "outputs": [],
      "source": [
        "with open('/content/drive/MyDrive/address-ner-trainer/dataset/ner.data', 'rb') as file:\n",
        "    datatofile = dill.load(file)\n",
        "\n",
        "with open('/content/drive/MyDrive/address-ner-trainer/dataset/ner.data', 'rb') as file:\n",
        "    nertofile = dill.load(file)\n",
        "\n",
        "\n",
        "tagged_sents = []\n",
        "prefixs = ['นาย', 'นาง', 'น.ส.', 'นางสาว', 'น.พ.', 'นพ.', 'พ.ต.ท.']\n",
        "\n",
        "def replace_prefix(text):\n",
        "    for i in prefixs:\n",
        "        text = text.replace(i, '')\n",
        "    return text\n",
        "\n",
        "for i in datatofile:\n",
        "    is_contain_prefix = False\n",
        "    text_inside = []\n",
        "    if(len(i) <= 1):\n",
        "        continue\n",
        "    for idx, j in enumerate(i):\n",
        "        tag = j[2]\n",
        "        if('ไม่ยืนยัน' in j[1]):\n",
        "            tag = 'O'\n",
        "        if(any([prefix in j[0] for prefix in prefixs])):\n",
        "            is_contain_prefix = True\n",
        "        ## Add S and E tag\n",
        "#         if('B-' in tag):\n",
        "#             if(idx == len(i)-1 or 'I-' not in i[idx+1][1]):\n",
        "#                 tag = tag.replace('B-', 'S-')\n",
        "#         if('I-' in tag):\n",
        "#             if(idx == len(i)-1 or 'I-' not in i[idx+1][1]):\n",
        "#                 tag = tag.replace('I-', 'E-')\n",
        "\n",
        "        text_inside.append((j[0],tag))\n",
        "    tagged_sents.append(text_inside)\n",
        "\n",
        "\n",
        "    if(is_contain_prefix):\n",
        "        dup_text_inside = []\n",
        "        for word, tag in text_inside:\n",
        "            word = replace_prefix(word)\n",
        "            if(word == ''):\n",
        "                continue\n",
        "            else:\n",
        "                dup_text_inside.append((word, tag))\n",
        "        tagged_sents.append(dup_text_inside)\n",
        "\n",
        "train_sents, test_sents= train_test_split(tagged_sents, test_size=0.1, random_state=112)"
      ]
    },
    {
      "cell_type": "code",
      "source": [
        "import matplotlib.pyplot as plt\n",
        "import numpy as np\n",
        "from collections import Counter\n",
        "\n",
        "def count_ner_tags(data):\n",
        "    all_tags = [tag for sentence in data for _, _, tag in sentence]\n",
        "    return Counter(all_tags)\n",
        "\n",
        "def plot_ner_distribution(datatofile, nertofile):\n",
        "    datatofile_counts = count_ner_tags(datatofile)\n",
        "    nertofile_counts = count_ner_tags(nertofile)\n",
        "\n",
        "    all_tags = sorted(set(list(datatofile_counts.keys()) + list(nertofile_counts.keys())))\n",
        "\n",
        "    # Calculate percentages\n",
        "    total_datatofile = sum(datatofile_counts.values())\n",
        "    total_nertofile = sum(nertofile_counts.values())\n",
        "\n",
        "    datatofile_percentages = [datatofile_counts.get(tag, 0) / total_datatofile * 100 for tag in all_tags]\n",
        "    nertofile_percentages = [nertofile_counts.get(tag, 0) / total_nertofile * 100 for tag in all_tags]\n",
        "\n",
        "    x = np.arange(len(all_tags))\n",
        "    width = 0.35\n",
        "\n",
        "    fig, ax = plt.subplots(figsize=(20, 10))\n",
        "    rects1 = ax.bar(x - width/2, datatofile_percentages, width, label='datatofile')\n",
        "    rects2 = ax.bar(x + width/2, nertofile_percentages, width, label='nertofile')\n",
        "\n",
        "    ax.set_ylabel('Percentage')\n",
        "    ax.set_title('Distribution of NER Tags (Percentage)')\n",
        "    ax.set_xticks(x)\n",
        "    ax.set_xticklabels(all_tags, rotation=90)\n",
        "    ax.legend()\n",
        "\n",
        "    # Add value labels on top of each bar\n",
        "    def autolabel(rects):\n",
        "        for rect in rects:\n",
        "            height = rect.get_height()\n",
        "            ax.annotate(f'{height:.1f}%',\n",
        "                        xy=(rect.get_x() + rect.get_width() / 2, height),\n",
        "                        xytext=(0, 3),  # 3 points vertical offset\n",
        "                        textcoords=\"offset points\",\n",
        "                        ha='center', va='bottom', rotation=90)\n",
        "\n",
        "    autolabel(rects1)\n",
        "    autolabel(rects2)\n",
        "\n",
        "    plt.tight_layout()\n",
        "    plt.show()\n",
        "\n",
        "    # Print top 10 most common tags for each dataset\n",
        "    print(\"Top 10 most common tags in datatofile:\")\n",
        "    for tag, count in datatofile_counts.most_common(10):\n",
        "        print(f\"{tag}: {count} ({count/total_datatofile*100:.2f}%)\")\n",
        "\n",
        "    print(\"\\nTop 10 most common tags in nertofile:\")\n",
        "    for tag, count in nertofile_counts.most_common(10):\n",
        "        print(f\"{tag}: {count} ({count/total_nertofile*100:.2f}%)\")\n",
        "\n",
        "# Assuming datatofile and nertofile are already loaded\n",
        "plot_ner_distribution(datatofile, nertofile)"
      ],
      "metadata": {
        "colab": {
          "base_uri": "https://localhost:8080/",
          "height": 992
        },
        "id": "gAsTWhJqXXDX",
        "outputId": "be0ecad4-7284-4146-d6f3-5cea6bfd4c3b"
      },
      "execution_count": null,
      "outputs": [
        {
          "output_type": "stream",
          "name": "stderr",
          "text": [
            "<ipython-input-42-1f82cb2e9ea2>:48: UserWarning: Glyph 3652 (\\N{THAI CHARACTER SARA AI MAIMALAI}) missing from current font.\n",
            "  plt.tight_layout()\n",
            "<ipython-input-42-1f82cb2e9ea2>:48: UserWarning: Glyph 3617 (\\N{THAI CHARACTER MO MA}) missing from current font.\n",
            "  plt.tight_layout()\n",
            "<ipython-input-42-1f82cb2e9ea2>:48: UserWarning: Glyph 3656 (\\N{THAI CHARACTER MAI EK}) missing from current font.\n",
            "  plt.tight_layout()\n",
            "<ipython-input-42-1f82cb2e9ea2>:48: UserWarning: Glyph 3618 (\\N{THAI CHARACTER YO YAK}) missing from current font.\n",
            "  plt.tight_layout()\n",
            "<ipython-input-42-1f82cb2e9ea2>:48: UserWarning: Glyph 3639 (\\N{THAI CHARACTER SARA UEE}) missing from current font.\n",
            "  plt.tight_layout()\n",
            "<ipython-input-42-1f82cb2e9ea2>:48: UserWarning: Glyph 3609 (\\N{THAI CHARACTER NO NU}) missing from current font.\n",
            "  plt.tight_layout()\n",
            "<ipython-input-42-1f82cb2e9ea2>:48: UserWarning: Glyph 3633 (\\N{THAI CHARACTER MAI HAN-AKAT}) missing from current font.\n",
            "  plt.tight_layout()\n"
          ]
        },
        {
          "output_type": "display_data",
          "data": {
            "text/plain": [
              "<Figure size 2000x1000 with 1 Axes>"
            ],
            "image/png": "[encoded data removed]"
          },
          "metadata": {}
        },
        {
          "output_type": "stream",
          "name": "stdout",
          "text": [
            "Top 10 most common tags in datatofile:\n",
            "O: 196613 (79.53%)\n",
            "I-PERSON: 11539 (4.67%)\n",
            "I-ORGANIZATION: 6765 (2.74%)\n",
            "B-ORGANIZATION: 5577 (2.26%)\n",
            "I-LOCATION: 4752 (1.92%)\n",
            "B-LOCATION: 4492 (1.82%)\n",
            "I-DATE: 3853 (1.56%)\n",
            "B-PERSON: 3159 (1.28%)\n",
            "B-DATE: 1825 (0.74%)\n",
            "I-TIME: 1790 (0.72%)\n",
            "\n",
            "Top 10 most common tags in nertofile:\n",
            "O: 305906 (79.17%)\n",
            "I-PERSON: 21678 (5.61%)\n",
            "I-ORGANIZATION: 10395 (2.69%)\n",
            "B-ORGANIZATION: 8540 (2.21%)\n",
            "I-LOCATION: 7194 (1.86%)\n",
            "B-LOCATION: 6555 (1.70%)\n",
            "B-PERSON: 6486 (1.68%)\n",
            "I-DATE: 5667 (1.47%)\n",
            "B-DATE: 2797 (0.72%)\n",
            "I-TIME: 2509 (0.65%)\n"
          ]
        }
      ]
    },
    {
      "cell_type": "code",
      "source": [
        "import matplotlib.pyplot as plt\n",
        "import numpy as np\n",
        "from collections import Counter\n",
        "from sklearn.model_selection import train_test_split\n",
        "import dill\n",
        "\n",
        "def load_data(file_path):\n",
        "    with open(file_path, 'rb') as file:\n",
        "        return dill.load(file)\n",
        "\n",
        "def replace_prefix(text, prefixs):\n",
        "    for prefix in prefixs:\n",
        "        text = text.replace(prefix, '')\n",
        "    return text\n",
        "\n",
        "def process_data(data, prefixs):\n",
        "    tagged_sents = []\n",
        "    for sentence in data:\n",
        "        if len(sentence) <= 1:\n",
        "            continue\n",
        "        text_inside = []\n",
        "        is_contain_prefix = False\n",
        "        for idx, (word, pos, tag) in enumerate(sentence):\n",
        "            if 'ไม่ยืนยัน' in pos:\n",
        "                tag = 'O'\n",
        "            if any(prefix in word for prefix in prefixs):\n",
        "                is_contain_prefix = True\n",
        "            text_inside.append((word, tag))\n",
        "\n",
        "        tagged_sents.append(text_inside)\n",
        "\n",
        "        if is_contain_prefix:\n",
        "            dup_text_inside = [(replace_prefix(word, prefixs), tag) for word, tag in text_inside if replace_prefix(word, prefixs) != '']\n",
        "            tagged_sents.append(dup_text_inside)\n",
        "\n",
        "    return tagged_sents\n",
        "\n",
        "def count_ner_tags(data):\n",
        "    all_tags = [tag for sentence in data for _, tag in sentence]\n",
        "    return Counter(all_tags)\n",
        "\n",
        "def plot_ner_distribution(combined_data):\n",
        "    tag_counts = count_ner_tags(combined_data)\n",
        "    total_tags = sum(tag_counts.values())\n",
        "\n",
        "    # Sort tags by frequency\n",
        "    sorted_tags = sorted(tag_counts.items(), key=lambda x: x[1], reverse=True)\n",
        "    tags, counts = zip(*sorted_tags)\n",
        "\n",
        "    percentages = [count / total_tags * 100 for count in counts]\n",
        "\n",
        "    fig, ax = plt.subplots(figsize=(20, 10))\n",
        "    bars = ax.bar(tags, percentages)\n",
        "\n",
        "    ax.set_ylabel('Percentage')\n",
        "    ax.set_title('Distribution of NER Tags in Combined Data')\n",
        "    ax.set_xticks(range(len(tags)))\n",
        "    ax.set_xticklabels(tags, rotation=90)\n",
        "\n",
        "    # Add value labels on top of each bar\n",
        "    for bar in bars:\n",
        "        height = bar.get_height()\n",
        "        ax.annotate(f'{height:.2f}%',\n",
        "                    xy=(bar.get_x() + bar.get_width() / 2, height),\n",
        "                    xytext=(0, 3),  # 3 points vertical offset\n",
        "                    textcoords=\"offset points\",\n",
        "                    ha='center', va='bottom', rotation=90)\n",
        "\n",
        "    plt.tight_layout()\n",
        "    plt.show()\n",
        "\n",
        "    # Print summary of tag distribution\n",
        "    print(\"Summary of NER Tag Distribution:\")\n",
        "    print(f\"{'Tag':<15}{'Count':<10}{'Percentage':<10}\")\n",
        "    print(\"-\" * 35)\n",
        "    for tag, count in sorted_tags:\n",
        "        percentage = count / total_tags * 100\n",
        "        print(f\"{tag:<15}{count:<10}{percentage:.2f}%\")\n",
        "\n",
        "# Main execution\n",
        "datatofile = load_data('/content/drive/MyDrive/address-ner-trainer/dataset/datatrain.data')\n",
        "nertofile = load_data('/content/drive/MyDrive/address-ner-trainer/dataset/ner.data')\n",
        "\n",
        "prefixs = ['นาย', 'นาง', 'น.ส.', 'นางสาว', 'น.พ.', 'นพ.', 'พ.ต.ท.']\n",
        "\n",
        "processed_datatofile = process_data(datatofile, prefixs)\n",
        "processed_nertofile = process_data(nertofile, prefixs)\n",
        "\n",
        "combined_data = processed_datatofile + processed_nertofile\n",
        "\n",
        "train_sents, test_sents = train_test_split(combined_data, test_size=0.1, random_state=112)\n",
        "\n",
        "plot_ner_distribution(combined_data)\n",
        "\n",
        "print(f\"\\nTotal number of sentences: {len(combined_data)}\")\n",
        "print(f\"Number of training sentences: {len(train_sents)}\")\n",
        "print(f\"Number of test sentences: {len(test_sents)}\")"
      ],
      "metadata": {
        "colab": {
          "base_uri": "https://localhost:8080/",
          "height": 1000
        },
        "id": "HrvZlts6WTY0",
        "outputId": "7a8d64ef-4bf5-4764-e6dc-8077978f7b98"
      },
      "execution_count": null,
      "outputs": [
        {
          "output_type": "stream",
          "name": "stderr",
          "text": [
            "<ipython-input-3-cfce97055756>:69: UserWarning: Glyph 3652 (\\N{THAI CHARACTER SARA AI MAIMALAI}) missing from current font.\n",
            "  plt.tight_layout()\n",
            "<ipython-input-3-cfce97055756>:69: UserWarning: Glyph 3617 (\\N{THAI CHARACTER MO MA}) missing from current font.\n",
            "  plt.tight_layout()\n",
            "<ipython-input-3-cfce97055756>:69: UserWarning: Glyph 3656 (\\N{THAI CHARACTER MAI EK}) missing from current font.\n",
            "  plt.tight_layout()\n",
            "<ipython-input-3-cfce97055756>:69: UserWarning: Glyph 3618 (\\N{THAI CHARACTER YO YAK}) missing from current font.\n",
            "  plt.tight_layout()\n",
            "<ipython-input-3-cfce97055756>:69: UserWarning: Glyph 3639 (\\N{THAI CHARACTER SARA UEE}) missing from current font.\n",
            "  plt.tight_layout()\n",
            "<ipython-input-3-cfce97055756>:69: UserWarning: Glyph 3609 (\\N{THAI CHARACTER NO NU}) missing from current font.\n",
            "  plt.tight_layout()\n",
            "<ipython-input-3-cfce97055756>:69: UserWarning: Glyph 3633 (\\N{THAI CHARACTER MAI HAN-AKAT}) missing from current font.\n",
            "  plt.tight_layout()\n",
            "/usr/local/lib/python3.10/dist-packages/IPython/core/pylabtools.py:151: UserWarning: Glyph 3652 (\\N{THAI CHARACTER SARA AI MAIMALAI}) missing from current font.\n",
            "  fig.canvas.print_figure(bytes_io, **kw)\n",
            "/usr/local/lib/python3.10/dist-packages/IPython/core/pylabtools.py:151: UserWarning: Glyph 3617 (\\N{THAI CHARACTER MO MA}) missing from current font.\n",
            "  fig.canvas.print_figure(bytes_io, **kw)\n",
            "/usr/local/lib/python3.10/dist-packages/IPython/core/pylabtools.py:151: UserWarning: Glyph 3656 (\\N{THAI CHARACTER MAI EK}) missing from current font.\n",
            "  fig.canvas.print_figure(bytes_io, **kw)\n",
            "/usr/local/lib/python3.10/dist-packages/IPython/core/pylabtools.py:151: UserWarning: Glyph 3618 (\\N{THAI CHARACTER YO YAK}) missing from current font.\n",
            "  fig.canvas.print_figure(bytes_io, **kw)\n",
            "/usr/local/lib/python3.10/dist-packages/IPython/core/pylabtools.py:151: UserWarning: Glyph 3639 (\\N{THAI CHARACTER SARA UEE}) missing from current font.\n",
            "  fig.canvas.print_figure(bytes_io, **kw)\n",
            "/usr/local/lib/python3.10/dist-packages/IPython/core/pylabtools.py:151: UserWarning: Glyph 3609 (\\N{THAI CHARACTER NO NU}) missing from current font.\n",
            "  fig.canvas.print_figure(bytes_io, **kw)\n",
            "/usr/local/lib/python3.10/dist-packages/IPython/core/pylabtools.py:151: UserWarning: Glyph 3633 (\\N{THAI CHARACTER MAI HAN-AKAT}) missing from current font.\n",
            "  fig.canvas.print_figure(bytes_io, **kw)\n"
          ]
        },
        {
          "output_type": "display_data",
          "data": {
            "text/plain": [
              "<Figure size 2000x1000 with 1 Axes>"
            ],
            "image/png": "[encoded data removed]"
          },
          "metadata": {}
        },
        {
          "output_type": "stream",
          "name": "stdout",
          "text": [
            "Summary of NER Tag Distribution:\n",
            "Tag            Count     Percentage\n",
            "-----------------------------------\n",
            "O              676227    78.89%\n",
            "I-PERSON       51431     6.00%\n",
            "I-ORGANIZATION 23223     2.71%\n",
            "B-ORGANIZATION 18601     2.17%\n",
            "I-LOCATION     16645     1.94%\n",
            "B-LOCATION     14708     1.72%\n",
            "I-DATE         13271     1.55%\n",
            "B-PERSON       12467     1.45%\n",
            "B-DATE         6446      0.75%\n",
            "I-TIME         5649      0.66%\n",
            "I-MONEY        3810      0.44%\n",
            "I-URL          3670      0.43%\n",
            "B-TIME         2901      0.34%\n",
            "I-LAW          2242      0.26%\n",
            "B-MONEY        1546      0.18%\n",
            "I-LEN          795       0.09%\n",
            "B-LAW          744       0.09%\n",
            "I-PERCENT      711       0.08%\n",
            "I-PHONE        596       0.07%\n",
            "B-PERCENT      452       0.05%\n",
            "B-LEN          365       0.04%\n",
            "B-URL          258       0.03%\n",
            "B-PHONE        224       0.03%\n",
            "I-EMAIL        122       0.01%\n",
            "B-ZIP          52        0.01%\n",
            "B-EMAIL        25        0.00%\n",
            "I-ไม่ยืนยัน    4         0.00%\n",
            "B-ไม่ยืนยัน    1         0.00%\n",
            "\n",
            "Total number of sentences: 17682\n",
            "Number of training sentences: 15913\n",
            "Number of test sentences: 1769\n"
          ]
        }
      ]
    },
    {
      "cell_type": "code",
      "execution_count": null,
      "metadata": {
        "id": "cXQpxBmWcRJY"
      },
      "outputs": [],
      "source": [
        "thai2fit_model = KeyedVectors.load_word2vec_format('/content/drive/MyDrive/address-ner-trainer/thai2fit/thai2vecNoSym.bin',binary=True)\n",
        "thai2fit_weight = thai2fit_model.vectors"
      ]
    },
    {
      "cell_type": "code",
      "execution_count": null,
      "metadata": {
        "colab": {
          "base_uri": "https://localhost:8080/"
        },
        "id": "gy7Uclw0cdVP",
        "outputId": "2b134c0b-e4b8-4426-fca7-67ff6003de5a"
      },
      "outputs": [
        {
          "output_type": "execute_result",
          "data": {
            "text/plain": [
              "array([[ 0.5691334 , -0.3733283 , -1.3620111 , ..., -0.11167767,\n",
              "         0.00160926,  0.1423377 ],\n",
              "       [ 0.8621748 ,  0.6304329 , -0.9730983 , ..., -0.2804809 ,\n",
              "        -0.06645714, -0.03262454],\n",
              "       [-0.01695964,  0.14895475, -1.0105608 , ..., -0.34607837,\n",
              "        -0.06187863,  0.15685362],\n",
              "       ...,\n",
              "       [ 0.6418853 ,  0.21489567, -0.13987012, ..., -0.13923308,\n",
              "         0.1846008 ,  0.40389898],\n",
              "       [ 0.53645283,  0.20945884, -0.12532134, ..., -0.19032255,\n",
              "         0.42437807,  0.37765843],\n",
              "       [ 0.6157714 , -0.01145995, -0.16874076, ..., -0.18503019,\n",
              "         0.3679345 ,  0.35344028]], dtype=float32)"
            ]
          },
          "metadata": {},
          "execution_count": 5
        }
      ],
      "source": [
        "thai2fit_weight"
      ]
    },
    {
      "cell_type": "code",
      "execution_count": null,
      "metadata": {
        "colab": {
          "base_uri": "https://localhost:8080/"
        },
        "id": "BoS9i-P5cf8t",
        "outputId": "2901e5cd-27e2-4184-daa2-9ef8bd859e09"
      },
      "outputs": [
        {
          "output_type": "stream",
          "name": "stdout",
          "text": [
            "Number of words: 16972\n",
            "Number of NER tags: 29\n",
            "Number of Thai2Dict entries: 55677\n"
          ]
        }
      ],
      "source": [
        "word_list = []\n",
        "ner_list = []\n",
        "thai2dict = {}\n",
        "\n",
        "for sent in train_sents:\n",
        "    for word in sent:\n",
        "        word_list.append(word[0])\n",
        "        ner_list.append(word[1])\n",
        "\n",
        "# Updated this line to use index_to_key instead of index2word\n",
        "for word in thai2fit_model.index_to_key:\n",
        "    thai2dict[word] = thai2fit_model[word]\n",
        "\n",
        "word_list.append(\"pad\")\n",
        "word_list.append(\"unknown\")  # Special Token for Unknown words (\"UNK\")\n",
        "ner_list.append(\"pad\")\n",
        "\n",
        "all_words = sorted(set(word_list))\n",
        "all_ner = sorted(set(ner_list))\n",
        "all_thai2dict = sorted(set(thai2dict))\n",
        "\n",
        "word_to_ix = dict((c, i) for i, c in enumerate(all_words))  # convert word to index\n",
        "ner_to_ix = dict((c, i) for i, c in enumerate(all_ner))  # convert ner to index\n",
        "thai2dict_to_ix = dict((c, i) for i, c in enumerate(thai2dict))  # convert thai2fit to index\n",
        "\n",
        "ix_to_word = dict((v,k) for k,v in word_to_ix.items())  # convert index to word\n",
        "ix_to_ner = dict((v,k) for k,v in ner_to_ix.items())  # convert index to ner\n",
        "ix_to_thai2dict = dict((v,k) for k,v in thai2dict_to_ix.items())  # convert index to thai2fit\n",
        "\n",
        "n_word = len(word_to_ix)\n",
        "n_tag = len(ner_to_ix)\n",
        "n_thai2dict = len(thai2dict_to_ix)\n",
        "\n",
        "print(f\"Number of words: {n_word}\")\n",
        "print(f\"Number of NER tags: {n_tag}\")\n",
        "print(f\"Number of Thai2Dict entries: {n_thai2dict}\")"
      ]
    },
    {
      "cell_type": "code",
      "execution_count": null,
      "metadata": {
        "id": "dz_d4jqGctaZ"
      },
      "outputs": [],
      "source": [
        "chars = set([w_i for w in thai2dict for w_i in w])\n",
        "char2idx = {c: i + 5 for i, c in enumerate(chars)}\n",
        "\n",
        "char2idx[\"pad\"] = 0\n",
        "char2idx[\"unknown\"] = 1\n",
        "char2idx[\" \"] = 2\n",
        "\n",
        "char2idx[\"$\"] = 3\n",
        "char2idx[\"#\"] = 4\n",
        "char2idx[\"!\"] = 5\n",
        "char2idx[\"%\"] = 6\n",
        "char2idx[\"&\"] = 7\n",
        "char2idx[\"*\"] = 8\n",
        "char2idx[\"+\"] = 9\n",
        "char2idx[\",\"] = 10\n",
        "char2idx[\"-\"] = 11\n",
        "char2idx[\".\"] = 12\n",
        "char2idx[\"/\"] = 13\n",
        "char2idx[\":\"] = 14\n",
        "char2idx[\";\"] = 15\n",
        "char2idx[\"?\"] = 16\n",
        "char2idx[\"@\"] = 17\n",
        "char2idx[\"^\"] = 18\n",
        "char2idx[\"_\"] = 19\n",
        "char2idx[\"`\"] = 20\n",
        "char2idx[\"=\"] = 21\n",
        "char2idx[\"|\"] = 22\n",
        "char2idx[\"~\"] = 23\n",
        "char2idx[\"'\"] = 24\n",
        "char2idx['\"'] = 25\n",
        "\n",
        "char2idx[\"(\"] = 26\n",
        "char2idx[\")\"] = 27\n",
        "char2idx[\"{\"] = 28\n",
        "char2idx[\"}\"] = 29\n",
        "char2idx[\"<\"] = 30\n",
        "char2idx[\">\"] = 31\n",
        "char2idx[\"[\"] = 32\n",
        "char2idx[\"]\"] = 33\n",
        "char2idx[\"\\n\"] = 34\n",
        "\n",
        "n_chars = len(char2idx)"
      ]
    },
    {
      "cell_type": "code",
      "execution_count": null,
      "metadata": {
        "id": "hKW2YDB_czZN"
      },
      "outputs": [],
      "source": [
        "# with open('/content/drive/MyDrive/address-ner-trainer/save_data_trained/chardict.json', 'w') as chardict:\n",
        "#     json.dump(char2idx, chardict)\n",
        "# with open('/content/drive/MyDrive/address-ner-trainer/save_data_trained/nerdict.json', 'w') as nerdict:\n",
        "#     json.dump(ner_to_ix, nerdict)\n",
        "# with open('/content/drive/MyDrive/address-ner-trainer/save_data_trained/thai2dict_to_ix.json', 'w') as f:\n",
        "#     json.dump(thai2dict_to_ix, f)"
      ]
    },
    {
      "cell_type": "code",
      "execution_count": null,
      "metadata": {
        "id": "mocuvGShdDjj"
      },
      "outputs": [],
      "source": [
        "# max_len = 284\n",
        "# max_len_char = 30\n",
        "\n",
        "# character_LSTM_unit = 32\n",
        "# char_embedding_dim = 32\n",
        "# main_lstm_unit = 256 ## Bidirectional 256 + 256 = 512\n",
        "# lstm_recurrent_dropout = 0.5\n",
        "\n",
        "# train_batch_size = 32\n",
        "# train_epochs = 150\n",
        "\n",
        "# กำหนดค่าพารามิเตอร์\n",
        "max_len = 120 #284\n",
        "max_len_char = 30\n",
        "character_LSTM_unit = 32\n",
        "char_embedding_dim = 32\n",
        "main_lstm_unit = 256  # Bidirectional 256 + 256 = 512\n",
        "lstm_recurrent_dropout = 0.5\n",
        "n_tag = 29  # จำนวน tag ที่ใช้ (ปรับตามจำนวนจริงในโมเดลของคุณ)\n"
      ]
    },
    {
      "cell_type": "code",
      "source": [],
      "metadata": {
        "id": "J7xaNJ6UDEXL"
      },
      "execution_count": null,
      "outputs": []
    },
    {
      "cell_type": "code",
      "execution_count": null,
      "metadata": {
        "id": "_WiCLvM1dF9_"
      },
      "outputs": [],
      "source": [
        "def prepare_sequence_word(input_text):\n",
        "    idxs = list()\n",
        "    for word in input_text:\n",
        "        if word in thai2dict:\n",
        "            idxs.append(thai2dict_to_ix[word])\n",
        "        else:\n",
        "            idxs.append(thai2dict_to_ix[\"unknown\"]) #Use UNK tag for unknown word\n",
        "    return idxs\n",
        "\n",
        "def prepare_sequence_target(input_label):\n",
        "    idxs = [ner_to_ix[w] for w in input_label]\n",
        "    return idxs"
      ]
    },
    {
      "cell_type": "code",
      "execution_count": null,
      "metadata": {
        "id": "NbIzYn5adHpT"
      },
      "outputs": [],
      "source": [
        "input_sent =[ [ word[0] for word in sent]for sent in train_sents ] #words only\n",
        "train_targets =[ [ word[1] for word in sent]for sent in train_sents ] #NER only\n",
        "\n",
        "input_test_sent =[ [ word[0] for word in sent]for sent in test_sents ] #words only\n",
        "test_targets =[ [ word[1] for word in sent]for sent in test_sents ] #NER only"
      ]
    },
    {
      "cell_type": "code",
      "source": [
        "# Copyright 2019 The TensorFlow Authors. All Rights Reserved.\n",
        "#\n",
        "# Licensed under the Apache License, Version 2.0 (the \"License\");\n",
        "# you may not use this file except in compliance with the License.\n",
        "# You may obtain a copy of the License at\n",
        "#\n",
        "#     http://www.apache.org/licenses/LICENSE-2.0\n",
        "#\n",
        "# Unless required by applicable law or agreed to in writing, software\n",
        "# distributed under the License is distributed on an \"AS IS\" BASIS,\n",
        "# WITHOUT WARRANTIES OR CONDITIONS OF ANY KIND, either express or implied.\n",
        "# See the License for the specific language governing permissions and\n",
        "# limitations under the License.\n",
        "# ==============================================================================\n",
        "\"\"\"Implementing Conditional Random Field loss.\"\"\"\n",
        "\n",
        "from __future__ import absolute_import, division, print_function\n",
        "\n",
        "import tensorflow as tf\n",
        "\n",
        "# Copyright 2019 The TensorFlow Authors. All Rights Reserved.\n",
        "#\n",
        "# Licensed under the Apache License, Version 2.0 (the \"License\");\n",
        "# you may not use this file except in compliance with the License.\n",
        "# You may obtain a copy of the License at\n",
        "#\n",
        "#     http://www.apache.org/licenses/LICENSE-2.0\n",
        "#\n",
        "# Unless required by applicable law or agreed to in writing, software\n",
        "# distributed under the License is distributed on an \"AS IS\" BASIS,\n",
        "# WITHOUT WARRANTIES OR CONDITIONS OF ANY KIND, either express or implied.\n",
        "# See the License for the specific language governing permissions and\n",
        "# limitations under the License.\n",
        "#\n",
        "# Orginal implementation from keras_contrib/layers/crf\n",
        "# ==============================================================================\n",
        "\"\"\"Implementing Conditional Random Field layer.\"\"\"\n",
        "\n",
        "from __future__ import absolute_import, division, print_function\n",
        "\n",
        "import tensorflow as tf\n",
        "from typeguard import typechecked\n",
        "\n",
        "from tensorflow_addons.text.crf import crf_decode, crf_log_likelihood\n",
        "from tensorflow_addons.utils import types\n",
        "\n",
        "@tf.keras.utils.register_keras_serializable(package=\"Addons\")\n",
        "class CRF(tf.keras.layers.Layer):\n",
        "    \"\"\"Linear chain conditional random field (CRF).\n",
        "    Examples:\n",
        "    ```python\n",
        "        from tensorflow_addons.layers import CRF\n",
        "        from tensorflow_addons.losses import crf_loss\n",
        "        model = Sequential()\n",
        "        model.add(Embedding(3001, 300, mask_zero=True)\n",
        "        crf = CRF(10)\n",
        "        model.add(crf)\n",
        "        model.compile('adam', loss=crf_loss)\n",
        "        model.fit(x, y)\n",
        "    ```\n",
        "    Arguments:\n",
        "        units: Positive integer, dimensionality of the output space,\n",
        "            should equal to tag num.\n",
        "        chain_initializer: Initializer for the `chain_kernel` weights matrix,\n",
        "            used for the CRF chain energy.\n",
        "            (see [initializers](../initializers.md)).\n",
        "        chain_regularizer: Regularizer function applied to\n",
        "            the `chain_kernel` weights matrix.\n",
        "        chain_constraint: Constraint function applied to\n",
        "            the `chain_kernel` weights matrix.\n",
        "        use_boundary: Boolean (default True), indicating if trainable\n",
        "            start-end chain energies should be added to model.\n",
        "        boundary_initializer: Initializer for the `left_boundary`,\n",
        "            'right_boundary' weights vectors,\n",
        "            used for the start/left and end/right boundary energy.\n",
        "        boundary_regularizer: Regularizer function applied to\n",
        "            the 'left_boundary', 'right_boundary' weight vectors.\n",
        "        boundary_constraint: Constraint function applied to\n",
        "            the `left_boundary`, `right_boundary` weights vectors.\n",
        "        use_kernel: Boolean (default True), indicating if apply\n",
        "            a fully connected layer before CRF op.\n",
        "        kernel_initializer: Initializer for the `kernel` weights matrix,\n",
        "            used for the linear transformation of the inputs.\n",
        "        kernel_regularizer: Regularizer function applied to\n",
        "            the `kernel` weights matrix.\n",
        "        kernel_constraint: Constraint function applied to\n",
        "            the `kernel` weights matrix.\n",
        "        use_bias: Boolean (default True), whether the layer uses a bias vector.\n",
        "        bias_initializer: Initializer for the bias vector.\n",
        "        bias_regularizer: Regularizer function applied to the bias vector.\n",
        "        bias_constraint: Constraint function applied to the bias vector.\n",
        "        activation: default value is 'linear', Activation function to use.\n",
        "    Input shape:\n",
        "        3D tensor with shape: `(batch_size, sequence_length, feature_size)`.\n",
        "    Output shape:\n",
        "        2D tensor (dtype: int32) with shape: `(batch_size, sequence_length)`.\n",
        "    Masking:\n",
        "        This layer supports masking\n",
        "        (2D tensor, shape: `(batch_size, sequence_length)`)\n",
        "        for input data with a variable number of timesteps.\n",
        "        This layer output same make tensor,\n",
        "        NOTICE this may cause issue when you\n",
        "        use some keras loss and metrics function which usually expect 1D mask.\n",
        "    Loss function:\n",
        "        Due to the TF 2.0 version support eager execution be default,\n",
        "        there is no way can implement CRF loss as independent loss function.\n",
        "        Thus, user should use loss method of this layer.\n",
        "        See Examples (above) for detailed usage.\n",
        "    References:\n",
        "        - [Conditional Random Field](https://en.wikipedia.org/wiki/Conditional_random_field)\n",
        "    \"\"\"\n",
        "\n",
        "    def __init__(\n",
        "        self,\n",
        "        units: int,\n",
        "        chain_initializer: types.Initializer = \"orthogonal\",\n",
        "        chain_regularizer: types.Regularizer = None,\n",
        "        chain_constraint: types.Constraint = None,\n",
        "        use_boundary: bool = True,\n",
        "        boundary_initializer: types.Initializer = \"zeros\",\n",
        "        boundary_regularizer: types.Regularizer = None,\n",
        "        boundary_constraint: types.Constraint = None,\n",
        "        use_kernel: bool = True,\n",
        "        kernel_initializer: types.Initializer = \"glorot_uniform\",\n",
        "        kernel_regularizer: types.Regularizer = None,\n",
        "        kernel_constraint: types.Constraint = None,\n",
        "        use_bias: bool = True,\n",
        "        bias_initializer: types.Initializer = \"zeros\",\n",
        "        bias_regularizer: types.Regularizer = None,\n",
        "        bias_constraint: types.Constraint = None,\n",
        "        activation: types.Activation = \"linear\",\n",
        "        **kwargs\n",
        "    ):\n",
        "        super(CRF, self).__init__(**kwargs)\n",
        "\n",
        "        # setup mask supporting flag, used by base class (the Layer)\n",
        "        # because base class's init method will set it to False unconditionally\n",
        "        # So this assigned must be executed after call base class's init method\n",
        "        self.supports_masking = True\n",
        "\n",
        "        self.units = units  # numbers of tags\n",
        "\n",
        "        self.use_boundary = use_boundary\n",
        "        self.use_bias = use_bias\n",
        "        self.use_kernel = use_kernel\n",
        "\n",
        "        self.activation = tf.keras.activations.get(activation)\n",
        "\n",
        "        self.kernel_initializer = tf.keras.initializers.get(kernel_initializer)\n",
        "        self.chain_initializer = tf.keras.initializers.get(chain_initializer)\n",
        "        self.boundary_initializer = tf.keras.initializers.get(boundary_initializer)\n",
        "        self.bias_initializer = tf.keras.initializers.get(bias_initializer)\n",
        "\n",
        "        self.kernel_regularizer = tf.keras.regularizers.get(kernel_regularizer)\n",
        "        self.chain_regularizer = tf.keras.regularizers.get(chain_regularizer)\n",
        "        self.boundary_regularizer = tf.keras.regularizers.get(boundary_regularizer)\n",
        "        self.bias_regularizer = tf.keras.regularizers.get(bias_regularizer)\n",
        "\n",
        "        self.kernel_constraint = tf.keras.constraints.get(kernel_constraint)\n",
        "        self.chain_constraint = tf.keras.constraints.get(chain_constraint)\n",
        "        self.boundary_constraint = tf.keras.constraints.get(boundary_constraint)\n",
        "        self.bias_constraint = tf.keras.constraints.get(bias_constraint)\n",
        "\n",
        "        # values will be assigned in method\n",
        "        self.input_spec = None\n",
        "\n",
        "        # value remembered for loss/metrics function\n",
        "        self.potentials = None\n",
        "        self.sequence_length = None\n",
        "        self.mask = None\n",
        "\n",
        "        # global variable\n",
        "        self.chain_kernel = None\n",
        "        self._dense_layer = None\n",
        "        self.left_boundary = None\n",
        "        self.right_boundary = None\n",
        "\n",
        "    def build(self, input_shape):\n",
        "        input_shape = tuple(tf.TensorShape(input_shape).as_list())\n",
        "\n",
        "        # see API docs of InputSpec for more detail\n",
        "        self.input_spec = [tf.keras.layers.InputSpec(shape=input_shape)]\n",
        "\n",
        "        # weights that work as transfer probability of each tags\n",
        "        self.chain_kernel = self.add_weight(\n",
        "            shape=(self.units, self.units),\n",
        "            name=\"chain_kernel\",\n",
        "            initializer=self.chain_initializer,\n",
        "            regularizer=self.chain_regularizer,\n",
        "            constraint=self.chain_constraint,\n",
        "        )\n",
        "\n",
        "        # weight of <START> to tag probability and tag to <END> probability\n",
        "        if self.use_boundary:\n",
        "            self.left_boundary = self.add_weight(\n",
        "                shape=(self.units,),\n",
        "                name=\"left_boundary\",\n",
        "                initializer=self.boundary_initializer,\n",
        "                regularizer=self.boundary_regularizer,\n",
        "                constraint=self.boundary_constraint,\n",
        "            )\n",
        "            self.right_boundary = self.add_weight(\n",
        "                shape=(self.units,),\n",
        "                name=\"right_boundary\",\n",
        "                initializer=self.boundary_initializer,\n",
        "                regularizer=self.boundary_regularizer,\n",
        "                constraint=self.boundary_constraint,\n",
        "            )\n",
        "\n",
        "        if self.use_kernel:\n",
        "            self._dense_layer = tf.keras.layers.Dense(\n",
        "                units=self.units,\n",
        "                activation=self.activation,\n",
        "                use_bias=self.use_bias,\n",
        "                bias_initializer=self.bias_initializer,\n",
        "                kernel_regularizer=self.kernel_regularizer,\n",
        "                bias_regularizer=self.bias_regularizer,\n",
        "                kernel_constraint=self.kernel_constraint,\n",
        "                bias_constraint=self.bias_constraint,\n",
        "                dtype=self.dtype,\n",
        "            )\n",
        "        else:\n",
        "            self._dense_layer = lambda x: tf.cast(x, dtype=self.dtype)\n",
        "\n",
        "        super(CRF, self).build(input_shape)\n",
        "\n",
        "    def call(self, inputs, mask=None, **kwargs):\n",
        "        # mask: Tensor(shape=(batch_size, sequence_length), dtype=bool) or None\n",
        "\n",
        "        if mask is not None:\n",
        "            if tf.keras.backend.ndim(mask) != 2:\n",
        "                raise ValueError(\"Input mask to CRF must have dim 2 if not None\")\n",
        "\n",
        "        # left padding of mask is not supported, due the underline CRF function\n",
        "        # detect it and report it to user\n",
        "        first_mask = None\n",
        "        if mask is not None:\n",
        "            left_boundary_mask = self._compute_mask_left_boundary(mask)\n",
        "            first_mask = left_boundary_mask[:, 0]\n",
        "\n",
        "        # remember this value for later use\n",
        "        self.mask = mask\n",
        "\n",
        "        if first_mask is not None:\n",
        "            no_left_padding = tf.math.reduce_all(first_mask)\n",
        "            msg = \"Currently, CRF layer do not support left padding\"\n",
        "            with tf.control_dependencies(\n",
        "                [\n",
        "                    tf.debugging.assert_equal(\n",
        "                        no_left_padding, tf.constant(True), message=msg\n",
        "                    )\n",
        "                ]\n",
        "            ):\n",
        "                self.potentials = self._dense_layer(inputs)\n",
        "        else:\n",
        "            self.potentials = self._dense_layer(inputs)\n",
        "\n",
        "        # appending boundary probability info\n",
        "        if self.use_boundary:\n",
        "            self.potentials = self.add_boundary_energy(\n",
        "                self.potentials, mask, self.left_boundary, self.right_boundary\n",
        "            )\n",
        "\n",
        "        self.sequence_length = self._get_sequence_length(inputs, mask)\n",
        "\n",
        "        decoded_sequence, _ = self.get_viterbi_decoding(\n",
        "            self.potentials, self.sequence_length\n",
        "        )\n",
        "\n",
        "        return decoded_sequence\n",
        "\n",
        "    def _get_sequence_length(self, input_, mask):\n",
        "        \"\"\"Currently underline CRF fucntion (provided by\n",
        "        tensorflow_addons.text.crf) do not support bi-direction masking (left\n",
        "        padding / right padding), it support right padding by tell it the\n",
        "        sequence length.\n",
        "        this function is compute the sequence length from input and\n",
        "        mask.\n",
        "        \"\"\"\n",
        "        if mask is not None:\n",
        "            sequence_length = self.mask_to_sequence_length(mask)\n",
        "        else:\n",
        "            # make a mask tensor from input, then used to generate sequence_length\n",
        "            input_energy_shape = tf.shape(input_)\n",
        "            raw_input_shape = tf.slice(input_energy_shape, [0], [2])\n",
        "            alt_mask = tf.ones(raw_input_shape)\n",
        "\n",
        "            sequence_length = self.mask_to_sequence_length(alt_mask)\n",
        "\n",
        "        return sequence_length\n",
        "\n",
        "    def mask_to_sequence_length(self, mask):\n",
        "        \"\"\"compute sequence length from mask.\"\"\"\n",
        "        sequence_length = tf.cast(tf.reduce_sum(tf.cast(mask, tf.int16), 1), tf.int64)\n",
        "        return sequence_length\n",
        "\n",
        "    @staticmethod\n",
        "    def _compute_mask_right_boundary(mask):\n",
        "        \"\"\"input mask: 0011100, output left_boundary: 0000100.\"\"\"\n",
        "        # shift mask to left by 1: 0011100 => 0111000\n",
        "        offset = 1\n",
        "        left_shifted_mask = tf.concat(\n",
        "            [mask[:, offset:], tf.zeros_like(mask[:, :offset])], axis=1\n",
        "        )\n",
        "\n",
        "        # NOTE: below code is different from keras_contrib\n",
        "        # Original code in keras_contrib:\n",
        "        # end_mask = K.cast(\n",
        "        #   K.greater(self.shift_left(mask), mask),\n",
        "        #   K.floatx()\n",
        "        # )\n",
        "        # has a bug, confirmed\n",
        "        # by the original keras_contrib maintainer\n",
        "        # Luiz Felix (github: lzfelix),\n",
        "\n",
        "        # 0011100 > 0111000 => 0000100\n",
        "        right_boundary = tf.greater(mask, left_shifted_mask)\n",
        "\n",
        "        return right_boundary\n",
        "\n",
        "    @staticmethod\n",
        "    def _compute_mask_left_boundary(mask):\n",
        "        \"\"\"input mask: 0011100, output left_boundary: 0010000.\"\"\"\n",
        "        # shift mask to right by 1: 0011100 => 0001110\n",
        "        offset = 1\n",
        "        right_shifted_mask = tf.concat(\n",
        "            [tf.zeros_like(mask[:, :offset]), mask[:, :-offset]], axis=1\n",
        "        )\n",
        "\n",
        "        # 0011100 > 0001110 => 0010000\n",
        "        left_boundary = tf.greater(\n",
        "            tf.cast(mask, tf.int32), tf.cast(right_shifted_mask, tf.int32)\n",
        "        )\n",
        "        # left_boundary = tf.greater(mask, right_shifted_mask)\n",
        "\n",
        "        return left_boundary\n",
        "\n",
        "    def add_boundary_energy(self, potentials, mask, start, end):\n",
        "        def expand_scalar_to_3d(x):\n",
        "            # expand tensor from shape (x, ) to (1, 1, x)\n",
        "            return tf.reshape(x, (1, 1, -1))\n",
        "\n",
        "        start = expand_scalar_to_3d(start)\n",
        "        end = expand_scalar_to_3d(end)\n",
        "        if mask is None:\n",
        "            potentials = tf.concat(\n",
        "                [potentials[:, :1, :] + start, potentials[:, 1:, :]], axis=1\n",
        "            )\n",
        "            potentials = tf.concat(\n",
        "                [potentials[:, :-1, :], potentials[:, -1:, :] + end], axis=1\n",
        "            )\n",
        "        else:\n",
        "            mask = tf.keras.backend.expand_dims(tf.cast(mask, start.dtype), axis=-1)\n",
        "            start_mask = tf.cast(self._compute_mask_left_boundary(mask), start.dtype)\n",
        "\n",
        "            end_mask = tf.cast(self._compute_mask_right_boundary(mask), end.dtype)\n",
        "            potentials = potentials + start_mask * start\n",
        "            potentials = potentials + end_mask * end\n",
        "        return potentials\n",
        "\n",
        "    def get_viterbi_decoding(self, potentials, sequence_length):\n",
        "        # decode_tags: A [batch_size, max_seq_len] matrix, with dtype `tf.int32`\n",
        "        decode_tags, best_score = crf_decode(\n",
        "            potentials, self.chain_kernel, sequence_length\n",
        "        )\n",
        "\n",
        "        return decode_tags, best_score\n",
        "\n",
        "    def get_config(self):\n",
        "        # used for loading model from disk\n",
        "        config = {\n",
        "            \"units\": self.units,\n",
        "            \"use_boundary\": self.use_boundary,\n",
        "            \"use_bias\": self.use_bias,\n",
        "            \"use_kernel\": self.use_kernel,\n",
        "            \"kernel_initializer\": tf.keras.initializers.serialize(\n",
        "                self.kernel_initializer\n",
        "            ),\n",
        "            \"chain_initializer\": tf.keras.initializers.serialize(\n",
        "                self.chain_initializer\n",
        "            ),\n",
        "            \"boundary_initializer\": tf.keras.initializers.serialize(\n",
        "                self.boundary_initializer\n",
        "            ),\n",
        "            \"bias_initializer\": tf.keras.initializers.serialize(self.bias_initializer),\n",
        "            \"activation\": tf.keras.activations.serialize(self.activation),\n",
        "            \"kernel_regularizer\": tf.keras.regularizers.serialize(\n",
        "                self.kernel_regularizer\n",
        "            ),\n",
        "            \"chain_regularizer\": tf.keras.regularizers.serialize(\n",
        "                self.chain_regularizer\n",
        "            ),\n",
        "            \"boundary_regularizer\": tf.keras.regularizers.serialize(\n",
        "                self.boundary_regularizer\n",
        "            ),\n",
        "            \"bias_regularizer\": tf.keras.regularizers.serialize(self.bias_regularizer),\n",
        "            \"kernel_constraint\": tf.keras.constraints.serialize(self.kernel_constraint),\n",
        "            \"chain_constraint\": tf.keras.constraints.serialize(self.chain_constraint),\n",
        "            \"boundary_constraint\": tf.keras.constraints.serialize(\n",
        "                self.boundary_constraint\n",
        "            ),\n",
        "            \"bias_constraint\": tf.keras.constraints.serialize(self.bias_constraint),\n",
        "        }\n",
        "        base_config = super(CRF, self).get_config()\n",
        "        return dict(list(base_config.items()) + list(config.items()))\n",
        "\n",
        "    def compute_output_shape(self, input_shape):\n",
        "        output_shape = input_shape[:2]\n",
        "        return output_shape\n",
        "\n",
        "    def compute_mask(self, input_, mask=None):\n",
        "        \"\"\"keep mask shape [batch_size, max_seq_len]\"\"\"\n",
        "        return mask\n",
        "\n",
        "    def get_negative_log_likelihood(self, y_true):\n",
        "        y_true = tf.cast(y_true, tf.int32)\n",
        "        self.sequence_length = tf.cast(self.sequence_length, tf.int32)\n",
        "\n",
        "        log_likelihood, _ = crf_log_likelihood(\n",
        "            self.potentials, y_true, self.sequence_length, self.chain_kernel\n",
        "        )\n",
        "\n",
        "        return -log_likelihood\n",
        "\n",
        "    def get_loss(self, y_true, y_pred):\n",
        "        # we don't use y_pred, but caller pass it anyway, ignore it\n",
        "        return self.get_negative_log_likelihood(y_true)\n",
        "\n",
        "    def get_accuracy(self, y_true, y_pred):\n",
        "        judge = tf.cast(tf.equal(y_pred, y_true), tf.keras.backend.floatx())\n",
        "        if self.mask is None:\n",
        "            return tf.reduce_mean(judge)\n",
        "        else:\n",
        "            mask = tf.cast(self.mask, tf.keras.backend.floatx())\n",
        "            return tf.reduce_sum(judge * mask) / tf.reduce_sum(mask)\n",
        "\n",
        "    def __call__(self, inputs, *args, **kwargs):\n",
        "        outputs = super(CRF, self).__call__(inputs, *args, **kwargs)\n",
        "\n",
        "        # A hack that add _keras_history to EagerTensor, make it more like normal Tensor\n",
        "        for tensor in tf.nest.flatten(outputs):\n",
        "            if not hasattr(tensor, \"_keras_history\"):\n",
        "                tensor._keras_history = (self, 0, 0)\n",
        "\n",
        "        return outputs\n",
        "\n",
        "    @property\n",
        "    def _compute_dtype(self):\n",
        "        # fixed output dtype from underline CRF functions\n",
        "        return tf.int32\n",
        "\n",
        "\n",
        "@tf.keras.utils.register_keras_serializable(package=\"Addons\")\n",
        "class ConditionalRandomFieldLoss(object):\n",
        "    def __init__(self, name: str = \"crf_loss\"):\n",
        "        self.name = name\n",
        "\n",
        "    def get_config(self):\n",
        "        return {\"name\": self.name}\n",
        "\n",
        "    def __call__(self, y_true, y_pred, sample_weight=None):\n",
        "        crf_layer = y_pred._keras_history[0]\n",
        "\n",
        "        # check if last layer is CRF\n",
        "        if not isinstance(crf_layer, CRF):\n",
        "            raise ValueError(\n",
        "                \"Last layer must be CRF for use {}.\".format(self.__class__.__name__)\n",
        "            )\n",
        "\n",
        "        loss_vector = crf_layer.get_loss(y_true, y_pred)\n",
        "\n",
        "        return tf.keras.backend.mean(loss_vector)\n",
        "\n",
        "\n",
        "crf_loss = ConditionalRandomFieldLoss()\n"
      ],
      "metadata": {
        "colab": {
          "base_uri": "https://localhost:8080/"
        },
        "id": "skeoUMDNuI93",
        "outputId": "aef1f8ec-c47f-462e-b274-df329873c4fc"
      },
      "execution_count": null,
      "outputs": [
        {
          "output_type": "stream",
          "name": "stderr",
          "text": [
            "/usr/local/lib/python3.10/dist-packages/tensorflow_addons/utils/tfa_eol_msg.py:23: UserWarning: \n",
            "\n",
            "TensorFlow Addons (TFA) has ended development and introduction of new features.\n",
            "TFA has entered a minimal maintenance and release mode until a planned end of life in May 2024.\n",
            "Please modify downstream libraries to take dependencies from other repositories in our TensorFlow community (e.g. Keras, Keras-CV, and Keras-NLP). \n",
            "\n",
            "For more information see: https://github.com/tensorflow/addons/issues/2807 \n",
            "\n",
            "  warnings.warn(\n"
          ]
        }
      ]
    },
    {
      "cell_type": "code",
      "execution_count": null,
      "metadata": {
        "id": "vLPRl0oqdI2W"
      },
      "outputs": [],
      "source": [
        "import tensorflow as tf\n",
        "from tensorflow.keras.preprocessing.sequence import pad_sequences\n",
        "from tensorflow.keras.utils import to_categorical\n",
        "from tensorflow.keras import Model\n",
        "from tensorflow.keras.layers import LSTM, Bidirectional, Input, TimeDistributed, Layer\n",
        "from tensorflow.keras.layers import Dense, SpatialDropout1D, Embedding, concatenate, Dropout\n",
        "from tensorflow.keras.activations import gelu\n",
        "from tensorflow.keras.metrics import Accuracy\n",
        "from tensorflow.keras.callbacks import ModelCheckpoint, EarlyStopping\n",
        "import tensorflow.keras.backend as K"
      ]
    },
    {
      "cell_type": "code",
      "execution_count": null,
      "metadata": {
        "colab": {
          "base_uri": "https://localhost:8080/"
        },
        "id": "Utv0nauzrAGu",
        "outputId": "fcb4c7a4-57a6-4c28-bbb7-a64cd69b7bb8"
      },
      "outputs": [
        {
          "output_type": "stream",
          "name": "stderr",
          "text": [
            "100%|██████████| 15913/15913 [00:18<00:00, 847.25it/s]\n"
          ]
        }
      ],
      "source": [
        "## Word Training\n",
        "X_word_tr = [prepare_sequence_word(s) for s in input_sent]\n",
        "X_word_tr = pad_sequences(\n",
        "    maxlen=max_len, sequences=X_word_tr, value=thai2dict_to_ix[\"pad\"], padding='post', truncating='post'\n",
        ")\n",
        "\n",
        "## Character Training\n",
        "X_char_tr = []\n",
        "for sentence in tqdm(train_sents):\n",
        "    sent_seq = []\n",
        "    for i in range(max_len):\n",
        "        word_seq = []\n",
        "        for j in range(max_len_char):\n",
        "            try:\n",
        "                if(sentence[i][0][j] in char2idx):\n",
        "                    word_seq.append(char2idx.get(sentence[i][0][j]))\n",
        "                else:\n",
        "                    word_seq.append(char2idx.get(\"unknown\"))\n",
        "            except:\n",
        "                word_seq.append(char2idx.get(\"pad\"))\n",
        "        sent_seq.append(word_seq)\n",
        "    X_char_tr.append(np.array(sent_seq))\n",
        "\n",
        "## Sequence Label Training\n",
        "y_tr = [prepare_sequence_target(s) for s in train_targets]\n",
        "y_tr = pad_sequences(maxlen=max_len, sequences=y_tr, value=ner_to_ix[\"pad\"], padding='post', truncating='post')"
      ]
    },
    {
      "cell_type": "code",
      "execution_count": null,
      "metadata": {
        "colab": {
          "base_uri": "https://localhost:8080/"
        },
        "id": "x__ZqF8KrQEk",
        "outputId": "053ee1d7-16bc-4876-adc0-138dad197051"
      },
      "outputs": [
        {
          "output_type": "stream",
          "name": "stderr",
          "text": [
            "100%|██████████| 1769/1769 [00:02<00:00, 859.36it/s]\n"
          ]
        }
      ],
      "source": [
        "## Word Testing\n",
        "X_word_te = [prepare_sequence_word(s) for s in input_test_sent]\n",
        "X_word_te = pad_sequences(maxlen=max_len, sequences=X_word_te, value=thai2dict_to_ix[\"pad\"], padding='post', truncating='post')\n",
        "\n",
        "## Character Testing\n",
        "X_char_te = []\n",
        "for sentence in tqdm(test_sents):\n",
        "    sent_seq = []\n",
        "    for i in range(max_len):\n",
        "        word_seq = []\n",
        "        for j in range(max_len_char):\n",
        "            try:\n",
        "                if(sentence[i][0][j] in char2idx):\n",
        "                    word_seq.append(char2idx.get(sentence[i][0][j]))\n",
        "                else:\n",
        "                    word_seq.append(char2idx.get(\"unknown\"))\n",
        "            except:\n",
        "                word_seq.append(char2idx.get(\"pad\"))\n",
        "        sent_seq.append(word_seq)\n",
        "    X_char_te.append(np.array(sent_seq))\n",
        "\n",
        "## Sequence Label Testing\n",
        "y_te = [prepare_sequence_target(s) for s in test_targets]\n",
        "y_te = pad_sequences(maxlen=max_len, sequences=y_te, value=ner_to_ix[\"pad\"], padding='post', truncating='post')"
      ]
    },
    {
      "cell_type": "code",
      "execution_count": null,
      "metadata": {
        "colab": {
          "base_uri": "https://localhost:8080/"
        },
        "id": "lbcIrqJDuC5F",
        "outputId": "e0356805-ee0f-4177-e656-034e8e85feb7"
      },
      "outputs": [
        {
          "output_type": "stream",
          "name": "stdout",
          "text": [
            "Collecting wandb\n",
            "  Downloading wandb-0.18.0-py3-none-manylinux_2_17_x86_64.manylinux2014_x86_64.whl.metadata (9.6 kB)\n",
            "Requirement already satisfied: click!=8.0.0,>=7.1 in /usr/local/lib/python3.10/dist-packages (from wandb) (8.1.7)\n",
            "Collecting docker-pycreds>=0.4.0 (from wandb)\n",
            "  Downloading docker_pycreds-0.4.0-py2.py3-none-any.whl.metadata (1.8 kB)\n",
            "Collecting gitpython!=3.1.29,>=1.0.0 (from wandb)\n",
            "  Downloading GitPython-3.1.43-py3-none-any.whl.metadata (13 kB)\n",
            "Requirement already satisfied: platformdirs in /usr/local/lib/python3.10/dist-packages (from wandb) (4.3.2)\n",
            "Requirement already satisfied: protobuf!=4.21.0,!=5.28.0,<6,>=3.19.0 in /usr/local/lib/python3.10/dist-packages (from wandb) (3.20.3)\n",
            "Requirement already satisfied: psutil>=5.0.0 in /usr/local/lib/python3.10/dist-packages (from wandb) (5.9.5)\n",
            "Requirement already satisfied: pyyaml in /usr/local/lib/python3.10/dist-packages (from wandb) (6.0.2)\n",
            "Requirement already satisfied: requests<3,>=2.0.0 in /usr/local/lib/python3.10/dist-packages (from wandb) (2.32.3)\n",
            "Collecting sentry-sdk>=1.0.0 (from wandb)\n",
            "  Downloading sentry_sdk-2.14.0-py2.py3-none-any.whl.metadata (9.7 kB)\n",
            "Collecting setproctitle (from wandb)\n",
            "  Downloading setproctitle-1.3.3-cp310-cp310-manylinux_2_5_x86_64.manylinux1_x86_64.manylinux_2_17_x86_64.manylinux2014_x86_64.whl.metadata (9.9 kB)\n",
            "Requirement already satisfied: setuptools in /usr/local/lib/python3.10/dist-packages (from wandb) (71.0.4)\n",
            "Requirement already satisfied: six>=1.4.0 in /usr/local/lib/python3.10/dist-packages (from docker-pycreds>=0.4.0->wandb) (1.16.0)\n",
            "Collecting gitdb<5,>=4.0.1 (from gitpython!=3.1.29,>=1.0.0->wandb)\n",
            "  Downloading gitdb-4.0.11-py3-none-any.whl.metadata (1.2 kB)\n",
            "Requirement already satisfied: charset-normalizer<4,>=2 in /usr/local/lib/python3.10/dist-packages (from requests<3,>=2.0.0->wandb) (3.3.2)\n",
            "Requirement already satisfied: idna<4,>=2.5 in /usr/local/lib/python3.10/dist-packages (from requests<3,>=2.0.0->wandb) (3.8)\n",
            "Requirement already satisfied: urllib3<3,>=1.21.1 in /usr/local/lib/python3.10/dist-packages (from requests<3,>=2.0.0->wandb) (2.0.7)\n",
            "Requirement already satisfied: certifi>=2017.4.17 in /usr/local/lib/python3.10/dist-packages (from requests<3,>=2.0.0->wandb) (2024.8.30)\n",
            "Collecting smmap<6,>=3.0.1 (from gitdb<5,>=4.0.1->gitpython!=3.1.29,>=1.0.0->wandb)\n",
            "  Downloading smmap-5.0.1-py3-none-any.whl.metadata (4.3 kB)\n",
            "Downloading wandb-0.18.0-py3-none-manylinux_2_17_x86_64.manylinux2014_x86_64.whl (9.5 MB)\n",
            "\u001b[2K   \u001b[90m━━━━━━━━━━━━━━━━━━━━━━━━━━━━━━━━━━━━━━━━\u001b[0m \u001b[32m9.5/9.5 MB\u001b[0m \u001b[31m32.0 MB/s\u001b[0m eta \u001b[36m0:00:00\u001b[0m\n",
            "\u001b[?25hDownloading docker_pycreds-0.4.0-py2.py3-none-any.whl (9.0 kB)\n",
            "Downloading GitPython-3.1.43-py3-none-any.whl (207 kB)\n",
            "\u001b[2K   \u001b[90m━━━━━━━━━━━━━━━━━━━━━━━━━━━━━━━━━━━━━━━━\u001b[0m \u001b[32m207.3/207.3 kB\u001b[0m \u001b[31m16.0 MB/s\u001b[0m eta \u001b[36m0:00:00\u001b[0m\n",
            "\u001b[?25hDownloading sentry_sdk-2.14.0-py2.py3-none-any.whl (311 kB)\n",
            "\u001b[2K   \u001b[90m━━━━━━━━━━━━━━━━━━━━━━━━━━━━━━━━━━━━━━━━\u001b[0m \u001b[32m311.4/311.4 kB\u001b[0m \u001b[31m21.5 MB/s\u001b[0m eta \u001b[36m0:00:00\u001b[0m\n",
            "\u001b[?25hDownloading setproctitle-1.3.3-cp310-cp310-manylinux_2_5_x86_64.manylinux1_x86_64.manylinux_2_17_x86_64.manylinux2014_x86_64.whl (30 kB)\n",
            "Downloading gitdb-4.0.11-py3-none-any.whl (62 kB)\n",
            "\u001b[2K   \u001b[90m━━━━━━━━━━━━━━━━━━━━━━━━━━━━━━━━━━━━━━━━\u001b[0m \u001b[32m62.7/62.7 kB\u001b[0m \u001b[31m4.7 MB/s\u001b[0m eta \u001b[36m0:00:00\u001b[0m\n",
            "\u001b[?25hDownloading smmap-5.0.1-py3-none-any.whl (24 kB)\n",
            "Installing collected packages: smmap, setproctitle, sentry-sdk, docker-pycreds, gitdb, gitpython, wandb\n",
            "Successfully installed docker-pycreds-0.4.0 gitdb-4.0.11 gitpython-3.1.43 sentry-sdk-2.14.0 setproctitle-1.3.3 smmap-5.0.1 wandb-0.18.0\n"
          ]
        }
      ],
      "source": [
        "!pip install wandb"
      ]
    },
    {
      "cell_type": "code",
      "execution_count": null,
      "metadata": {
        "colab": {
          "base_uri": "https://localhost:8080/"
        },
        "id": "tB6VXJLouNLW",
        "outputId": "7bc5749b-8945-476d-9906-fb653d2709c6"
      },
      "outputs": [
        {
          "output_type": "stream",
          "name": "stdout",
          "text": [
            "\u001b[34m\u001b[1mwandb\u001b[0m: Logging into wandb.ai. (Learn how to deploy a W&B server locally: https://wandb.me/wandb-server)\n",
            "\u001b[34m\u001b[1mwandb\u001b[0m: You can find your API key in your browser here: https://wandb.ai/authorize\n",
            "\u001b[34m\u001b[1mwandb\u001b[0m: Paste an API key from your profile and hit enter, or press ctrl+c to quit: \n",
            "\u001b[34m\u001b[1mwandb\u001b[0m: Appending key for api.wandb.ai to your netrc file: /root/.netrc\n"
          ]
        }
      ],
      "source": [
        "!wandb login"
      ]
    },
    {
      "cell_type": "code",
      "execution_count": null,
      "metadata": {
        "colab": {
          "base_uri": "https://localhost:8080/"
        },
        "id": "DVQ9W_dkrS5z",
        "outputId": "219d536f-a92a-4bc3-b55b-69e50ab71cc3"
      },
      "outputs": [
        {
          "output_type": "stream",
          "name": "stdout",
          "text": [
            "Model: \"model\"\n",
            "__________________________________________________________________________________________________\n",
            " Layer (type)                Output Shape                 Param #   Connected to                  \n",
            "==================================================================================================\n",
            " char_input (InputLayer)     [(None, 120, 30)]            0         []                            \n",
            "                                                                                                  \n",
            " word_input_ (InputLayer)    [(None, 120)]                0         []                            \n",
            "                                                                                                  \n",
            " time_distributed (TimeDist  (None, 120, 30, 32)          12800     ['char_input[0][0]']          \n",
            " ributed)                                                                                         \n",
            "                                                                                                  \n",
            " word_embedding (Embedding)  (None, 120, 400)             2227080   ['word_input_[0][0]']         \n",
            "                                                          0                                       \n",
            "                                                                                                  \n",
            " time_distributed_1 (TimeDi  (None, 120, 64)              16640     ['time_distributed[0][0]']    \n",
            " stributed)                                                                                       \n",
            "                                                                                                  \n",
            " concatenate (Concatenate)   (None, 120, 464)             0         ['word_embedding[0][0]',      \n",
            "                                                                     'time_distributed_1[0][0]']  \n",
            "                                                                                                  \n",
            " spatial_dropout1d (Spatial  (None, 120, 464)             0         ['concatenate[0][0]']         \n",
            " Dropout1D)                                                                                       \n",
            "                                                                                                  \n",
            " bidirectional_1 (Bidirecti  (None, 120, 512)             1476608   ['spatial_dropout1d[0][0]']   \n",
            " onal)                                                                                            \n",
            "                                                                                                  \n",
            " time_distributed_2 (TimeDi  (None, 120, 50)              25650     ['bidirectional_1[0][0]']     \n",
            " stributed)                                                                                       \n",
            "                                                                                                  \n",
            " crf (CRF)                   (None, 120)                  2378      ['time_distributed_2[0][0]']  \n",
            "                                                                                                  \n",
            "==================================================================================================\n",
            "Total params: 23804876 (90.81 MB)\n",
            "Trainable params: 1534076 (5.85 MB)\n",
            "Non-trainable params: 22270800 (84.96 MB)\n",
            "__________________________________________________________________________________________________\n"
          ]
        }
      ],
      "source": [
        "from tensorflow.keras.layers import Input, Embedding, TimeDistributed, LSTM, Bidirectional, concatenate, SpatialDropout1D, Dense\n",
        "from tensorflow.keras.models import Model\n",
        "\n",
        "# Word Input\n",
        "word_in = Input(shape=(max_len,), name='word_input_')\n",
        "\n",
        "# Word Embedding Using Thai2Fit\n",
        "word_embeddings = Embedding(input_dim=n_thai2dict,\n",
        "                            output_dim=400,\n",
        "                            weights=[thai2fit_weight],\n",
        "                            input_length=max_len,\n",
        "                            mask_zero=False,\n",
        "                            name='word_embedding',\n",
        "                            trainable=False)(word_in)\n",
        "\n",
        "# Character Input\n",
        "char_in = Input(shape=(max_len, max_len_char,), name='char_input')\n",
        "\n",
        "# Character Embedding\n",
        "emb_char = TimeDistributed(Embedding(input_dim=n_chars,\n",
        "                                     output_dim=char_embedding_dim,\n",
        "                                     input_length=max_len_char,\n",
        "                                     mask_zero=False))(char_in)\n",
        "\n",
        "# Character Sequence to Vector via BiLSTM\n",
        "char_enc = TimeDistributed(Bidirectional(LSTM(units=character_LSTM_unit,\n",
        "                                              return_sequences=False,\n",
        "                                              recurrent_dropout=lstm_recurrent_dropout)))(emb_char)\n",
        "\n",
        "# Concatenate All Embedding\n",
        "all_word_embeddings = concatenate([word_embeddings, char_enc])\n",
        "all_word_embeddings = SpatialDropout1D(0.3)(all_word_embeddings)\n",
        "\n",
        "# Main Model Dense attention\n",
        "main_lstm = Bidirectional(LSTM(units=main_lstm_unit,\n",
        "                               return_sequences=True,\n",
        "                               recurrent_dropout=lstm_recurrent_dropout))(all_word_embeddings)\n",
        "main_lstm = TimeDistributed(Dense(50, activation=\"relu\"))(main_lstm)\n",
        "\n",
        "out = CRF(n_tag)(main_lstm)  # CRF layer\n",
        "\n",
        "# Model\n",
        "model = Model(inputs=[word_in, char_in], outputs=out)\n",
        "\n",
        "\n",
        "\n",
        "model.compile(optimizer=\"adam\", loss=crf_loss, metrics=[Accuracy()])\n",
        "\n",
        "\n",
        "model.summary()"
      ]
    },
    {
      "cell_type": "code",
      "source": [
        "# from huggingface_hub import notebook_login\n",
        "\n",
        "# notebook_login()"
      ],
      "metadata": {
        "id": "R72UZoIxkjAo"
      },
      "execution_count": null,
      "outputs": []
    },
    {
      "cell_type": "code",
      "execution_count": null,
      "metadata": {
        "id": "McHTUmc4us4R"
      },
      "outputs": [],
      "source": [
        "import wandb\n",
        "from tensorflow.keras.callbacks import Callback, ModelCheckpoint\n",
        "\n",
        "wandb_project=\"thai-address-ner\"\n",
        "\n",
        "character_LSTM_unit = 32\n",
        "char_embedding_dim = 32\n",
        "main_lstm_unit = 256 ## Bidirectional 256 + 256 = 512\n",
        "lstm_recurrent_dropout = 0.5\n",
        "train_batch_size = 32\n",
        "train_epochs = 150\n",
        "epochs = 50\n",
        "# config={\n",
        "#     \"architecture\": \"BiLSTM-CRF\",\n",
        "#     \"dataset\": \"Thai Address NER\",\n",
        "#     \"epochs\": 1,  # Update this to match your actual number of epochs\n",
        "#     \"batch_size\": train_batch_size,\n",
        "#     \"max_len\": max_len,\n",
        "#     \"max_len_char\": max_len_char,\n",
        "#     \"char_embedding_dim\": char_embedding_dim,\n",
        "#     \"character_LSTM_unit\": character_LSTM_unit,\n",
        "#     \"main_lstm_unit\": main_lstm_unit,\n",
        "#     \"lstm_recurrent_dropout\": lstm_recurrent_dropout\n",
        "# }\n",
        "\n",
        "train_args={\n",
        "    # Model Architecture\n",
        "    \"architecture\": \"BiLSTM-CRF\",\n",
        "    \"dataset\": \"Thai Address NER\",\n",
        "\n",
        "    # Training Parameters\n",
        "    \"batch_size\": train_batch_size,\n",
        "    \"epochs\": epochs,  # num_train_epochs\n",
        "    \"learning_rate\": 3e-5,\n",
        "    \"max_steps\": -1,\n",
        "    \"gradient_accumulation_steps\": 1,\n",
        "\n",
        "    # Model Hyperparameters\n",
        "    \"max_len\": max_len,\n",
        "    \"max_len_char\": max_len_char,\n",
        "    \"char_embedding_dim\": char_embedding_dim,\n",
        "    \"character_LSTM_unit\": character_LSTM_unit,\n",
        "    \"main_lstm_unit\": main_lstm_unit,\n",
        "    \"lstm_recurrent_dropout\": lstm_recurrent_dropout,\n",
        "\n",
        "    # Evaluation\n",
        "    \"evaluate_during_training\": True,\n",
        "    \"evaluate_during_training_steps\": 10,\n",
        "    \"save_eval_checkpoints\": False,\n",
        "    \"eval_batch_size\": 16,\n",
        "\n",
        "    # Logging and Tracking\n",
        "    \"logging_steps\": 1,\n",
        "    \"report_to\": \"wandb\",\n",
        "\n",
        "    # Model Sharing\n",
        "    \"push_to_hub\": True,\n",
        "}\n"
      ]
    },
    {
      "cell_type": "code",
      "source": [
        "# Initialize wandb\n",
        "wandb.init(project=wandb_project,config=train_args)\n",
        "\n",
        "class WandbCallback(Callback):\n",
        "    def __init__(self, validation_data=None):\n",
        "        super(WandbCallback, self).__init__()\n",
        "        self.validation_data = validation_data\n",
        "        self.best_accuracy = 0\n",
        "        self.best_loss = float('inf')\n",
        "        self.final_accuracy = 0\n",
        "        self.final_loss = float('inf')\n",
        "\n",
        "    def on_epoch_end(self, epoch, logs=None):\n",
        "        logs = logs or {}\n",
        "        current_accuracy = logs.get('val_accuracy', 0)\n",
        "        current_loss = logs.get('val_loss', float('inf'))\n",
        "\n",
        "        if current_accuracy > self.best_accuracy:\n",
        "            self.best_accuracy = current_accuracy\n",
        "        if current_loss < self.best_loss:\n",
        "            self.best_loss = current_loss\n",
        "\n",
        "        self.final_accuracy = current_accuracy\n",
        "        self.final_loss = current_loss\n",
        "\n",
        "        wandb.log({\n",
        "            \"accuracy\": logs.get('accuracy'),\n",
        "            \"val_accuracy\": self.final_accuracy,\n",
        "            \"loss\": logs.get('loss'),\n",
        "            \"val_loss\": self.final_loss,\n",
        "            \"best_val_accuracy\": self.best_accuracy,\n",
        "            \"best_val_loss\": self.best_loss\n",
        "        })\n",
        "\n",
        "    def on_train_end(self, logs=None):\n",
        "        wandb.alert(\n",
        "            title=\"🟢 BiLSTM-CRF Model + DATASET THAINER\",\n",
        "            text=f\"Training has finished. 50 epochs\\n\"\n",
        "                 f\"Final Validation Accuracy: {self.final_accuracy:.4f}\\n\"\n",
        "                 f\"Final Validation Loss: {self.final_loss:.4f}\\n\"\n",
        "                 f\"Best Validation Accuracy: {self.best_accuracy:.4f}\\n\"\n",
        "                 f\"Best Validation Loss: {self.best_loss:.4f}\",\n",
        "            level=wandb.AlertLevel.INFO\n",
        "        )\n",
        "        print(\"Training completed. WandB alert sent.\")"
      ],
      "metadata": {
        "colab": {
          "base_uri": "https://localhost:8080/",
          "height": 159
        },
        "id": "C8k5VtElhL7U",
        "outputId": "0fd2e378-444b-4ee1-ea16-515cb82978f1"
      },
      "execution_count": null,
      "outputs": [
        {
          "output_type": "stream",
          "name": "stderr",
          "text": [
            "\u001b[34m\u001b[1mwandb\u001b[0m: Using wandb-core as the SDK backend. Please refer to https://wandb.me/wandb-core for more information.\n",
            "\u001b[34m\u001b[1mwandb\u001b[0m: Currently logged in as: \u001b[33mporameht\u001b[0m (\u001b[33mleanbiz\u001b[0m). Use \u001b[1m`wandb login --relogin`\u001b[0m to force relogin\n"
          ]
        },
        {
          "output_type": "display_data",
          "data": {
            "text/plain": [
              "<IPython.core.display.HTML object>"
            ],
            "text/html": [
              "Tracking run with wandb version 0.18.0"
            ]
          },
          "metadata": {}
        },
        {
          "output_type": "display_data",
          "data": {
            "text/plain": [
              "<IPython.core.display.HTML object>"
            ],
            "text/html": [
              "Run data is saved locally in <code>/content/wandb/run-20240912_061405-6lvvf0lm</code>"
            ]
          },
          "metadata": {}
        },
        {
          "output_type": "display_data",
          "data": {
            "text/plain": [
              "<IPython.core.display.HTML object>"
            ],
            "text/html": [
              "Syncing run <strong><a href='https://wandb.ai/leanbiz/thai-address-ner/runs/6lvvf0lm' target=\"_blank\">wandering-paper-52</a></strong> to <a href='https://wandb.ai/leanbiz/thai-address-ner' target=\"_blank\">Weights & Biases</a> (<a href='https://wandb.me/run' target=\"_blank\">docs</a>)<br/>"
            ]
          },
          "metadata": {}
        },
        {
          "output_type": "display_data",
          "data": {
            "text/plain": [
              "<IPython.core.display.HTML object>"
            ],
            "text/html": [
              " View project at <a href='https://wandb.ai/leanbiz/thai-address-ner' target=\"_blank\">https://wandb.ai/leanbiz/thai-address-ner</a>"
            ]
          },
          "metadata": {}
        },
        {
          "output_type": "display_data",
          "data": {
            "text/plain": [
              "<IPython.core.display.HTML object>"
            ],
            "text/html": [
              " View run at <a href='https://wandb.ai/leanbiz/thai-address-ner/runs/6lvvf0lm' target=\"_blank\">https://wandb.ai/leanbiz/thai-address-ner/runs/6lvvf0lm</a>"
            ]
          },
          "metadata": {}
        }
      ]
    },
    {
      "cell_type": "code",
      "execution_count": null,
      "metadata": {
        "colab": {
          "base_uri": "https://localhost:8080/"
        },
        "id": "-IAs-LNhrXG3",
        "outputId": "4eabdbbb-8f70-44d1-9381-397cd6385078"
      },
      "outputs": [
        {
          "metadata": {
            "tags": null
          },
          "name": "stdout",
          "output_type": "stream",
          "text": [
            "Epoch 1/50\n",
            "498/498 [==============================] - ETA: 0s - loss: 22.7937 - accuracy: 0.9479\n",
            "Epoch 1: val_accuracy improved from -inf to 0.97283, saving model to /content/drive/MyDrive/address-ner-trainer/newdata/weights-improvement-thainer-01-0.948.hdf5\n"
          ]
        },
        {
          "metadata": {
            "tags": null
          },
          "name": "stderr",
          "output_type": "stream",
          "text": [
            "/usr/local/lib/python3.10/dist-packages/keras/src/engine/training.py:3000: UserWarning: You are saving your model as an HDF5 file via `model.save()`. This file format is considered legacy. We recommend using instead the native Keras format, e.g. `model.save('my_model.keras')`.\n",
            "  saving_api.save_model(\n"
          ]
        },
        {
          "output_type": "stream",
          "name": "stdout",
          "text": [
            "498/498 [==============================] - 388s 756ms/step - loss: 22.7937 - accuracy: 0.9479 - val_loss: 9.4671 - val_accuracy: 0.9728\n",
            "Epoch 2/50\n",
            "498/498 [==============================] - ETA: 0s - loss: 8.1067 - accuracy: 0.9759\n",
            "Epoch 2: val_accuracy improved from 0.97283 to 0.98206, saving model to /content/drive/MyDrive/address-ner-trainer/newdata/weights-improvement-thainer-02-0.976.hdf5\n",
            "498/498 [==============================] - 376s 755ms/step - loss: 8.1067 - accuracy: 0.9759 - val_loss: 5.7430 - val_accuracy: 0.9821\n",
            "Epoch 3/50\n",
            "498/498 [==============================] - ETA: 0s - loss: 5.3809 - accuracy: 0.9825\n",
            "Epoch 3: val_accuracy improved from 0.98206 to 0.98594, saving model to /content/drive/MyDrive/address-ner-trainer/newdata/weights-improvement-thainer-03-0.983.hdf5\n",
            "498/498 [==============================] - 364s 730ms/step - loss: 5.3809 - accuracy: 0.9825 - val_loss: 4.0459 - val_accuracy: 0.9859\n",
            "Epoch 4/50\n",
            "498/498 [==============================] - ETA: 0s - loss: 4.1224 - accuracy: 0.9858\n",
            "Epoch 4: val_accuracy improved from 0.98594 to 0.98797, saving model to /content/drive/MyDrive/address-ner-trainer/newdata/weights-improvement-thainer-04-0.986.hdf5\n",
            "498/498 [==============================] - 369s 742ms/step - loss: 4.1224 - accuracy: 0.9858 - val_loss: 3.2799 - val_accuracy: 0.9880\n",
            "Epoch 5/50\n",
            "498/498 [==============================] - ETA: 0s - loss: 3.3232 - accuracy: 0.9880\n",
            "Epoch 5: val_accuracy improved from 0.98797 to 0.99072, saving model to /content/drive/MyDrive/address-ner-trainer/newdata/weights-improvement-thainer-05-0.988.hdf5\n",
            "498/498 [==============================] - 369s 741ms/step - loss: 3.3232 - accuracy: 0.9880 - val_loss: 2.5501 - val_accuracy: 0.9907\n",
            "Epoch 6/50\n",
            "498/498 [==============================] - ETA: 0s - loss: 2.7046 - accuracy: 0.9899\n",
            "Epoch 6: val_accuracy improved from 0.99072 to 0.99174, saving model to /content/drive/MyDrive/address-ner-trainer/newdata/weights-improvement-thainer-06-0.990.hdf5\n",
            "498/498 [==============================] - 370s 743ms/step - loss: 2.7046 - accuracy: 0.9899 - val_loss: 2.2621 - val_accuracy: 0.9917\n",
            "Epoch 7/50\n",
            "498/498 [==============================] - ETA: 0s - loss: 2.2946 - accuracy: 0.9912\n",
            "Epoch 7: val_accuracy improved from 0.99174 to 0.99230, saving model to /content/drive/MyDrive/address-ner-trainer/newdata/weights-improvement-thainer-07-0.991.hdf5\n",
            "498/498 [==============================] - 383s 768ms/step - loss: 2.2946 - accuracy: 0.9912 - val_loss: 1.9849 - val_accuracy: 0.9923\n",
            "Epoch 8/50\n",
            "498/498 [==============================] - ETA: 0s - loss: 1.9753 - accuracy: 0.9922\n",
            "Epoch 8: val_accuracy improved from 0.99230 to 0.99336, saving model to /content/drive/MyDrive/address-ner-trainer/newdata/weights-improvement-thainer-08-0.992.hdf5\n",
            "498/498 [==============================] - 379s 762ms/step - loss: 1.9753 - accuracy: 0.9922 - val_loss: 1.7329 - val_accuracy: 0.9934\n",
            "Epoch 9/50\n",
            "498/498 [==============================] - ETA: 0s - loss: 1.7214 - accuracy: 0.9931\n",
            "Epoch 9: val_accuracy improved from 0.99336 to 0.99488, saving model to /content/drive/MyDrive/address-ner-trainer/newdata/weights-improvement-thainer-09-0.993.hdf5\n",
            "498/498 [==============================] - 386s 774ms/step - loss: 1.7214 - accuracy: 0.9931 - val_loss: 1.3541 - val_accuracy: 0.9949\n",
            "Epoch 10/50\n",
            "498/498 [==============================] - ETA: 0s - loss: 1.4509 - accuracy: 0.9941\n",
            "Epoch 10: val_accuracy improved from 0.99488 to 0.99490, saving model to /content/drive/MyDrive/address-ner-trainer/newdata/weights-improvement-thainer-10-0.994.hdf5\n",
            "498/498 [==============================] - 384s 771ms/step - loss: 1.4509 - accuracy: 0.9941 - val_loss: 1.3331 - val_accuracy: 0.9949\n",
            "Epoch 11/50\n",
            "498/498 [==============================] - ETA: 0s - loss: 1.3120 - accuracy: 0.9946\n",
            "Epoch 11: val_accuracy did not improve from 0.99490\n",
            "498/498 [==============================] - 370s 743ms/step - loss: 1.3120 - accuracy: 0.9946 - val_loss: 1.2258 - val_accuracy: 0.9947\n",
            "Epoch 12/50\n",
            "498/498 [==============================] - ETA: 0s - loss: 1.1524 - accuracy: 0.9952\n",
            "Epoch 12: val_accuracy improved from 0.99490 to 0.99628, saving model to /content/drive/MyDrive/address-ner-trainer/newdata/weights-improvement-thainer-12-0.995.hdf5\n",
            "498/498 [==============================] - 375s 754ms/step - loss: 1.1524 - accuracy: 0.9952 - val_loss: 0.9645 - val_accuracy: 0.9963\n",
            "Epoch 13/50\n",
            "498/498 [==============================] - ETA: 0s - loss: 1.0001 - accuracy: 0.9958\n",
            "Epoch 13: val_accuracy improved from 0.99628 to 0.99668, saving model to /content/drive/MyDrive/address-ner-trainer/newdata/weights-improvement-thainer-13-0.996.hdf5\n",
            "498/498 [==============================] - 366s 736ms/step - loss: 1.0001 - accuracy: 0.9958 - val_loss: 0.8224 - val_accuracy: 0.9967\n",
            "Epoch 14/50\n",
            "498/498 [==============================] - ETA: 0s - loss: 0.8814 - accuracy: 0.9964\n",
            "Epoch 14: val_accuracy did not improve from 0.99668\n",
            "498/498 [==============================] - 367s 736ms/step - loss: 0.8814 - accuracy: 0.9964 - val_loss: 0.8554 - val_accuracy: 0.9964\n",
            "Epoch 15/50\n",
            "498/498 [==============================] - ETA: 0s - loss: 0.8233 - accuracy: 0.9965\n",
            "Epoch 15: val_accuracy improved from 0.99668 to 0.99684, saving model to /content/drive/MyDrive/address-ner-trainer/newdata/weights-improvement-thainer-15-0.997.hdf5\n",
            "498/498 [==============================] - 372s 748ms/step - loss: 0.8233 - accuracy: 0.9965 - val_loss: 0.8406 - val_accuracy: 0.9968\n",
            "Epoch 16/50\n",
            "498/498 [==============================] - ETA: 0s - loss: 0.7650 - accuracy: 0.9967\n",
            "Epoch 16: val_accuracy improved from 0.99684 to 0.99742, saving model to /content/drive/MyDrive/address-ner-trainer/newdata/weights-improvement-thainer-16-0.997.hdf5\n",
            "498/498 [==============================] - 377s 758ms/step - loss: 0.7650 - accuracy: 0.9967 - val_loss: 0.6632 - val_accuracy: 0.9974\n",
            "Epoch 17/50\n",
            "498/498 [==============================] - ETA: 0s - loss: 0.6908 - accuracy: 0.9971\n",
            "Epoch 17: val_accuracy improved from 0.99742 to 0.99793, saving model to /content/drive/MyDrive/address-ner-trainer/newdata/weights-improvement-thainer-17-0.997.hdf5\n",
            "498/498 [==============================] - 373s 749ms/step - loss: 0.6908 - accuracy: 0.9971 - val_loss: 0.5721 - val_accuracy: 0.9979\n",
            "Epoch 18/50\n",
            "498/498 [==============================] - ETA: 0s - loss: 0.6018 - accuracy: 0.9975\n",
            "Epoch 18: val_accuracy improved from 0.99793 to 0.99824, saving model to /content/drive/MyDrive/address-ner-trainer/newdata/weights-improvement-thainer-18-0.997.hdf5\n",
            "498/498 [==============================] - 370s 743ms/step - loss: 0.6018 - accuracy: 0.9975 - val_loss: 0.5133 - val_accuracy: 0.9982\n",
            "Epoch 19/50\n",
            "498/498 [==============================] - ETA: 0s - loss: 0.5716 - accuracy: 0.9975\n",
            "Epoch 19: val_accuracy did not improve from 0.99824\n",
            "498/498 [==============================] - 365s 734ms/step - loss: 0.5716 - accuracy: 0.9975 - val_loss: 0.4896 - val_accuracy: 0.9981\n",
            "Epoch 20/50\n",
            "498/498 [==============================] - ETA: 0s - loss: 0.5479 - accuracy: 0.9977\n",
            "Epoch 20: val_accuracy did not improve from 0.99824\n",
            "498/498 [==============================] - 375s 753ms/step - loss: 0.5479 - accuracy: 0.9977 - val_loss: 0.5236 - val_accuracy: 0.9979\n",
            "Epoch 21/50\n",
            "498/498 [==============================] - ETA: 0s - loss: 0.5069 - accuracy: 0.9979\n",
            "Epoch 21: val_accuracy improved from 0.99824 to 0.99828, saving model to /content/drive/MyDrive/address-ner-trainer/newdata/weights-improvement-thainer-21-0.998.hdf5\n",
            "498/498 [==============================] - 366s 735ms/step - loss: 0.5069 - accuracy: 0.9979 - val_loss: 0.4772 - val_accuracy: 0.9983\n",
            "Epoch 22/50\n",
            "498/498 [==============================] - ETA: 0s - loss: 0.4885 - accuracy: 0.9978\n",
            "Epoch 22: val_accuracy improved from 0.99828 to 0.99857, saving model to /content/drive/MyDrive/address-ner-trainer/newdata/weights-improvement-thainer-22-0.998.hdf5\n",
            "498/498 [==============================] - 365s 732ms/step - loss: 0.4885 - accuracy: 0.9978 - val_loss: 0.4322 - val_accuracy: 0.9986\n",
            "Epoch 23/50\n",
            "498/498 [==============================] - ETA: 0s - loss: 0.4184 - accuracy: 0.9982\n",
            "Epoch 23: val_accuracy did not improve from 0.99857\n",
            "498/498 [==============================] - 364s 731ms/step - loss: 0.4184 - accuracy: 0.9982 - val_loss: 0.4466 - val_accuracy: 0.9985\n",
            "Epoch 24/50\n",
            "498/498 [==============================] - ETA: 0s - loss: 0.3943 - accuracy: 0.9983\n",
            "Epoch 24: val_accuracy did not improve from 0.99857\n",
            "498/498 [==============================] - 393s 790ms/step - loss: 0.3943 - accuracy: 0.9983 - val_loss: 0.4391 - val_accuracy: 0.9985\n",
            "Epoch 25/50\n",
            "498/498 [==============================] - ETA: 0s - loss: 0.4178 - accuracy: 0.9981\n",
            "Epoch 25: val_accuracy improved from 0.99857 to 0.99869, saving model to /content/drive/MyDrive/address-ner-trainer/newdata/weights-improvement-thainer-25-0.998.hdf5\n",
            "498/498 [==============================] - 373s 749ms/step - loss: 0.4178 - accuracy: 0.9981 - val_loss: 0.3991 - val_accuracy: 0.9987\n",
            "Epoch 26/50\n",
            "498/498 [==============================] - ETA: 0s - loss: 0.3875 - accuracy: 0.9982\n",
            "Epoch 26: val_accuracy did not improve from 0.99869\n",
            "498/498 [==============================] - 363s 728ms/step - loss: 0.3875 - accuracy: 0.9982 - val_loss: 0.4385 - val_accuracy: 0.9982\n",
            "Epoch 27/50\n",
            "498/498 [==============================] - ETA: 0s - loss: 0.3523 - accuracy: 0.9984\n",
            "Epoch 27: val_accuracy did not improve from 0.99869\n",
            "498/498 [==============================] - 366s 734ms/step - loss: 0.3523 - accuracy: 0.9984 - val_loss: 0.3994 - val_accuracy: 0.9986\n",
            "Epoch 28/50\n",
            "498/498 [==============================] - ETA: 0s - loss: 0.3411 - accuracy: 0.9985\n",
            "Epoch 28: val_accuracy did not improve from 0.99869\n",
            "498/498 [==============================] - 367s 736ms/step - loss: 0.3411 - accuracy: 0.9985 - val_loss: 0.4358 - val_accuracy: 0.9984\n",
            "Epoch 29/50\n",
            "498/498 [==============================] - ETA: 0s - loss: 0.3258 - accuracy: 0.9985\n",
            "Epoch 29: val_accuracy did not improve from 0.99869\n",
            "498/498 [==============================] - 372s 748ms/step - loss: 0.3258 - accuracy: 0.9985 - val_loss: 0.3844 - val_accuracy: 0.9986\n",
            "Epoch 30/50\n",
            "498/498 [==============================] - ETA: 0s - loss: 0.3642 - accuracy: 0.9984\n",
            "Epoch 30: val_accuracy did not improve from 0.99869\n",
            "498/498 [==============================] - 373s 749ms/step - loss: 0.3642 - accuracy: 0.9984 - val_loss: 0.3038 - val_accuracy: 0.9987\n",
            "Epoch 31/50\n",
            "498/498 [==============================] - ETA: 0s - loss: 0.3276 - accuracy: 0.9985\n",
            "Epoch 31: val_accuracy did not improve from 0.99869\n",
            "498/498 [==============================] - 374s 751ms/step - loss: 0.3276 - accuracy: 0.9985 - val_loss: 0.3859 - val_accuracy: 0.9985\n",
            "Epoch 32/50\n",
            "498/498 [==============================] - ETA: 0s - loss: 0.3264 - accuracy: 0.9985\n",
            "Epoch 32: val_accuracy did not improve from 0.99869\n",
            "498/498 [==============================] - 370s 743ms/step - loss: 0.3264 - accuracy: 0.9985 - val_loss: 0.3429 - val_accuracy: 0.9986\n",
            "Epoch 33/50\n",
            "498/498 [==============================] - ETA: 0s - loss: 0.2982 - accuracy: 0.9985\n",
            "Epoch 33: val_accuracy did not improve from 0.99869\n",
            "498/498 [==============================] - 369s 740ms/step - loss: 0.2982 - accuracy: 0.9985 - val_loss: 0.4224 - val_accuracy: 0.9984\n",
            "Epoch 34/50\n",
            "498/498 [==============================] - ETA: 0s - loss: 0.2850 - accuracy: 0.9986\n",
            "Epoch 34: val_accuracy did not improve from 0.99869\n",
            "498/498 [==============================] - 367s 737ms/step - loss: 0.2850 - accuracy: 0.9986 - val_loss: 0.5446 - val_accuracy: 0.9985\n",
            "Epoch 35/50\n",
            "498/498 [==============================] - ETA: 0s - loss: 0.3166 - accuracy: 0.9986\n",
            "Epoch 35: val_accuracy did not improve from 0.99869\n",
            "498/498 [==============================] - 381s 764ms/step - loss: 0.3166 - accuracy: 0.9986 - val_loss: 0.6809 - val_accuracy: 0.9984\n",
            "Epoch 36/50\n",
            "498/498 [==============================] - ETA: 0s - loss: 0.4201 - accuracy: 0.9986\n",
            "Epoch 36: val_accuracy did not improve from 0.99869\n",
            "498/498 [==============================] - 370s 742ms/step - loss: 0.4201 - accuracy: 0.9986 - val_loss: 0.3473 - val_accuracy: 0.9986\n",
            "Epoch 37/50\n",
            "498/498 [==============================] - ETA: 0s - loss: 0.2877 - accuracy: 0.9985\n",
            "Epoch 37: val_accuracy did not improve from 0.99869\n",
            "498/498 [==============================] - 368s 740ms/step - loss: 0.2877 - accuracy: 0.9985 - val_loss: 0.8227 - val_accuracy: 0.9987\n",
            "Epoch 38/50\n",
            "498/498 [==============================] - ETA: 0s - loss: 0.5002 - accuracy: 0.9985\n",
            "Epoch 38: val_accuracy did not improve from 0.99869\n",
            "498/498 [==============================] - 371s 745ms/step - loss: 0.5002 - accuracy: 0.9985 - val_loss: 0.5705 - val_accuracy: 0.9986\n",
            "Epoch 39/50\n",
            "498/498 [==============================] - ETA: 0s - loss: 0.6874 - accuracy: 0.9986\n",
            "Epoch 39: val_accuracy improved from 0.99869 to 0.99870, saving model to /content/drive/MyDrive/address-ner-trainer/newdata/weights-improvement-thainer-39-0.999.hdf5\n",
            "498/498 [==============================] - 370s 742ms/step - loss: 0.6874 - accuracy: 0.9986 - val_loss: 1.2214 - val_accuracy: 0.9987\n",
            "Epoch 40/50\n",
            "498/498 [==============================] - ETA: 0s - loss: 0.8294 - accuracy: 0.9984\n",
            "Epoch 40: val_accuracy improved from 0.99870 to 0.99883, saving model to /content/drive/MyDrive/address-ner-trainer/newdata/weights-improvement-thainer-40-0.998.hdf5\n",
            "498/498 [==============================] - 371s 745ms/step - loss: 0.8294 - accuracy: 0.9984 - val_loss: 0.2419 - val_accuracy: 0.9988\n",
            "Epoch 41/50\n",
            "498/498 [==============================] - ETA: 0s - loss: 0.1699 - accuracy: 0.9983\n",
            "Epoch 41: val_accuracy did not improve from 0.99883\n",
            "498/498 [==============================] - 368s 738ms/step - loss: 0.1699 - accuracy: 0.9983 - val_loss: 0.5826 - val_accuracy: 0.9987\n",
            "Epoch 42/50\n",
            "498/498 [==============================] - ETA: 0s - loss: 0.3217 - accuracy: 0.9982\n",
            "Epoch 42: val_accuracy did not improve from 0.99883\n",
            "498/498 [==============================] - 368s 740ms/step - loss: 0.3217 - accuracy: 0.9982 - val_loss: 0.9330 - val_accuracy: 0.9987\n",
            "Epoch 43/50\n",
            "498/498 [==============================] - ETA: 0s - loss: 0.9242 - accuracy: 0.9986\n",
            "Epoch 43: val_accuracy improved from 0.99883 to 0.99889, saving model to /content/drive/MyDrive/address-ner-trainer/newdata/weights-improvement-thainer-43-0.999.hdf5\n",
            "498/498 [==============================] - 381s 766ms/step - loss: 0.9242 - accuracy: 0.9986 - val_loss: 2.0548 - val_accuracy: 0.9989\n",
            "Epoch 44/50\n",
            "498/498 [==============================] - ETA: 0s - loss: 1.8272 - accuracy: 0.9978\n",
            "Epoch 44: val_accuracy did not improve from 0.99889\n",
            "498/498 [==============================] - 380s 763ms/step - loss: 1.8272 - accuracy: 0.9978 - val_loss: 1.6141 - val_accuracy: 0.9983\n",
            "Epoch 45/50\n",
            "498/498 [==============================] - ETA: 0s - loss: 1.6658 - accuracy: 0.9983\n",
            "Epoch 45: val_accuracy did not improve from 0.99889\n",
            "498/498 [==============================] - 372s 747ms/step - loss: 1.6658 - accuracy: 0.9983 - val_loss: 3.0234 - val_accuracy: 0.9981\n",
            "Epoch 46/50\n",
            "498/498 [==============================] - ETA: 0s - loss: 0.4853 - accuracy: 0.9981\n",
            "Epoch 46: val_accuracy did not improve from 0.99889\n",
            "498/498 [==============================] - 385s 773ms/step - loss: 0.4853 - accuracy: 0.9981 - val_loss: -1.6284 - val_accuracy: 0.9986\n",
            "Epoch 47/50\n",
            "498/498 [==============================] - ETA: 0s - loss: -1.2313 - accuracy: 0.9980\n",
            "Epoch 47: val_accuracy did not improve from 0.99889\n",
            "498/498 [==============================] - 371s 745ms/step - loss: -1.2313 - accuracy: 0.9980 - val_loss: -2.9460 - val_accuracy: 0.9984\n",
            "Epoch 48/50\n",
            "498/498 [==============================] - ETA: 0s - loss: -2.3369 - accuracy: 0.9969\n",
            "Epoch 48: val_accuracy did not improve from 0.99889\n",
            "498/498 [==============================] - 379s 761ms/step - loss: -2.3369 - accuracy: 0.9969 - val_loss: -1.0940 - val_accuracy: 0.9979\n",
            "Epoch 49/50\n",
            "498/498 [==============================] - ETA: 0s - loss: -3.6085 - accuracy: 0.9974\n",
            "Epoch 49: val_accuracy did not improve from 0.99889\n",
            "498/498 [==============================] - 374s 751ms/step - loss: -3.6085 - accuracy: 0.9974 - val_loss: -4.9452 - val_accuracy: 0.9985\n",
            "Epoch 50/50\n",
            "161/498 [========>.....................] - ETA: 4:07 - loss: -4.6269 - accuracy: 0.9976"
          ]
        }
      ],
      "source": [
        "# Define callbacks\n",
        "filepath = \"/content/drive/MyDrive/address-ner-trainer/newdata/weights-improvement-thainer-{epoch:02d}-{accuracy:.3f}.hdf5\"\n",
        "\n",
        "checkpoint = ModelCheckpoint(filepath, monitor='val_accuracy', verbose=1, save_best_only=True, mode='max')\n",
        "wandb_callback = WandbCallback()\n",
        "\n",
        "callbacks_list = [checkpoint, wandb_callback]\n",
        "\n",
        "\n",
        "# # Reshape character input\n",
        "X_char_tr_reshaped = np.array(X_char_tr).reshape((len(X_char_tr), max_len, max_len_char))\n",
        "X_char_te_reshaped = np.array(X_char_te).reshape((len(X_char_te), max_len, max_len_char))\n",
        "\n",
        "# # Train the model\n",
        "history = model.fit(\n",
        "    [X_word_tr, X_char_tr_reshaped],\n",
        "    y_tr,\n",
        "    batch_size=train_batch_size,\n",
        "    epochs=epochs,\n",
        "    verbose=1,\n",
        "    callbacks=callbacks_list,\n",
        "    validation_data=(\n",
        "        [X_word_te, X_char_te_reshaped],\n",
        "        y_te\n",
        "    ),\n",
        "    shuffle=True\n",
        ")\n",
        "\n",
        "# End the wandb run\n",
        "wandb.finish()"
      ]
    },
    {
      "cell_type": "code",
      "execution_count": null,
      "metadata": {
        "id": "S1nVWVlm7ViA"
      },
      "outputs": [],
      "source": [
        "# save_filepath=\"saved_model/last_weight-50.hdf5\"\n",
        "# model.save_weights(save_filepath)"
      ]
    },
    {
      "cell_type": "code",
      "execution_count": null,
      "metadata": {
        "id": "snjOlnzP7bjk"
      },
      "outputs": [],
      "source": [
        "load_filepath=\"/content/drive/MyDrive/address-ner-trainer/newdata/weights-improvement-thainer-25-0.998.hdf5\"\n",
        "model.load_weights(load_filepath)"
      ]
    },
    {
      "cell_type": "code",
      "execution_count": null,
      "metadata": {
        "colab": {
          "base_uri": "https://localhost:8080/"
        },
        "id": "zFfk0PZl7hW1",
        "outputId": "957e3ef2-2fc8-4955-ac58-acd9b3aee304"
      },
      "outputs": [
        {
          "output_type": "stream",
          "name": "stdout",
          "text": [
            "56/56 [==============================] - 11s 173ms/step\n"
          ]
        }
      ],
      "source": [
        "pred_model = model.predict([X_word_te,np.array(X_char_te).reshape((len(X_char_te),max_len, max_len_char))], verbose=1)"
      ]
    },
    {
      "cell_type": "code",
      "execution_count": null,
      "metadata": {
        "id": "s6MbPpmD7mw7"
      },
      "outputs": [],
      "source": [
        "# y_pred = []\n",
        "# y_true = []\n",
        "\n",
        "# for i in range(0,len(pred_model)):\n",
        "#     try:\n",
        "#         out = pred_model[i]\n",
        "#         true = y_te[i]\n",
        "#         revert_pred=[ix_to_ner[i] for i in out]\n",
        "#         revert_true=[ix_to_ner[i] for i in true]\n",
        "#         y_pred.append(revert_pred)\n",
        "#         y_true.append(revert_true)\n",
        "#     except:\n",
        "#         print (i)"
      ]
    },
    {
      "cell_type": "code",
      "execution_count": null,
      "metadata": {
        "id": "g29gdeLn7oa1"
      },
      "outputs": [],
      "source": [
        "# def ner_classification_report(y_true, y_pred):\n",
        "#     lb = LabelBinarizer()\n",
        "#     y_true_combined = lb.fit_transform(list(chain.from_iterable(y_true)))\n",
        "#     y_pred_combined = lb.transform(list(chain.from_iterable(y_pred)))\n",
        "#     tagset = list(sorted(set(lb.classes_)))\n",
        "#     tagset = [i for i in tagset if len(i.split('-')) == 2]\n",
        "#     class_indices = {cls: idx for idx, cls in enumerate(lb.classes_)}\n",
        "#     print(list(sorted(set(lb.classes_))))\n",
        "#     return classification_report(\n",
        "#         y_true_combined,\n",
        "#         y_pred_combined,\n",
        "#         labels = [class_indices[cls] for cls in tagset],\n",
        "#         target_names = tagset,\n",
        "#         digits=4\n",
        "#     )"
      ]
    },
    {
      "cell_type": "code",
      "execution_count": null,
      "metadata": {
        "colab": {
          "base_uri": "https://localhost:8080/"
        },
        "id": "_2EXF3JO7rjU",
        "outputId": "8d49845e-74fc-4eb2-edff-ed2bb5e0e9f2"
      },
      "outputs": [
        {
          "name": "stdout",
          "output_type": "stream",
          "text": [
            "['B-DATE', 'B-EMAIL', 'B-LAW', 'B-LEN', 'B-LOCATION', 'B-MONEY', 'B-ORGANIZATION', 'B-PERCENT', 'B-PERSON', 'B-PHONE', 'B-TIME', 'B-URL', 'B-ZIP', 'I-DATE', 'I-EMAIL', 'I-LAW', 'I-LEN', 'I-LOCATION', 'I-MONEY', 'I-ORGANIZATION', 'I-PERCENT', 'I-PERSON', 'I-PHONE', 'I-TIME', 'I-URL', 'O', 'pad']\n"
          ]
        },
        {
          "name": "stderr",
          "output_type": "stream",
          "text": [
            "/usr/local/lib/python3.10/dist-packages/sklearn/metrics/_classification.py:1471: UndefinedMetricWarning: Precision and F-score are ill-defined and being set to 0.0 in labels with no predicted samples. Use `zero_division` parameter to control this behavior.\n",
            "  _warn_prf(average, modifier, msg_start, len(result))\n"
          ]
        },
        {
          "name": "stdout",
          "output_type": "stream",
          "text": [
            "                precision    recall  f1-score   support\n",
            "\n",
            "        B-DATE     0.6561    0.6247    0.6400       397\n",
            "       B-EMAIL     0.0000    0.0000    0.0000         1\n",
            "         B-LAW     0.0000    0.0000    0.0000        36\n",
            "         B-LEN     0.0000    0.0000    0.0000        12\n",
            "    B-LOCATION     0.6170    0.3161    0.4180       851\n",
            "       B-MONEY     0.0000    0.0000    0.0000        69\n",
            "B-ORGANIZATION     0.7945    0.3139    0.4500      1096\n",
            "     B-PERCENT     0.0000    0.0000    0.0000        20\n",
            "      B-PERSON     0.7137    0.5711    0.6345       851\n",
            "       B-PHONE     0.0000    0.0000    0.0000        21\n",
            "        B-TIME     0.3529    0.0331    0.0606       181\n",
            "         B-URL     0.0000    0.0000    0.0000        13\n",
            "         B-ZIP     0.0000    0.0000    0.0000         1\n",
            "        I-DATE     0.8876    0.7880    0.8349       802\n",
            "       I-EMAIL     0.0000    0.0000    0.0000         2\n",
            "         I-LAW     0.0000    0.0000    0.0000       139\n",
            "         I-LEN     0.0000    0.0000    0.0000        24\n",
            "    I-LOCATION     0.7744    0.2896    0.4215       960\n",
            "       I-MONEY     0.8519    0.6461    0.7348       178\n",
            "I-ORGANIZATION     0.8493    0.2679    0.4073      1325\n",
            "     I-PERCENT     0.0000    0.0000    0.0000        25\n",
            "      I-PERSON     0.8893    0.7494    0.8134      3109\n",
            "       I-PHONE     0.0000    0.0000    0.0000        66\n",
            "        I-TIME     0.3906    0.2571    0.3101       354\n",
            "         I-URL     0.8941    0.8889    0.8915       171\n",
            "\n",
            "     micro avg     0.8049    0.4957    0.6136     10704\n",
            "     macro avg     0.3468    0.2298    0.2647     10704\n",
            "  weighted avg     0.7582    0.4957    0.5783     10704\n",
            "   samples avg     0.0187    0.0187    0.0187     10704\n",
            "\n"
          ]
        },
        {
          "name": "stderr",
          "output_type": "stream",
          "text": [
            "/usr/local/lib/python3.10/dist-packages/sklearn/metrics/_classification.py:1471: UndefinedMetricWarning: Precision and F-score are ill-defined and being set to 0.0 in samples with no predicted labels. Use `zero_division` parameter to control this behavior.\n",
            "  _warn_prf(average, modifier, msg_start, len(result))\n",
            "/usr/local/lib/python3.10/dist-packages/sklearn/metrics/_classification.py:1471: UndefinedMetricWarning: Recall and F-score are ill-defined and being set to 0.0 in samples with no true labels. Use `zero_division` parameter to control this behavior.\n",
            "  _warn_prf(average, modifier, msg_start, len(result))\n"
          ]
        }
      ],
      "source": [
        "# y_pred = np.array(y_pred)\n",
        "# y_true = np.array(y_true)\n",
        "\n",
        "# print(ner_classification_report(y_true, y_pred))"
      ]
    },
    {
      "cell_type": "code",
      "execution_count": null,
      "metadata": {
        "colab": {
          "base_uri": "https://localhost:8080/",
          "height": 1000,
          "referenced_widgets": [
            "4524e27784b14d6787e838dc1237f63b",
            "e329fe5a96dd44a7932cd05b9df9c981",
            "2d525418f30e4a798564df28c0e94a74",
            "438f01c50c6641ce95c5dccffde04978",
            "d352c50fde1445e48cc92fe01c45bb5f",
            "5181ed3ff9124ac2a8103431c19db3ab",
            "d35aa22a895d40579bc98393aa332265",
            "1463bca5598549569e94e9532cd9cfab"
          ]
        },
        "id": "zVkQ7m3Z8sl_",
        "outputId": "c41f1a7b-c000-4966-bee4-1f4819f01db9"
      },
      "outputs": [
        {
          "output_type": "display_data",
          "data": {
            "text/plain": [
              "<IPython.core.display.HTML object>"
            ],
            "text/html": [
              "Tracking run with wandb version 0.18.0"
            ]
          },
          "metadata": {}
        },
        {
          "output_type": "display_data",
          "data": {
            "text/plain": [
              "<IPython.core.display.HTML object>"
            ],
            "text/html": [
              "Run data is saved locally in <code>/content/wandb/run-20240913_021609-stz4m8f7</code>"
            ]
          },
          "metadata": {}
        },
        {
          "output_type": "display_data",
          "data": {
            "text/plain": [
              "<IPython.core.display.HTML object>"
            ],
            "text/html": [
              "Syncing run <strong><a href='https://wandb.ai/leanbiz/thai-address-ner/runs/stz4m8f7' target=\"_blank\">solar-energy-53</a></strong> to <a href='https://wandb.ai/leanbiz/thai-address-ner' target=\"_blank\">Weights & Biases</a> (<a href='https://wandb.me/run' target=\"_blank\">docs</a>)<br/>"
            ]
          },
          "metadata": {}
        },
        {
          "output_type": "display_data",
          "data": {
            "text/plain": [
              "<IPython.core.display.HTML object>"
            ],
            "text/html": [
              " View project at <a href='https://wandb.ai/leanbiz/thai-address-ner' target=\"_blank\">https://wandb.ai/leanbiz/thai-address-ner</a>"
            ]
          },
          "metadata": {}
        },
        {
          "output_type": "display_data",
          "data": {
            "text/plain": [
              "<IPython.core.display.HTML object>"
            ],
            "text/html": [
              " View run at <a href='https://wandb.ai/leanbiz/thai-address-ner/runs/stz4m8f7' target=\"_blank\">https://wandb.ai/leanbiz/thai-address-ner/runs/stz4m8f7</a>"
            ]
          },
          "metadata": {}
        },
        {
          "output_type": "stream",
          "name": "stdout",
          "text": [
            "['B-DATE', 'B-EMAIL', 'B-LAW', 'B-LEN', 'B-LOCATION', 'B-MONEY', 'B-ORGANIZATION', 'B-PERCENT', 'B-PERSON', 'B-PHONE', 'B-TIME', 'B-URL', 'B-ZIP', 'I-DATE', 'I-EMAIL', 'I-LAW', 'I-LEN', 'I-LOCATION', 'I-MONEY', 'I-ORGANIZATION', 'I-PERCENT', 'I-PERSON', 'I-PHONE', 'I-TIME', 'I-URL', 'O', 'pad']\n"
          ]
        },
        {
          "output_type": "stream",
          "name": "stderr",
          "text": [
            "/usr/local/lib/python3.10/dist-packages/sklearn/metrics/_classification.py:1471: UndefinedMetricWarning: Precision and F-score are ill-defined and being set to 0.0 in samples with no predicted labels. Use `zero_division` parameter to control this behavior.\n",
            "  _warn_prf(average, modifier, msg_start, len(result))\n",
            "/usr/local/lib/python3.10/dist-packages/sklearn/metrics/_classification.py:1471: UndefinedMetricWarning: Recall and F-score are ill-defined and being set to 0.0 in samples with no true labels. Use `zero_division` parameter to control this behavior.\n",
            "  _warn_prf(average, modifier, msg_start, len(result))\n",
            "/usr/local/lib/python3.10/dist-packages/sklearn/metrics/_classification.py:1471: UndefinedMetricWarning: Precision and F-score are ill-defined and being set to 0.0 in samples with no predicted labels. Use `zero_division` parameter to control this behavior.\n",
            "  _warn_prf(average, modifier, msg_start, len(result))\n",
            "/usr/local/lib/python3.10/dist-packages/sklearn/metrics/_classification.py:1471: UndefinedMetricWarning: Recall and F-score are ill-defined and being set to 0.0 in samples with no true labels. Use `zero_division` parameter to control this behavior.\n",
            "  _warn_prf(average, modifier, msg_start, len(result))\n"
          ]
        },
        {
          "output_type": "stream",
          "name": "stdout",
          "text": [
            "                precision    recall  f1-score   support\n",
            "\n",
            "        B-DATE     0.9889    1.0000    0.9944       622\n",
            "       B-EMAIL     1.0000    1.0000    1.0000         3\n",
            "         B-LAW     1.0000    0.9753    0.9875        81\n",
            "         B-LEN     1.0000    1.0000    1.0000        38\n",
            "    B-LOCATION     0.9942    0.9899    0.9921      1388\n",
            "       B-MONEY     1.0000    1.0000    1.0000       124\n",
            "B-ORGANIZATION     0.9898    0.9898    0.9898      1865\n",
            "     B-PERCENT     1.0000    1.0000    1.0000        32\n",
            "      B-PERSON     0.9585    0.9513    0.9549      1336\n",
            "       B-PHONE     1.0000    1.0000    1.0000        17\n",
            "        B-TIME     0.9813    0.9962    0.9887       264\n",
            "         B-URL     1.0000    1.0000    1.0000        25\n",
            "         B-ZIP     1.0000    1.0000    1.0000         3\n",
            "        I-DATE     0.9969    1.0000    0.9985      1292\n",
            "       I-EMAIL     1.0000    1.0000    1.0000        16\n",
            "         I-LAW     1.0000    0.9767    0.9882       257\n",
            "         I-LEN     1.0000    1.0000    1.0000        80\n",
            "    I-LOCATION     0.9976    0.9909    0.9942      1650\n",
            "       I-MONEY     1.0000    1.0000    1.0000       304\n",
            "I-ORGANIZATION     0.9915    0.9947    0.9931      2458\n",
            "     I-PERCENT     1.0000    1.0000    1.0000        47\n",
            "      I-PERSON     0.9878    0.9873    0.9876      5429\n",
            "       I-PHONE     1.0000    1.0000    1.0000        52\n",
            "        I-TIME     0.9865    0.9942    0.9903       514\n",
            "         I-URL     1.0000    1.0000    1.0000       332\n",
            "\n",
            "     micro avg     0.9892    0.9886    0.9889     18229\n",
            "     macro avg     0.9949    0.9939    0.9944     18229\n",
            "  weighted avg     0.9892    0.9886    0.9889     18229\n",
            "   samples avg     0.0849    0.0849    0.0849     18229\n",
            "\n",
            "Overall Accuracy: 0.9987\n"
          ]
        },
        {
          "output_type": "display_data",
          "data": {
            "text/plain": [
              "VBox(children=(Label(value='0.021 MB of 0.021 MB uploaded\\r'), FloatProgress(value=1.0, max=1.0)))"
            ],
            "application/vnd.jupyter.widget-view+json": {
              "version_major": 2,
              "version_minor": 0,
              "model_id": "4524e27784b14d6787e838dc1237f63b"
            }
          },
          "metadata": {}
        },
        {
          "output_type": "display_data",
          "data": {
            "text/plain": [
              "<IPython.core.display.HTML object>"
            ],
            "text/html": [
              "<style>\n",
              "    table.wandb td:nth-child(1) { padding: 0 10px; text-align: left ; width: auto;} td:nth-child(2) {text-align: left ; width: 100%}\n",
              "    .wandb-row { display: flex; flex-direction: row; flex-wrap: wrap; justify-content: flex-start; width: 100% }\n",
              "    .wandb-col { display: flex; flex-direction: column; flex-basis: 100%; flex: 1; padding: 10px; }\n",
              "    </style>\n",
              "<div class=\"wandb-row\"><div class=\"wandb-col\"><h3>Run history:</h3><br/><table class=\"wandb\"><tr><td>B-DATE_f1-score</td><td>▁</td></tr><tr><td>B-DATE_precision</td><td>▁</td></tr><tr><td>B-DATE_recall</td><td>▁</td></tr><tr><td>B-DATE_support</td><td>▁</td></tr><tr><td>B-EMAIL_f1-score</td><td>▁</td></tr><tr><td>B-EMAIL_precision</td><td>▁</td></tr><tr><td>B-EMAIL_recall</td><td>▁</td></tr><tr><td>B-EMAIL_support</td><td>▁</td></tr><tr><td>B-LAW_f1-score</td><td>▁</td></tr><tr><td>B-LAW_precision</td><td>▁</td></tr><tr><td>B-LAW_recall</td><td>▁</td></tr><tr><td>B-LAW_support</td><td>▁</td></tr><tr><td>B-LEN_f1-score</td><td>▁</td></tr><tr><td>B-LEN_precision</td><td>▁</td></tr><tr><td>B-LEN_recall</td><td>▁</td></tr><tr><td>B-LEN_support</td><td>▁</td></tr><tr><td>B-LOCATION_f1-score</td><td>▁</td></tr><tr><td>B-LOCATION_precision</td><td>▁</td></tr><tr><td>B-LOCATION_recall</td><td>▁</td></tr><tr><td>B-LOCATION_support</td><td>▁</td></tr><tr><td>B-MONEY_f1-score</td><td>▁</td></tr><tr><td>B-MONEY_precision</td><td>▁</td></tr><tr><td>B-MONEY_recall</td><td>▁</td></tr><tr><td>B-MONEY_support</td><td>▁</td></tr><tr><td>B-ORGANIZATION_f1-score</td><td>▁</td></tr><tr><td>B-ORGANIZATION_precision</td><td>▁</td></tr><tr><td>B-ORGANIZATION_recall</td><td>▁</td></tr><tr><td>B-ORGANIZATION_support</td><td>▁</td></tr><tr><td>B-PERCENT_f1-score</td><td>▁</td></tr><tr><td>B-PERCENT_precision</td><td>▁</td></tr><tr><td>B-PERCENT_recall</td><td>▁</td></tr><tr><td>B-PERCENT_support</td><td>▁</td></tr><tr><td>B-PERSON_f1-score</td><td>▁</td></tr><tr><td>B-PERSON_precision</td><td>▁</td></tr><tr><td>B-PERSON_recall</td><td>▁</td></tr><tr><td>B-PERSON_support</td><td>▁</td></tr><tr><td>B-PHONE_f1-score</td><td>▁</td></tr><tr><td>B-PHONE_precision</td><td>▁</td></tr><tr><td>B-PHONE_recall</td><td>▁</td></tr><tr><td>B-PHONE_support</td><td>▁</td></tr><tr><td>B-TIME_f1-score</td><td>▁</td></tr><tr><td>B-TIME_precision</td><td>▁</td></tr><tr><td>B-TIME_recall</td><td>▁</td></tr><tr><td>B-TIME_support</td><td>▁</td></tr><tr><td>B-URL_f1-score</td><td>▁</td></tr><tr><td>B-URL_precision</td><td>▁</td></tr><tr><td>B-URL_recall</td><td>▁</td></tr><tr><td>B-URL_support</td><td>▁</td></tr><tr><td>B-ZIP_f1-score</td><td>▁</td></tr><tr><td>B-ZIP_precision</td><td>▁</td></tr><tr><td>B-ZIP_recall</td><td>▁</td></tr><tr><td>B-ZIP_support</td><td>▁</td></tr><tr><td>I-DATE_f1-score</td><td>▁</td></tr><tr><td>I-DATE_precision</td><td>▁</td></tr><tr><td>I-DATE_recall</td><td>▁</td></tr><tr><td>I-DATE_support</td><td>▁</td></tr><tr><td>I-EMAIL_f1-score</td><td>▁</td></tr><tr><td>I-EMAIL_precision</td><td>▁</td></tr><tr><td>I-EMAIL_recall</td><td>▁</td></tr><tr><td>I-EMAIL_support</td><td>▁</td></tr><tr><td>I-LAW_f1-score</td><td>▁</td></tr><tr><td>I-LAW_precision</td><td>▁</td></tr><tr><td>I-LAW_recall</td><td>▁</td></tr><tr><td>I-LAW_support</td><td>▁</td></tr><tr><td>I-LEN_f1-score</td><td>▁</td></tr><tr><td>I-LEN_precision</td><td>▁</td></tr><tr><td>I-LEN_recall</td><td>▁</td></tr><tr><td>I-LEN_support</td><td>▁</td></tr><tr><td>I-LOCATION_f1-score</td><td>▁</td></tr><tr><td>I-LOCATION_precision</td><td>▁</td></tr><tr><td>I-LOCATION_recall</td><td>▁</td></tr><tr><td>I-LOCATION_support</td><td>▁</td></tr><tr><td>I-MONEY_f1-score</td><td>▁</td></tr><tr><td>I-MONEY_precision</td><td>▁</td></tr><tr><td>I-MONEY_recall</td><td>▁</td></tr><tr><td>I-MONEY_support</td><td>▁</td></tr><tr><td>I-ORGANIZATION_f1-score</td><td>▁</td></tr><tr><td>I-ORGANIZATION_precision</td><td>▁</td></tr><tr><td>I-ORGANIZATION_recall</td><td>▁</td></tr><tr><td>I-ORGANIZATION_support</td><td>▁</td></tr><tr><td>I-PERCENT_f1-score</td><td>▁</td></tr><tr><td>I-PERCENT_precision</td><td>▁</td></tr><tr><td>I-PERCENT_recall</td><td>▁</td></tr><tr><td>I-PERCENT_support</td><td>▁</td></tr><tr><td>I-PERSON_f1-score</td><td>▁</td></tr><tr><td>I-PERSON_precision</td><td>▁</td></tr><tr><td>I-PERSON_recall</td><td>▁</td></tr><tr><td>I-PERSON_support</td><td>▁</td></tr><tr><td>I-PHONE_f1-score</td><td>▁</td></tr><tr><td>I-PHONE_precision</td><td>▁</td></tr><tr><td>I-PHONE_recall</td><td>▁</td></tr><tr><td>I-PHONE_support</td><td>▁</td></tr><tr><td>I-TIME_f1-score</td><td>▁</td></tr><tr><td>I-TIME_precision</td><td>▁</td></tr><tr><td>I-TIME_recall</td><td>▁</td></tr><tr><td>I-TIME_support</td><td>▁</td></tr><tr><td>I-URL_f1-score</td><td>▁</td></tr><tr><td>I-URL_precision</td><td>▁</td></tr><tr><td>I-URL_recall</td><td>▁</td></tr><tr><td>I-URL_support</td><td>▁</td></tr><tr><td>macro avg_f1-score</td><td>▁</td></tr><tr><td>macro avg_precision</td><td>▁</td></tr><tr><td>macro avg_recall</td><td>▁</td></tr><tr><td>macro avg_support</td><td>▁</td></tr><tr><td>micro avg_f1-score</td><td>▁</td></tr><tr><td>micro avg_precision</td><td>▁</td></tr><tr><td>micro avg_recall</td><td>▁</td></tr><tr><td>micro avg_support</td><td>▁</td></tr><tr><td>overall_accuracy</td><td>▁</td></tr><tr><td>overall_macro_avg_f1</td><td>▁</td></tr><tr><td>overall_weighted_avg_f1</td><td>▁</td></tr><tr><td>samples avg_f1-score</td><td>▁</td></tr><tr><td>samples avg_precision</td><td>▁</td></tr><tr><td>samples avg_recall</td><td>▁</td></tr><tr><td>samples avg_support</td><td>▁</td></tr><tr><td>weighted avg_f1-score</td><td>▁</td></tr><tr><td>weighted avg_precision</td><td>▁</td></tr><tr><td>weighted avg_recall</td><td>▁</td></tr><tr><td>weighted avg_support</td><td>▁</td></tr></table><br/></div><div class=\"wandb-col\"><h3>Run summary:</h3><br/><table class=\"wandb\"><tr><td>B-DATE_f1-score</td><td>0.9944</td></tr><tr><td>B-DATE_precision</td><td>0.98887</td></tr><tr><td>B-DATE_recall</td><td>1</td></tr><tr><td>B-DATE_support</td><td>622</td></tr><tr><td>B-EMAIL_f1-score</td><td>1</td></tr><tr><td>B-EMAIL_precision</td><td>1</td></tr><tr><td>B-EMAIL_recall</td><td>1</td></tr><tr><td>B-EMAIL_support</td><td>3</td></tr><tr><td>B-LAW_f1-score</td><td>0.9875</td></tr><tr><td>B-LAW_precision</td><td>1</td></tr><tr><td>B-LAW_recall</td><td>0.97531</td></tr><tr><td>B-LAW_support</td><td>81</td></tr><tr><td>B-LEN_f1-score</td><td>1</td></tr><tr><td>B-LEN_precision</td><td>1</td></tr><tr><td>B-LEN_recall</td><td>1</td></tr><tr><td>B-LEN_support</td><td>38</td></tr><tr><td>B-LOCATION_f1-score</td><td>0.99206</td></tr><tr><td>B-LOCATION_precision</td><td>0.99421</td></tr><tr><td>B-LOCATION_recall</td><td>0.98991</td></tr><tr><td>B-LOCATION_support</td><td>1388</td></tr><tr><td>B-MONEY_f1-score</td><td>1</td></tr><tr><td>B-MONEY_precision</td><td>1</td></tr><tr><td>B-MONEY_recall</td><td>1</td></tr><tr><td>B-MONEY_support</td><td>124</td></tr><tr><td>B-ORGANIZATION_f1-score</td><td>0.98981</td></tr><tr><td>B-ORGANIZATION_precision</td><td>0.98981</td></tr><tr><td>B-ORGANIZATION_recall</td><td>0.98981</td></tr><tr><td>B-ORGANIZATION_support</td><td>1865</td></tr><tr><td>B-PERCENT_f1-score</td><td>1</td></tr><tr><td>B-PERCENT_precision</td><td>1</td></tr><tr><td>B-PERCENT_recall</td><td>1</td></tr><tr><td>B-PERCENT_support</td><td>32</td></tr><tr><td>B-PERSON_f1-score</td><td>0.95492</td></tr><tr><td>B-PERSON_precision</td><td>0.95852</td></tr><tr><td>B-PERSON_recall</td><td>0.95135</td></tr><tr><td>B-PERSON_support</td><td>1336</td></tr><tr><td>B-PHONE_f1-score</td><td>1</td></tr><tr><td>B-PHONE_precision</td><td>1</td></tr><tr><td>B-PHONE_recall</td><td>1</td></tr><tr><td>B-PHONE_support</td><td>17</td></tr><tr><td>B-TIME_f1-score</td><td>0.98872</td></tr><tr><td>B-TIME_precision</td><td>0.98134</td></tr><tr><td>B-TIME_recall</td><td>0.99621</td></tr><tr><td>B-TIME_support</td><td>264</td></tr><tr><td>B-URL_f1-score</td><td>1</td></tr><tr><td>B-URL_precision</td><td>1</td></tr><tr><td>B-URL_recall</td><td>1</td></tr><tr><td>B-URL_support</td><td>25</td></tr><tr><td>B-ZIP_f1-score</td><td>1</td></tr><tr><td>B-ZIP_precision</td><td>1</td></tr><tr><td>B-ZIP_recall</td><td>1</td></tr><tr><td>B-ZIP_support</td><td>3</td></tr><tr><td>I-DATE_f1-score</td><td>0.99845</td></tr><tr><td>I-DATE_precision</td><td>0.99691</td></tr><tr><td>I-DATE_recall</td><td>1</td></tr><tr><td>I-DATE_support</td><td>1292</td></tr><tr><td>I-EMAIL_f1-score</td><td>1</td></tr><tr><td>I-EMAIL_precision</td><td>1</td></tr><tr><td>I-EMAIL_recall</td><td>1</td></tr><tr><td>I-EMAIL_support</td><td>16</td></tr><tr><td>I-LAW_f1-score</td><td>0.98819</td></tr><tr><td>I-LAW_precision</td><td>1</td></tr><tr><td>I-LAW_recall</td><td>0.97665</td></tr><tr><td>I-LAW_support</td><td>257</td></tr><tr><td>I-LEN_f1-score</td><td>1</td></tr><tr><td>I-LEN_precision</td><td>1</td></tr><tr><td>I-LEN_recall</td><td>1</td></tr><tr><td>I-LEN_support</td><td>80</td></tr><tr><td>I-LOCATION_f1-score</td><td>0.99422</td></tr><tr><td>I-LOCATION_precision</td><td>0.99756</td></tr><tr><td>I-LOCATION_recall</td><td>0.99091</td></tr><tr><td>I-LOCATION_support</td><td>1650</td></tr><tr><td>I-MONEY_f1-score</td><td>1</td></tr><tr><td>I-MONEY_precision</td><td>1</td></tr><tr><td>I-MONEY_recall</td><td>1</td></tr><tr><td>I-MONEY_support</td><td>304</td></tr><tr><td>I-ORGANIZATION_f1-score</td><td>0.9931</td></tr><tr><td>I-ORGANIZATION_precision</td><td>0.99148</td></tr><tr><td>I-ORGANIZATION_recall</td><td>0.99471</td></tr><tr><td>I-ORGANIZATION_support</td><td>2458</td></tr><tr><td>I-PERCENT_f1-score</td><td>1</td></tr><tr><td>I-PERCENT_precision</td><td>1</td></tr><tr><td>I-PERCENT_recall</td><td>1</td></tr><tr><td>I-PERCENT_support</td><td>47</td></tr><tr><td>I-PERSON_f1-score</td><td>0.98756</td></tr><tr><td>I-PERSON_precision</td><td>0.98784</td></tr><tr><td>I-PERSON_recall</td><td>0.98729</td></tr><tr><td>I-PERSON_support</td><td>5429</td></tr><tr><td>I-PHONE_f1-score</td><td>1</td></tr><tr><td>I-PHONE_precision</td><td>1</td></tr><tr><td>I-PHONE_recall</td><td>1</td></tr><tr><td>I-PHONE_support</td><td>52</td></tr><tr><td>I-TIME_f1-score</td><td>0.99031</td></tr><tr><td>I-TIME_precision</td><td>0.98649</td></tr><tr><td>I-TIME_recall</td><td>0.99416</td></tr><tr><td>I-TIME_support</td><td>514</td></tr><tr><td>I-URL_f1-score</td><td>1</td></tr><tr><td>I-URL_precision</td><td>1</td></tr><tr><td>I-URL_recall</td><td>1</td></tr><tr><td>I-URL_support</td><td>332</td></tr><tr><td>macro avg_f1-score</td><td>0.99437</td></tr><tr><td>macro avg_precision</td><td>0.99492</td></tr><tr><td>macro avg_recall</td><td>0.99385</td></tr><tr><td>macro avg_support</td><td>18229</td></tr><tr><td>micro avg_f1-score</td><td>0.98894</td></tr><tr><td>micro avg_precision</td><td>0.98924</td></tr><tr><td>micro avg_recall</td><td>0.98864</td></tr><tr><td>micro avg_support</td><td>18229</td></tr><tr><td>overall_accuracy</td><td>0.99869</td></tr><tr><td>overall_macro_avg_f1</td><td>0.99437</td></tr><tr><td>overall_weighted_avg_f1</td><td>0.98893</td></tr><tr><td>samples avg_f1-score</td><td>0.0849</td></tr><tr><td>samples avg_precision</td><td>0.0849</td></tr><tr><td>samples avg_recall</td><td>0.0849</td></tr><tr><td>samples avg_support</td><td>18229</td></tr><tr><td>weighted avg_f1-score</td><td>0.98893</td></tr><tr><td>weighted avg_precision</td><td>0.98924</td></tr><tr><td>weighted avg_recall</td><td>0.98864</td></tr><tr><td>weighted avg_support</td><td>18229</td></tr></table><br/></div></div>"
            ]
          },
          "metadata": {}
        },
        {
          "output_type": "display_data",
          "data": {
            "text/plain": [
              "<IPython.core.display.HTML object>"
            ],
            "text/html": [
              " View run <strong style=\"color:#cdcd00\">solar-energy-53</strong> at: <a href='https://wandb.ai/leanbiz/thai-address-ner/runs/stz4m8f7' target=\"_blank\">https://wandb.ai/leanbiz/thai-address-ner/runs/stz4m8f7</a><br/> View project at: <a href='https://wandb.ai/leanbiz/thai-address-ner' target=\"_blank\">https://wandb.ai/leanbiz/thai-address-ner</a><br/>Synced 5 W&B file(s), 0 media file(s), 2 artifact file(s) and 1 other file(s)"
            ]
          },
          "metadata": {}
        },
        {
          "output_type": "display_data",
          "data": {
            "text/plain": [
              "<IPython.core.display.HTML object>"
            ],
            "text/html": [
              "Find logs at: <code>./wandb/run-20240913_021609-stz4m8f7/logs</code>"
            ]
          },
          "metadata": {}
        }
      ],
      "source": [
        "import wandb\n",
        "import numpy as np\n",
        "import pandas as pd\n",
        "from itertools import chain\n",
        "from sklearn.preprocessing import LabelBinarizer\n",
        "from sklearn.metrics import classification_report, accuracy_score\n",
        "\n",
        "if wandb.run is None:\n",
        "    wandb.init(project=\"thai-address-ner\", job_type=\"evaluation\")\n",
        "\n",
        "# pred_model = model.predict([X_word_te, np.array(X_char_te).reshape((len(X_char_te), max_len, max_len_char))], verbose=1)\n",
        "\n",
        "y_pred = []\n",
        "y_true = []\n",
        "\n",
        "for i in range(0, len(pred_model)):\n",
        "    try:\n",
        "        out = pred_model[i]\n",
        "        true = y_te[i]\n",
        "        revert_pred = [ix_to_ner[i] for i in out]\n",
        "        revert_true = [ix_to_ner[i] for i in true]\n",
        "        y_pred.append(revert_pred)\n",
        "        y_true.append(revert_true)\n",
        "    except:\n",
        "        print(i)\n",
        "\n",
        "def ner_classification_report(y_true, y_pred):\n",
        "    lb = LabelBinarizer()\n",
        "    y_true_combined = lb.fit_transform(list(chain.from_iterable(y_true)))\n",
        "    y_pred_combined = lb.transform(list(chain.from_iterable(y_pred)))\n",
        "    tagset = list(sorted(set(lb.classes_)))\n",
        "    tagset = [i for i in tagset if len(i.split('-')) == 2]\n",
        "    class_indices = {cls: idx for idx, cls in enumerate(lb.classes_)}\n",
        "    print(list(sorted(set(lb.classes_))))\n",
        "    report = classification_report(\n",
        "        y_true_combined,\n",
        "        y_pred_combined,\n",
        "        labels = [class_indices[cls] for cls in tagset],\n",
        "        target_names = tagset,\n",
        "        digits=4,\n",
        "        output_dict=True  # Return a dict instead of a string\n",
        "    )\n",
        "    return report, y_true_combined, y_pred_combined, tagset, class_indices\n",
        "\n",
        "y_pred = np.array(y_pred)\n",
        "y_true = np.array(y_true)\n",
        "\n",
        "# Get the classification report and combined true/pred values\n",
        "report, y_true_combined, y_pred_combined, tagset, class_indices = ner_classification_report(y_true, y_pred)\n",
        "\n",
        "# Calculate accuracy\n",
        "accuracy = accuracy_score(y_true_combined.argmax(axis=1), y_pred_combined.argmax(axis=1))\n",
        "\n",
        "# Log the report to wandb\n",
        "wandb.log({\"classification_report\": wandb.Table(dataframe=pd.DataFrame(report).transpose())})\n",
        "\n",
        "# Log individual metrics\n",
        "for label, metrics in report.items():\n",
        "    if isinstance(metrics, dict):  # Skip non-dict items\n",
        "        wandb.log({f\"{label}_precision\": metrics['precision'],\n",
        "                   f\"{label}_recall\": metrics['recall'],\n",
        "                   f\"{label}_f1-score\": metrics['f1-score'],\n",
        "                   f\"{label}_support\": metrics['support']})\n",
        "\n",
        "# Log overall metrics\n",
        "wandb.log({\"overall_accuracy\": accuracy,\n",
        "           \"overall_macro_avg_f1\": report['macro avg']['f1-score'],\n",
        "           \"overall_weighted_avg_f1\": report['weighted avg']['f1-score']})\n",
        "\n",
        "# Print the report and accuracy (optional)\n",
        "print(classification_report(\n",
        "    y_true_combined,\n",
        "    y_pred_combined,\n",
        "    labels = [class_indices[cls] for cls in tagset],\n",
        "    target_names = tagset,\n",
        "    digits=4\n",
        "))\n",
        "print(f\"Overall Accuracy: {accuracy:.4f}\")\n",
        "\n",
        "# Create a notification with evaluation results\n",
        "wandb.alert(\n",
        "    title=\"Evaluation Completed: Thai Address NER\",\n",
        "    text=f\"Evaluation has finished.\\n\"\n",
        "         f\"Overall Accuracy: {accuracy:.4f}\\n\"\n",
        "         f\"Macro Avg F1-Score: {report['macro avg']['f1-score']:.4f}\\n\"\n",
        "         f\"Weighted Avg F1-Score: {report['weighted avg']['f1-score']:.4f}\\n\\n\"\n",
        "         f\"Individual Entity Performance:\\n\" +\n",
        "         \"\\n\".join([f\"{label}: F1-Score: {metrics['f1-score']:.4f}, Precision: {metrics['precision']:.4f}, Recall: {metrics['recall']:.4f}\"\n",
        "                    for label, metrics in report.items() if isinstance(metrics, dict) and label not in ['micro avg', 'macro avg', 'weighted avg']]),\n",
        "    level=wandb.AlertLevel.INFO\n",
        ")\n",
        "\n",
        "# Finish the wandb run\n",
        "wandb.finish()"
      ]
    },
    {
      "cell_type": "code",
      "execution_count": null,
      "metadata": {
        "id": "VfiIKjCov_l1"
      },
      "outputs": [],
      "source": []
    },
    {
      "cell_type": "code",
      "source": [
        "from tensorflow.keras.models import load_model\n",
        "from os.path import join as opj\n",
        "model = load_model(\"/content/drive/MyDrive/address-ner-trainer/saved_model/ner.h5\", custom_objects={\"CRF\": CRF}, compile=False)\n"
      ],
      "metadata": {
        "id": "ax4mcFiYAOjM"
      },
      "execution_count": null,
      "outputs": []
    },
    {
      "cell_type": "code",
      "source": [
        "# pred_model1 = model.predict([X_word_te_padded, X_char_te_reshaped], verbose=1)\n",
        "pred_model = model.predict([X_word_te,np.array(X_char_te).reshape((len(X_char_te),max_len, max_len_char))], verbose=1)"
      ],
      "metadata": {
        "colab": {
          "base_uri": "https://localhost:8080/"
        },
        "id": "d8je-qBd6IPN",
        "outputId": "5c1a0e88-5145-4454-f3cb-e68a4d673444"
      },
      "execution_count": null,
      "outputs": [
        {
          "output_type": "stream",
          "name": "stdout",
          "text": [
            "32/32 [==============================] - 7s 182ms/step\n"
          ]
        }
      ]
    },
    {
      "cell_type": "code",
      "source": [
        "import wandb\n",
        "import numpy as np\n",
        "import pandas as pd\n",
        "from itertools import chain\n",
        "from sklearn.preprocessing import LabelBinarizer\n",
        "from sklearn.metrics import classification_report, accuracy_score\n",
        "\n",
        "if wandb.run is None:\n",
        "    wandb.init(project=\"thai-address-ner\", job_type=\"evaluation\")\n",
        "\n",
        "# pred_model = model.predict([X_word_te, np.array(X_char_te).reshape((len(X_char_te), max_len, max_len_char))], verbose=1)\n",
        "\n",
        "y_pred = []\n",
        "y_true = []\n",
        "\n",
        "for i in range(0, len(pred_model)):\n",
        "    try:\n",
        "        out = pred_model[i]\n",
        "        true = y_te[i]\n",
        "        revert_pred = [ix_to_ner[i] for i in out]\n",
        "        revert_true = [ix_to_ner[i] for i in true]\n",
        "        y_pred.append(revert_pred)\n",
        "        y_true.append(revert_true)\n",
        "    except:\n",
        "        print(i)\n",
        "\n",
        "def ner_classification_report(y_true, y_pred):\n",
        "    lb = LabelBinarizer()\n",
        "    y_true_combined = lb.fit_transform(list(chain.from_iterable(y_true)))\n",
        "    y_pred_combined = lb.transform(list(chain.from_iterable(y_pred)))\n",
        "    tagset = list(sorted(set(lb.classes_)))\n",
        "    tagset = [i for i in tagset if len(i.split('-')) == 2]\n",
        "    class_indices = {cls: idx for idx, cls in enumerate(lb.classes_)}\n",
        "    print(list(sorted(set(lb.classes_))))\n",
        "    report = classification_report(\n",
        "        y_true_combined,\n",
        "        y_pred_combined,\n",
        "        labels = [class_indices[cls] for cls in tagset],\n",
        "        target_names = tagset,\n",
        "        digits=4,\n",
        "        output_dict=True  # Return a dict instead of a string\n",
        "    )\n",
        "    return report, y_true_combined, y_pred_combined, tagset, class_indices\n",
        "\n",
        "y_pred = np.array(y_pred)\n",
        "y_true = np.array(y_true)\n",
        "\n",
        "# Get the classification report and combined true/pred values\n",
        "report, y_true_combined, y_pred_combined, tagset, class_indices = ner_classification_report(y_true, y_pred)\n",
        "\n",
        "# Calculate accuracy\n",
        "accuracy = accuracy_score(y_true_combined.argmax(axis=1), y_pred_combined.argmax(axis=1))\n",
        "\n",
        "# Log the report to wandb\n",
        "wandb.log({\"classification_report\": wandb.Table(dataframe=pd.DataFrame(report).transpose())})\n",
        "\n",
        "# Log individual metrics\n",
        "for label, metrics in report.items():\n",
        "    if isinstance(metrics, dict):  # Skip non-dict items\n",
        "        wandb.log({f\"{label}_precision\": metrics['precision'],\n",
        "                   f\"{label}_recall\": metrics['recall'],\n",
        "                   f\"{label}_f1-score\": metrics['f1-score'],\n",
        "                   f\"{label}_support\": metrics['support']})\n",
        "\n",
        "# Log overall metrics\n",
        "wandb.log({\"overall_accuracy\": accuracy,\n",
        "           \"overall_macro_avg_f1\": report['macro avg']['f1-score'],\n",
        "           \"overall_weighted_avg_f1\": report['weighted avg']['f1-score']})\n",
        "\n",
        "# Print the report and accuracy (optional)\n",
        "print(classification_report(\n",
        "    y_true_combined,\n",
        "    y_pred_combined,\n",
        "    labels = [class_indices[cls] for cls in tagset],\n",
        "    target_names = tagset,\n",
        "    digits=4\n",
        "))\n",
        "print(f\"Overall Accuracy: {accuracy:.4f}\")\n",
        "\n",
        "# Create a notification with evaluation results\n",
        "wandb.alert(\n",
        "    title=\"Evaluation Completed: Thai Address NER 🤔 (Old Model)\",\n",
        "    text=f\"Evaluation has finished.\\n\"\n",
        "         f\"Overall Accuracy: {accuracy:.4f}\\n\"\n",
        "         f\"Macro Avg F1-Score: {report['macro avg']['f1-score']:.4f}\\n\"\n",
        "         f\"Weighted Avg F1-Score: {report['weighted avg']['f1-score']:.4f}\\n\\n\"\n",
        "         f\"Individual Entity Performance:\\n\" +\n",
        "         \"\\n\".join([f\"{label}: F1-Score: {metrics['f1-score']:.4f}, Precision: {metrics['precision']:.4f}, Recall: {metrics['recall']:.4f}\"\n",
        "                    for label, metrics in report.items() if isinstance(metrics, dict) and label not in ['micro avg', 'macro avg', 'weighted avg']]),\n",
        "    level=wandb.AlertLevel.INFO\n",
        ")\n",
        "\n",
        "# Finish the wandb run\n",
        "wandb.finish()"
      ],
      "metadata": {
        "colab": {
          "base_uri": "https://localhost:8080/",
          "height": 1000,
          "referenced_widgets": [
            "86faa2bc8bec496ea90230059fcaba34",
            "5378a46e5dcb462cb8394614e206be98",
            "c1d6f336bfca4356bf089ec3fef136c0",
            "ba820177cd0441d49c2520ae405c643d",
            "db156305dc664cb195e37583928d6186",
            "dbc5d2ebda5f4e629181aadb60483ffb",
            "bf320ded80984734972fd22702ef02f9",
            "e953783dae1548dfbffe489681f12580"
          ]
        },
        "id": "I6bddeqL6CpK",
        "outputId": "ef37afc8-83dd-4a7d-9c07-ede953248c6a"
      },
      "execution_count": null,
      "outputs": [
        {
          "output_type": "display_data",
          "data": {
            "text/plain": [
              "<IPython.core.display.HTML object>"
            ],
            "text/html": [
              "Tracking run with wandb version 0.18.0"
            ]
          },
          "metadata": {}
        },
        {
          "output_type": "display_data",
          "data": {
            "text/plain": [
              "<IPython.core.display.HTML object>"
            ],
            "text/html": [
              "Run data is saved locally in <code>/content/wandb/run-20240912_030155-jvd9rq4j</code>"
            ]
          },
          "metadata": {}
        },
        {
          "output_type": "display_data",
          "data": {
            "text/plain": [
              "<IPython.core.display.HTML object>"
            ],
            "text/html": [
              "Syncing run <strong><a href='https://wandb.ai/leanbiz/thai-address-ner/runs/jvd9rq4j' target=\"_blank\">dazzling-oath-39</a></strong> to <a href='https://wandb.ai/leanbiz/thai-address-ner' target=\"_blank\">Weights & Biases</a> (<a href='https://wandb.me/run' target=\"_blank\">docs</a>)<br/>"
            ]
          },
          "metadata": {}
        },
        {
          "output_type": "display_data",
          "data": {
            "text/plain": [
              "<IPython.core.display.HTML object>"
            ],
            "text/html": [
              " View project at <a href='https://wandb.ai/leanbiz/thai-address-ner' target=\"_blank\">https://wandb.ai/leanbiz/thai-address-ner</a>"
            ]
          },
          "metadata": {}
        },
        {
          "output_type": "display_data",
          "data": {
            "text/plain": [
              "<IPython.core.display.HTML object>"
            ],
            "text/html": [
              " View run at <a href='https://wandb.ai/leanbiz/thai-address-ner/runs/jvd9rq4j' target=\"_blank\">https://wandb.ai/leanbiz/thai-address-ner/runs/jvd9rq4j</a>"
            ]
          },
          "metadata": {}
        },
        {
          "output_type": "stream",
          "name": "stdout",
          "text": [
            "['B-DATE', 'B-EMAIL', 'B-LAW', 'B-LEN', 'B-LOCATION', 'B-MONEY', 'B-ORGANIZATION', 'B-PERCENT', 'B-PERSON', 'B-PHONE', 'B-TIME', 'B-URL', 'B-ZIP', 'I-DATE', 'I-EMAIL', 'I-LAW', 'I-LEN', 'I-LOCATION', 'I-MONEY', 'I-ORGANIZATION', 'I-PERCENT', 'I-PERSON', 'I-PHONE', 'I-TIME', 'I-URL', 'O', 'pad']\n"
          ]
        },
        {
          "output_type": "stream",
          "name": "stderr",
          "text": [
            "/usr/local/lib/python3.10/dist-packages/sklearn/metrics/_classification.py:1471: UndefinedMetricWarning: Precision and F-score are ill-defined and being set to 0.0 in labels with no predicted samples. Use `zero_division` parameter to control this behavior.\n",
            "  _warn_prf(average, modifier, msg_start, len(result))\n",
            "/usr/local/lib/python3.10/dist-packages/sklearn/metrics/_classification.py:1471: UndefinedMetricWarning: Recall and F-score are ill-defined and being set to 0.0 in samples with no true labels. Use `zero_division` parameter to control this behavior.\n",
            "  _warn_prf(average, modifier, msg_start, len(result))\n",
            "/usr/local/lib/python3.10/dist-packages/sklearn/metrics/_classification.py:1471: UndefinedMetricWarning: Precision and F-score are ill-defined and being set to 0.0 in labels with no predicted samples. Use `zero_division` parameter to control this behavior.\n",
            "  _warn_prf(average, modifier, msg_start, len(result))\n",
            "/usr/local/lib/python3.10/dist-packages/sklearn/metrics/_classification.py:1471: UndefinedMetricWarning: Recall and F-score are ill-defined and being set to 0.0 in samples with no true labels. Use `zero_division` parameter to control this behavior.\n",
            "  _warn_prf(average, modifier, msg_start, len(result))\n"
          ]
        },
        {
          "output_type": "stream",
          "name": "stdout",
          "text": [
            "                precision    recall  f1-score   support\n",
            "\n",
            "        B-DATE     0.9124    0.8368    0.8730       386\n",
            "       B-EMAIL     0.0000    0.0000    0.0000         1\n",
            "         B-LAW     0.8889    0.6667    0.7619        36\n",
            "         B-LEN     0.8000    1.0000    0.8889        12\n",
            "    B-LOCATION     0.9105    0.7398    0.8163       811\n",
            "       B-MONEY     0.8222    0.5873    0.6852        63\n",
            "B-ORGANIZATION     0.8735    0.6848    0.7677      1069\n",
            "     B-PERCENT     0.8750    0.5833    0.7000        12\n",
            "      B-PERSON     0.7786    0.6631    0.7162       843\n",
            "       B-PHONE     1.0000    0.0952    0.1739        21\n",
            "        B-TIME     0.6209    0.5337    0.5740       178\n",
            "         B-URL     0.9091    0.9091    0.9091        11\n",
            "         B-ZIP     0.0000    0.0000    0.0000         1\n",
            "        I-DATE     0.0000    0.0000    0.0000       777\n",
            "       I-EMAIL     0.0000    0.0000    0.0000         2\n",
            "         I-LAW     0.0000    0.0000    0.0000       139\n",
            "         I-LEN     0.0000    0.0000    0.0000        24\n",
            "    I-LOCATION     0.0224    0.0293    0.0254       921\n",
            "       I-MONEY     0.0000    0.0000    0.0000       162\n",
            "I-ORGANIZATION     0.0050    0.0101    0.0067      1288\n",
            "     I-PERCENT     0.0000    0.0000    0.0000        16\n",
            "      I-PERSON     0.0085    0.0006    0.0012      3084\n",
            "       I-PHONE     0.0000    0.0000    0.0000        66\n",
            "        I-TIME     0.0025    0.2816    0.0049       348\n",
            "         I-URL     0.0000    0.0000    0.0000       145\n",
            "\n",
            "     micro avg     0.0212    0.2440    0.0389     10416\n",
            "     macro avg     0.3772    0.3049    0.3162     10416\n",
            "  weighted avg     0.2861    0.2440    0.2560     10416\n",
            "   samples avg     0.0212    0.0212    0.0212     10416\n",
            "\n",
            "Overall Accuracy: 0.0212\n"
          ]
        },
        {
          "output_type": "display_data",
          "data": {
            "text/plain": [
              "VBox(children=(Label(value='0.022 MB of 0.022 MB uploaded\\r'), FloatProgress(value=1.0, max=1.0)))"
            ],
            "application/vnd.jupyter.widget-view+json": {
              "version_major": 2,
              "version_minor": 0,
              "model_id": "86faa2bc8bec496ea90230059fcaba34"
            }
          },
          "metadata": {}
        },
        {
          "output_type": "display_data",
          "data": {
            "text/plain": [
              "<IPython.core.display.HTML object>"
            ],
            "text/html": [
              "<style>\n",
              "    table.wandb td:nth-child(1) { padding: 0 10px; text-align: left ; width: auto;} td:nth-child(2) {text-align: left ; width: 100%}\n",
              "    .wandb-row { display: flex; flex-direction: row; flex-wrap: wrap; justify-content: flex-start; width: 100% }\n",
              "    .wandb-col { display: flex; flex-direction: column; flex-basis: 100%; flex: 1; padding: 10px; }\n",
              "    </style>\n",
              "<div class=\"wandb-row\"><div class=\"wandb-col\"><h3>Run history:</h3><br/><table class=\"wandb\"><tr><td>B-DATE_f1-score</td><td>▁</td></tr><tr><td>B-DATE_precision</td><td>▁</td></tr><tr><td>B-DATE_recall</td><td>▁</td></tr><tr><td>B-DATE_support</td><td>▁</td></tr><tr><td>B-EMAIL_f1-score</td><td>▁</td></tr><tr><td>B-EMAIL_precision</td><td>▁</td></tr><tr><td>B-EMAIL_recall</td><td>▁</td></tr><tr><td>B-EMAIL_support</td><td>▁</td></tr><tr><td>B-LAW_f1-score</td><td>▁</td></tr><tr><td>B-LAW_precision</td><td>▁</td></tr><tr><td>B-LAW_recall</td><td>▁</td></tr><tr><td>B-LAW_support</td><td>▁</td></tr><tr><td>B-LEN_f1-score</td><td>▁</td></tr><tr><td>B-LEN_precision</td><td>▁</td></tr><tr><td>B-LEN_recall</td><td>▁</td></tr><tr><td>B-LEN_support</td><td>▁</td></tr><tr><td>B-LOCATION_f1-score</td><td>▁</td></tr><tr><td>B-LOCATION_precision</td><td>▁</td></tr><tr><td>B-LOCATION_recall</td><td>▁</td></tr><tr><td>B-LOCATION_support</td><td>▁</td></tr><tr><td>B-MONEY_f1-score</td><td>▁</td></tr><tr><td>B-MONEY_precision</td><td>▁</td></tr><tr><td>B-MONEY_recall</td><td>▁</td></tr><tr><td>B-MONEY_support</td><td>▁</td></tr><tr><td>B-ORGANIZATION_f1-score</td><td>▁</td></tr><tr><td>B-ORGANIZATION_precision</td><td>▁</td></tr><tr><td>B-ORGANIZATION_recall</td><td>▁</td></tr><tr><td>B-ORGANIZATION_support</td><td>▁</td></tr><tr><td>B-PERCENT_f1-score</td><td>▁</td></tr><tr><td>B-PERCENT_precision</td><td>▁</td></tr><tr><td>B-PERCENT_recall</td><td>▁</td></tr><tr><td>B-PERCENT_support</td><td>▁</td></tr><tr><td>B-PERSON_f1-score</td><td>▁</td></tr><tr><td>B-PERSON_precision</td><td>▁</td></tr><tr><td>B-PERSON_recall</td><td>▁</td></tr><tr><td>B-PERSON_support</td><td>▁</td></tr><tr><td>B-PHONE_f1-score</td><td>▁</td></tr><tr><td>B-PHONE_precision</td><td>▁</td></tr><tr><td>B-PHONE_recall</td><td>▁</td></tr><tr><td>B-PHONE_support</td><td>▁</td></tr><tr><td>B-TIME_f1-score</td><td>▁</td></tr><tr><td>B-TIME_precision</td><td>▁</td></tr><tr><td>B-TIME_recall</td><td>▁</td></tr><tr><td>B-TIME_support</td><td>▁</td></tr><tr><td>B-URL_f1-score</td><td>▁</td></tr><tr><td>B-URL_precision</td><td>▁</td></tr><tr><td>B-URL_recall</td><td>▁</td></tr><tr><td>B-URL_support</td><td>▁</td></tr><tr><td>B-ZIP_f1-score</td><td>▁</td></tr><tr><td>B-ZIP_precision</td><td>▁</td></tr><tr><td>B-ZIP_recall</td><td>▁</td></tr><tr><td>B-ZIP_support</td><td>▁</td></tr><tr><td>I-DATE_f1-score</td><td>▁</td></tr><tr><td>I-DATE_precision</td><td>▁</td></tr><tr><td>I-DATE_recall</td><td>▁</td></tr><tr><td>I-DATE_support</td><td>▁</td></tr><tr><td>I-EMAIL_f1-score</td><td>▁</td></tr><tr><td>I-EMAIL_precision</td><td>▁</td></tr><tr><td>I-EMAIL_recall</td><td>▁</td></tr><tr><td>I-EMAIL_support</td><td>▁</td></tr><tr><td>I-LAW_f1-score</td><td>▁</td></tr><tr><td>I-LAW_precision</td><td>▁</td></tr><tr><td>I-LAW_recall</td><td>▁</td></tr><tr><td>I-LAW_support</td><td>▁</td></tr><tr><td>I-LEN_f1-score</td><td>▁</td></tr><tr><td>I-LEN_precision</td><td>▁</td></tr><tr><td>I-LEN_recall</td><td>▁</td></tr><tr><td>I-LEN_support</td><td>▁</td></tr><tr><td>I-LOCATION_f1-score</td><td>▁</td></tr><tr><td>I-LOCATION_precision</td><td>▁</td></tr><tr><td>I-LOCATION_recall</td><td>▁</td></tr><tr><td>I-LOCATION_support</td><td>▁</td></tr><tr><td>I-MONEY_f1-score</td><td>▁</td></tr><tr><td>I-MONEY_precision</td><td>▁</td></tr><tr><td>I-MONEY_recall</td><td>▁</td></tr><tr><td>I-MONEY_support</td><td>▁</td></tr><tr><td>I-ORGANIZATION_f1-score</td><td>▁</td></tr><tr><td>I-ORGANIZATION_precision</td><td>▁</td></tr><tr><td>I-ORGANIZATION_recall</td><td>▁</td></tr><tr><td>I-ORGANIZATION_support</td><td>▁</td></tr><tr><td>I-PERCENT_f1-score</td><td>▁</td></tr><tr><td>I-PERCENT_precision</td><td>▁</td></tr><tr><td>I-PERCENT_recall</td><td>▁</td></tr><tr><td>I-PERCENT_support</td><td>▁</td></tr><tr><td>I-PERSON_f1-score</td><td>▁</td></tr><tr><td>I-PERSON_precision</td><td>▁</td></tr><tr><td>I-PERSON_recall</td><td>▁</td></tr><tr><td>I-PERSON_support</td><td>▁</td></tr><tr><td>I-PHONE_f1-score</td><td>▁</td></tr><tr><td>I-PHONE_precision</td><td>▁</td></tr><tr><td>I-PHONE_recall</td><td>▁</td></tr><tr><td>I-PHONE_support</td><td>▁</td></tr><tr><td>I-TIME_f1-score</td><td>▁</td></tr><tr><td>I-TIME_precision</td><td>▁</td></tr><tr><td>I-TIME_recall</td><td>▁</td></tr><tr><td>I-TIME_support</td><td>▁</td></tr><tr><td>I-URL_f1-score</td><td>▁</td></tr><tr><td>I-URL_precision</td><td>▁</td></tr><tr><td>I-URL_recall</td><td>▁</td></tr><tr><td>I-URL_support</td><td>▁</td></tr><tr><td>macro avg_f1-score</td><td>▁</td></tr><tr><td>macro avg_precision</td><td>▁</td></tr><tr><td>macro avg_recall</td><td>▁</td></tr><tr><td>macro avg_support</td><td>▁</td></tr><tr><td>micro avg_f1-score</td><td>▁</td></tr><tr><td>micro avg_precision</td><td>▁</td></tr><tr><td>micro avg_recall</td><td>▁</td></tr><tr><td>micro avg_support</td><td>▁</td></tr><tr><td>overall_accuracy</td><td>▁</td></tr><tr><td>overall_macro_avg_f1</td><td>▁</td></tr><tr><td>overall_weighted_avg_f1</td><td>▁</td></tr><tr><td>samples avg_f1-score</td><td>▁</td></tr><tr><td>samples avg_precision</td><td>▁</td></tr><tr><td>samples avg_recall</td><td>▁</td></tr><tr><td>samples avg_support</td><td>▁</td></tr><tr><td>weighted avg_f1-score</td><td>▁</td></tr><tr><td>weighted avg_precision</td><td>▁</td></tr><tr><td>weighted avg_recall</td><td>▁</td></tr><tr><td>weighted avg_support</td><td>▁</td></tr></table><br/></div><div class=\"wandb-col\"><h3>Run summary:</h3><br/><table class=\"wandb\"><tr><td>B-DATE_f1-score</td><td>0.87297</td></tr><tr><td>B-DATE_precision</td><td>0.91243</td></tr><tr><td>B-DATE_recall</td><td>0.83679</td></tr><tr><td>B-DATE_support</td><td>386</td></tr><tr><td>B-EMAIL_f1-score</td><td>0</td></tr><tr><td>B-EMAIL_precision</td><td>0</td></tr><tr><td>B-EMAIL_recall</td><td>0</td></tr><tr><td>B-EMAIL_support</td><td>1</td></tr><tr><td>B-LAW_f1-score</td><td>0.7619</td></tr><tr><td>B-LAW_precision</td><td>0.88889</td></tr><tr><td>B-LAW_recall</td><td>0.66667</td></tr><tr><td>B-LAW_support</td><td>36</td></tr><tr><td>B-LEN_f1-score</td><td>0.88889</td></tr><tr><td>B-LEN_precision</td><td>0.8</td></tr><tr><td>B-LEN_recall</td><td>1</td></tr><tr><td>B-LEN_support</td><td>12</td></tr><tr><td>B-LOCATION_f1-score</td><td>0.81633</td></tr><tr><td>B-LOCATION_precision</td><td>0.91047</td></tr><tr><td>B-LOCATION_recall</td><td>0.73983</td></tr><tr><td>B-LOCATION_support</td><td>811</td></tr><tr><td>B-MONEY_f1-score</td><td>0.68519</td></tr><tr><td>B-MONEY_precision</td><td>0.82222</td></tr><tr><td>B-MONEY_recall</td><td>0.5873</td></tr><tr><td>B-MONEY_support</td><td>63</td></tr><tr><td>B-ORGANIZATION_f1-score</td><td>0.7677</td></tr><tr><td>B-ORGANIZATION_precision</td><td>0.87351</td></tr><tr><td>B-ORGANIZATION_recall</td><td>0.68475</td></tr><tr><td>B-ORGANIZATION_support</td><td>1069</td></tr><tr><td>B-PERCENT_f1-score</td><td>0.7</td></tr><tr><td>B-PERCENT_precision</td><td>0.875</td></tr><tr><td>B-PERCENT_recall</td><td>0.58333</td></tr><tr><td>B-PERCENT_support</td><td>12</td></tr><tr><td>B-PERSON_f1-score</td><td>0.71621</td></tr><tr><td>B-PERSON_precision</td><td>0.77855</td></tr><tr><td>B-PERSON_recall</td><td>0.66311</td></tr><tr><td>B-PERSON_support</td><td>843</td></tr><tr><td>B-PHONE_f1-score</td><td>0.17391</td></tr><tr><td>B-PHONE_precision</td><td>1</td></tr><tr><td>B-PHONE_recall</td><td>0.09524</td></tr><tr><td>B-PHONE_support</td><td>21</td></tr><tr><td>B-TIME_f1-score</td><td>0.57402</td></tr><tr><td>B-TIME_precision</td><td>0.62092</td></tr><tr><td>B-TIME_recall</td><td>0.53371</td></tr><tr><td>B-TIME_support</td><td>178</td></tr><tr><td>B-URL_f1-score</td><td>0.90909</td></tr><tr><td>B-URL_precision</td><td>0.90909</td></tr><tr><td>B-URL_recall</td><td>0.90909</td></tr><tr><td>B-URL_support</td><td>11</td></tr><tr><td>B-ZIP_f1-score</td><td>0</td></tr><tr><td>B-ZIP_precision</td><td>0</td></tr><tr><td>B-ZIP_recall</td><td>0</td></tr><tr><td>B-ZIP_support</td><td>1</td></tr><tr><td>I-DATE_f1-score</td><td>0</td></tr><tr><td>I-DATE_precision</td><td>0</td></tr><tr><td>I-DATE_recall</td><td>0</td></tr><tr><td>I-DATE_support</td><td>777</td></tr><tr><td>I-EMAIL_f1-score</td><td>0</td></tr><tr><td>I-EMAIL_precision</td><td>0</td></tr><tr><td>I-EMAIL_recall</td><td>0</td></tr><tr><td>I-EMAIL_support</td><td>2</td></tr><tr><td>I-LAW_f1-score</td><td>0</td></tr><tr><td>I-LAW_precision</td><td>0</td></tr><tr><td>I-LAW_recall</td><td>0</td></tr><tr><td>I-LAW_support</td><td>139</td></tr><tr><td>I-LEN_f1-score</td><td>0</td></tr><tr><td>I-LEN_precision</td><td>0</td></tr><tr><td>I-LEN_recall</td><td>0</td></tr><tr><td>I-LEN_support</td><td>24</td></tr><tr><td>I-LOCATION_f1-score</td><td>0.0254</td></tr><tr><td>I-LOCATION_precision</td><td>0.02241</td></tr><tr><td>I-LOCATION_recall</td><td>0.02932</td></tr><tr><td>I-LOCATION_support</td><td>921</td></tr><tr><td>I-MONEY_f1-score</td><td>0</td></tr><tr><td>I-MONEY_precision</td><td>0</td></tr><tr><td>I-MONEY_recall</td><td>0</td></tr><tr><td>I-MONEY_support</td><td>162</td></tr><tr><td>I-ORGANIZATION_f1-score</td><td>0.00667</td></tr><tr><td>I-ORGANIZATION_precision</td><td>0.00498</td></tr><tr><td>I-ORGANIZATION_recall</td><td>0.01009</td></tr><tr><td>I-ORGANIZATION_support</td><td>1288</td></tr><tr><td>I-PERCENT_f1-score</td><td>0</td></tr><tr><td>I-PERCENT_precision</td><td>0</td></tr><tr><td>I-PERCENT_recall</td><td>0</td></tr><tr><td>I-PERCENT_support</td><td>16</td></tr><tr><td>I-PERSON_f1-score</td><td>0.00121</td></tr><tr><td>I-PERSON_precision</td><td>0.00855</td></tr><tr><td>I-PERSON_recall</td><td>0.00065</td></tr><tr><td>I-PERSON_support</td><td>3084</td></tr><tr><td>I-PHONE_f1-score</td><td>0</td></tr><tr><td>I-PHONE_precision</td><td>0</td></tr><tr><td>I-PHONE_recall</td><td>0</td></tr><tr><td>I-PHONE_support</td><td>66</td></tr><tr><td>I-TIME_f1-score</td><td>0.00492</td></tr><tr><td>I-TIME_precision</td><td>0.00248</td></tr><tr><td>I-TIME_recall</td><td>0.28161</td></tr><tr><td>I-TIME_support</td><td>348</td></tr><tr><td>I-URL_f1-score</td><td>0</td></tr><tr><td>I-URL_precision</td><td>0</td></tr><tr><td>I-URL_recall</td><td>0</td></tr><tr><td>I-URL_support</td><td>145</td></tr><tr><td>macro avg_f1-score</td><td>0.31618</td></tr><tr><td>macro avg_precision</td><td>0.37718</td></tr><tr><td>macro avg_recall</td><td>0.30486</td></tr><tr><td>macro avg_support</td><td>10416</td></tr><tr><td>micro avg_f1-score</td><td>0.03893</td></tr><tr><td>micro avg_precision</td><td>0.02115</td></tr><tr><td>micro avg_recall</td><td>0.24395</td></tr><tr><td>micro avg_support</td><td>10416</td></tr><tr><td>overall_accuracy</td><td>0.02115</td></tr><tr><td>overall_macro_avg_f1</td><td>0.31618</td></tr><tr><td>overall_weighted_avg_f1</td><td>0.25598</td></tr><tr><td>samples avg_f1-score</td><td>0.02115</td></tr><tr><td>samples avg_precision</td><td>0.02115</td></tr><tr><td>samples avg_recall</td><td>0.02115</td></tr><tr><td>samples avg_support</td><td>10416</td></tr><tr><td>weighted avg_f1-score</td><td>0.25598</td></tr><tr><td>weighted avg_precision</td><td>0.28613</td></tr><tr><td>weighted avg_recall</td><td>0.24395</td></tr><tr><td>weighted avg_support</td><td>10416</td></tr></table><br/></div></div>"
            ]
          },
          "metadata": {}
        },
        {
          "output_type": "display_data",
          "data": {
            "text/plain": [
              "<IPython.core.display.HTML object>"
            ],
            "text/html": [
              " View run <strong style=\"color:#cdcd00\">dazzling-oath-39</strong> at: <a href='https://wandb.ai/leanbiz/thai-address-ner/runs/jvd9rq4j' target=\"_blank\">https://wandb.ai/leanbiz/thai-address-ner/runs/jvd9rq4j</a><br/> View project at: <a href='https://wandb.ai/leanbiz/thai-address-ner' target=\"_blank\">https://wandb.ai/leanbiz/thai-address-ner</a><br/>Synced 5 W&B file(s), 0 media file(s), 2 artifact file(s) and 1 other file(s)"
            ]
          },
          "metadata": {}
        },
        {
          "output_type": "display_data",
          "data": {
            "text/plain": [
              "<IPython.core.display.HTML object>"
            ],
            "text/html": [
              "Find logs at: <code>./wandb/run-20240912_030155-jvd9rq4j/logs</code>"
            ]
          },
          "metadata": {}
        }
      ]
    },
    {
      "cell_type": "code",
      "source": [
        "from tensorflow.keras.models import load_model\n",
        "\n",
        "custom_objects = {'CRF': CRF}\n",
        "model = load_model('/content/drive/MyDrive/address-ner-trainer/train_colab/weights-improvement-20-0.998.hdf5', custom_objects=custom_objects)\n",
        "\n",
        "model.save('/content/drive/MyDrive/address-ner-trainer/train_colab/model.h5')"
      ],
      "metadata": {
        "colab": {
          "base_uri": "https://localhost:8080/"
        },
        "id": "tipRpDYzEzlg",
        "outputId": "192499b1-fda4-4a00-e00f-34357d64ac7e"
      },
      "execution_count": null,
      "outputs": [
        {
          "output_type": "stream",
          "name": "stderr",
          "text": [
            "/usr/local/lib/python3.10/dist-packages/keras/src/engine/training.py:3000: UserWarning: You are saving your model as an HDF5 file via `model.save()`. This file format is considered legacy. We recommend using instead the native Keras format, e.g. `model.save('my_model.keras')`.\n",
            "  saving_api.save_model(\n"
          ]
        }
      ]
    }
  ],
  "metadata": {
    "colab": {
      "provenance": [],
      "machine_shape": "hm",
      "mount_file_id": "1-HTYiCJ9uyfZ01JJEqmUf7vO1gDjrleU",
      "authorship_tag": "ABX9TyPxICuDOzQADwpUTqr6Aqh+",
      "include_colab_link": true
    },
    "kernelspec": {
      "display_name": "Python 3",
      "name": "python3"
    },
    "language_info": {
      "name": "python"
    },
    "widgets": {
      "application/vnd.jupyter.widget-state+json": {
        "4524e27784b14d6787e838dc1237f63b": {
          "model_module": "@jupyter-widgets/controls",
          "model_name": "VBoxModel",
          "model_module_version": "1.5.0",
          "state": {
            "_dom_classes": [],
            "_model_module": "@jupyter-widgets/controls",
            "_model_module_version": "1.5.0",
            "_model_name": "VBoxModel",
            "_view_count": null,
            "_view_module": "@jupyter-widgets/controls",
            "_view_module_version": "1.5.0",
            "_view_name": "VBoxView",
            "box_style": "",
            "children": [
              "IPY_MODEL_e329fe5a96dd44a7932cd05b9df9c981",
              "IPY_MODEL_2d525418f30e4a798564df28c0e94a74"
            ],
            "layout": "IPY_MODEL_438f01c50c6641ce95c5dccffde04978"
          }
        },
        "e329fe5a96dd44a7932cd05b9df9c981": {
          "model_module": "@jupyter-widgets/controls",
          "model_name": "LabelModel",
          "model_module_version": "1.5.0",
          "state": {
            "_dom_classes": [],
            "_model_module": "@jupyter-widgets/controls",
            "_model_module_version": "1.5.0",
            "_model_name": "LabelModel",
            "_view_count": null,
            "_view_module": "@jupyter-widgets/controls",
            "_view_module_version": "1.5.0",
            "_view_name": "LabelView",
            "description": "",
            "description_tooltip": null,
            "layout": "IPY_MODEL_d352c50fde1445e48cc92fe01c45bb5f",
            "placeholder": "​",
            "style": "IPY_MODEL_5181ed3ff9124ac2a8103431c19db3ab",
            "value": "0.021 MB of 0.021 MB uploaded\r"
          }
        },
        "2d525418f30e4a798564df28c0e94a74": {
          "model_module": "@jupyter-widgets/controls",
          "model_name": "FloatProgressModel",
          "model_module_version": "1.5.0",
          "state": {
            "_dom_classes": [],
            "_model_module": "@jupyter-widgets/controls",
            "_model_module_version": "1.5.0",
            "_model_name": "FloatProgressModel",
            "_view_count": null,
            "_view_module": "@jupyter-widgets/controls",
            "_view_module_version": "1.5.0",
            "_view_name": "ProgressView",
            "bar_style": "",
            "description": "",
            "description_tooltip": null,
            "layout": "IPY_MODEL_d35aa22a895d40579bc98393aa332265",
            "max": 1,
            "min": 0,
            "orientation": "horizontal",
            "style": "IPY_MODEL_1463bca5598549569e94e9532cd9cfab",
            "value": 1
          }
        },
        "438f01c50c6641ce95c5dccffde04978": {
          "model_module": "@jupyter-widgets/base",
          "model_name": "LayoutModel",
          "model_module_version": "1.2.0",
          "state": {
            "_model_module": "@jupyter-widgets/base",
            "_model_module_version": "1.2.0",
            "_model_name": "LayoutModel",
            "_view_count": null,
            "_view_module": "@jupyter-widgets/base",
            "_view_module_version": "1.2.0",
            "_view_name": "LayoutView",
            "align_content": null,
            "align_items": null,
            "align_self": null,
            "border": null,
            "bottom": null,
            "display": null,
            "flex": null,
            "flex_flow": null,
            "grid_area": null,
            "grid_auto_columns": null,
            "grid_auto_flow": null,
            "grid_auto_rows": null,
            "grid_column": null,
            "grid_gap": null,
            "grid_row": null,
            "grid_template_areas": null,
            "grid_template_columns": null,
            "grid_template_rows": null,
            "height": null,
            "justify_content": null,
            "justify_items": null,
            "left": null,
            "margin": null,
            "max_height": null,
            "max_width": null,
            "min_height": null,
            "min_width": null,
            "object_fit": null,
            "object_position": null,
            "order": null,
            "overflow": null,
            "overflow_x": null,
            "overflow_y": null,
            "padding": null,
            "right": null,
            "top": null,
            "visibility": null,
            "width": null
          }
        },
        "d352c50fde1445e48cc92fe01c45bb5f": {
          "model_module": "@jupyter-widgets/base",
          "model_name": "LayoutModel",
          "model_module_version": "1.2.0",
          "state": {
            "_model_module": "@jupyter-widgets/base",
            "_model_module_version": "1.2.0",
            "_model_name": "LayoutModel",
            "_view_count": null,
            "_view_module": "@jupyter-widgets/base",
            "_view_module_version": "1.2.0",
            "_view_name": "LayoutView",
            "align_content": null,
            "align_items": null,
            "align_self": null,
            "border": null,
            "bottom": null,
            "display": null,
            "flex": null,
            "flex_flow": null,
            "grid_area": null,
            "grid_auto_columns": null,
            "grid_auto_flow": null,
            "grid_auto_rows": null,
            "grid_column": null,
            "grid_gap": null,
            "grid_row": null,
            "grid_template_areas": null,
            "grid_template_columns": null,
            "grid_template_rows": null,
            "height": null,
            "justify_content": null,
            "justify_items": null,
            "left": null,
            "margin": null,
            "max_height": null,
            "max_width": null,
            "min_height": null,
            "min_width": null,
            "object_fit": null,
            "object_position": null,
            "order": null,
            "overflow": null,
            "overflow_x": null,
            "overflow_y": null,
            "padding": null,
            "right": null,
            "top": null,
            "visibility": null,
            "width": null
          }
        },
        "5181ed3ff9124ac2a8103431c19db3ab": {
          "model_module": "@jupyter-widgets/controls",
          "model_name": "DescriptionStyleModel",
          "model_module_version": "1.5.0",
          "state": {
            "_model_module": "@jupyter-widgets/controls",
            "_model_module_version": "1.5.0",
            "_model_name": "DescriptionStyleModel",
            "_view_count": null,
            "_view_module": "@jupyter-widgets/base",
            "_view_module_version": "1.2.0",
            "_view_name": "StyleView",
            "description_width": ""
          }
        },
        "d35aa22a895d40579bc98393aa332265": {
          "model_module": "@jupyter-widgets/base",
          "model_name": "LayoutModel",
          "model_module_version": "1.2.0",
          "state": {
            "_model_module": "@jupyter-widgets/base",
            "_model_module_version": "1.2.0",
            "_model_name": "LayoutModel",
            "_view_count": null,
            "_view_module": "@jupyter-widgets/base",
            "_view_module_version": "1.2.0",
            "_view_name": "LayoutView",
            "align_content": null,
            "align_items": null,
            "align_self": null,
            "border": null,
            "bottom": null,
            "display": null,
            "flex": null,
            "flex_flow": null,
            "grid_area": null,
            "grid_auto_columns": null,
            "grid_auto_flow": null,
            "grid_auto_rows": null,
            "grid_column": null,
            "grid_gap": null,
            "grid_row": null,
            "grid_template_areas": null,
            "grid_template_columns": null,
            "grid_template_rows": null,
            "height": null,
            "justify_content": null,
            "justify_items": null,
            "left": null,
            "margin": null,
            "max_height": null,
            "max_width": null,
            "min_height": null,
            "min_width": null,
            "object_fit": null,
            "object_position": null,
            "order": null,
            "overflow": null,
            "overflow_x": null,
            "overflow_y": null,
            "padding": null,
            "right": null,
            "top": null,
            "visibility": null,
            "width": null
          }
        },
        "1463bca5598549569e94e9532cd9cfab": {
          "model_module": "@jupyter-widgets/controls",
          "model_name": "ProgressStyleModel",
          "model_module_version": "1.5.0",
          "state": {
            "_model_module": "@jupyter-widgets/controls",
            "_model_module_version": "1.5.0",
            "_model_name": "ProgressStyleModel",
            "_view_count": null,
            "_view_module": "@jupyter-widgets/base",
            "_view_module_version": "1.2.0",
            "_view_name": "StyleView",
            "bar_color": null,
            "description_width": ""
          }
        },
        "86faa2bc8bec496ea90230059fcaba34": {
          "model_module": "@jupyter-widgets/controls",
          "model_name": "VBoxModel",
          "model_module_version": "1.5.0",
          "state": {
            "_dom_classes": [],
            "_model_module": "@jupyter-widgets/controls",
            "_model_module_version": "1.5.0",
            "_model_name": "VBoxModel",
            "_view_count": null,
            "_view_module": "@jupyter-widgets/controls",
            "_view_module_version": "1.5.0",
            "_view_name": "VBoxView",
            "box_style": "",
            "children": [
              "IPY_MODEL_5378a46e5dcb462cb8394614e206be98",
              "IPY_MODEL_c1d6f336bfca4356bf089ec3fef136c0"
            ],
            "layout": "IPY_MODEL_ba820177cd0441d49c2520ae405c643d"
          }
        },
        "5378a46e5dcb462cb8394614e206be98": {
          "model_module": "@jupyter-widgets/controls",
          "model_name": "LabelModel",
          "model_module_version": "1.5.0",
          "state": {
            "_dom_classes": [],
            "_model_module": "@jupyter-widgets/controls",
            "_model_module_version": "1.5.0",
            "_model_name": "LabelModel",
            "_view_count": null,
            "_view_module": "@jupyter-widgets/controls",
            "_view_module_version": "1.5.0",
            "_view_name": "LabelView",
            "description": "",
            "description_tooltip": null,
            "layout": "IPY_MODEL_db156305dc664cb195e37583928d6186",
            "placeholder": "​",
            "style": "IPY_MODEL_dbc5d2ebda5f4e629181aadb60483ffb",
            "value": "0.022 MB of 0.022 MB uploaded\r"
          }
        },
        "c1d6f336bfca4356bf089ec3fef136c0": {
          "model_module": "@jupyter-widgets/controls",
          "model_name": "FloatProgressModel",
          "model_module_version": "1.5.0",
          "state": {
            "_dom_classes": [],
            "_model_module": "@jupyter-widgets/controls",
            "_model_module_version": "1.5.0",
            "_model_name": "FloatProgressModel",
            "_view_count": null,
            "_view_module": "@jupyter-widgets/controls",
            "_view_module_version": "1.5.0",
            "_view_name": "ProgressView",
            "bar_style": "",
            "description": "",
            "description_tooltip": null,
            "layout": "IPY_MODEL_bf320ded80984734972fd22702ef02f9",
            "max": 1,
            "min": 0,
            "orientation": "horizontal",
            "style": "IPY_MODEL_e953783dae1548dfbffe489681f12580",
            "value": 1
          }
        },
        "ba820177cd0441d49c2520ae405c643d": {
          "model_module": "@jupyter-widgets/base",
          "model_name": "LayoutModel",
          "model_module_version": "1.2.0",
          "state": {
            "_model_module": "@jupyter-widgets/base",
            "_model_module_version": "1.2.0",
            "_model_name": "LayoutModel",
            "_view_count": null,
            "_view_module": "@jupyter-widgets/base",
            "_view_module_version": "1.2.0",
            "_view_name": "LayoutView",
            "align_content": null,
            "align_items": null,
            "align_self": null,
            "border": null,
            "bottom": null,
            "display": null,
            "flex": null,
            "flex_flow": null,
            "grid_area": null,
            "grid_auto_columns": null,
            "grid_auto_flow": null,
            "grid_auto_rows": null,
            "grid_column": null,
            "grid_gap": null,
            "grid_row": null,
            "grid_template_areas": null,
            "grid_template_columns": null,
            "grid_template_rows": null,
            "height": null,
            "justify_content": null,
            "justify_items": null,
            "left": null,
            "margin": null,
            "max_height": null,
            "max_width": null,
            "min_height": null,
            "min_width": null,
            "object_fit": null,
            "object_position": null,
            "order": null,
            "overflow": null,
            "overflow_x": null,
            "overflow_y": null,
            "padding": null,
            "right": null,
            "top": null,
            "visibility": null,
            "width": null
          }
        },
        "db156305dc664cb195e37583928d6186": {
          "model_module": "@jupyter-widgets/base",
          "model_name": "LayoutModel",
          "model_module_version": "1.2.0",
          "state": {
            "_model_module": "@jupyter-widgets/base",
            "_model_module_version": "1.2.0",
            "_model_name": "LayoutModel",
            "_view_count": null,
            "_view_module": "@jupyter-widgets/base",
            "_view_module_version": "1.2.0",
            "_view_name": "LayoutView",
            "align_content": null,
            "align_items": null,
            "align_self": null,
            "border": null,
            "bottom": null,
            "display": null,
            "flex": null,
            "flex_flow": null,
            "grid_area": null,
            "grid_auto_columns": null,
            "grid_auto_flow": null,
            "grid_auto_rows": null,
            "grid_column": null,
            "grid_gap": null,
            "grid_row": null,
            "grid_template_areas": null,
            "grid_template_columns": null,
            "grid_template_rows": null,
            "height": null,
            "justify_content": null,
            "justify_items": null,
            "left": null,
            "margin": null,
            "max_height": null,
            "max_width": null,
            "min_height": null,
            "min_width": null,
            "object_fit": null,
            "object_position": null,
            "order": null,
            "overflow": null,
            "overflow_x": null,
            "overflow_y": null,
            "padding": null,
            "right": null,
            "top": null,
            "visibility": null,
            "width": null
          }
        },
        "dbc5d2ebda5f4e629181aadb60483ffb": {
          "model_module": "@jupyter-widgets/controls",
          "model_name": "DescriptionStyleModel",
          "model_module_version": "1.5.0",
          "state": {
            "_model_module": "@jupyter-widgets/controls",
            "_model_module_version": "1.5.0",
            "_model_name": "DescriptionStyleModel",
            "_view_count": null,
            "_view_module": "@jupyter-widgets/base",
            "_view_module_version": "1.2.0",
            "_view_name": "StyleView",
            "description_width": ""
          }
        },
        "bf320ded80984734972fd22702ef02f9": {
          "model_module": "@jupyter-widgets/base",
          "model_name": "LayoutModel",
          "model_module_version": "1.2.0",
          "state": {
            "_model_module": "@jupyter-widgets/base",
            "_model_module_version": "1.2.0",
            "_model_name": "LayoutModel",
            "_view_count": null,
            "_view_module": "@jupyter-widgets/base",
            "_view_module_version": "1.2.0",
            "_view_name": "LayoutView",
            "align_content": null,
            "align_items": null,
            "align_self": null,
            "border": null,
            "bottom": null,
            "display": null,
            "flex": null,
            "flex_flow": null,
            "grid_area": null,
            "grid_auto_columns": null,
            "grid_auto_flow": null,
            "grid_auto_rows": null,
            "grid_column": null,
            "grid_gap": null,
            "grid_row": null,
            "grid_template_areas": null,
            "grid_template_columns": null,
            "grid_template_rows": null,
            "height": null,
            "justify_content": null,
            "justify_items": null,
            "left": null,
            "margin": null,
            "max_height": null,
            "max_width": null,
            "min_height": null,
            "min_width": null,
            "object_fit": null,
            "object_position": null,
            "order": null,
            "overflow": null,
            "overflow_x": null,
            "overflow_y": null,
            "padding": null,
            "right": null,
            "top": null,
            "visibility": null,
            "width": null
          }
        },
        "e953783dae1548dfbffe489681f12580": {
          "model_module": "@jupyter-widgets/controls",
          "model_name": "ProgressStyleModel",
          "model_module_version": "1.5.0",
          "state": {
            "_model_module": "@jupyter-widgets/controls",
            "_model_module_version": "1.5.0",
            "_model_name": "ProgressStyleModel",
            "_view_count": null,
            "_view_module": "@jupyter-widgets/base",
            "_view_module_version": "1.2.0",
            "_view_name": "StyleView",
            "bar_color": null,
            "description_width": ""
          }
        }
      }
    }
  },
  "nbformat": 4,
  "nbformat_minor": 0
}